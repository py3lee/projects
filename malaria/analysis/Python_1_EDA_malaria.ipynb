{
 "cells": [
  {
   "cell_type": "markdown",
   "id": "d6968b17",
   "metadata": {
    "toc": true
   },
   "source": [
    "<h1>Table of Contents<span class=\"tocSkip\"></span></h1>\n",
    "<div class=\"toc\"><ul class=\"toc-item\"><li><span><a href=\"#Introduction\" data-toc-modified-id=\"Introduction-1\"><span class=\"toc-item-num\">1&nbsp;&nbsp;</span>Introduction</a></span><ul class=\"toc-item\"><li><span><a href=\"#What-is-malaria?\" data-toc-modified-id=\"What-is-malaria?-1.1\"><span class=\"toc-item-num\">1.1&nbsp;&nbsp;</span>What is malaria?</a></span></li></ul></li><li><span><a href=\"#Primary-problem-statement\" data-toc-modified-id=\"Primary-problem-statement-2\"><span class=\"toc-item-num\">2&nbsp;&nbsp;</span>Primary problem statement</a></span><ul class=\"toc-item\"><li><span><a href=\"#Dataset\" data-toc-modified-id=\"Dataset-2.1\"><span class=\"toc-item-num\">2.1&nbsp;&nbsp;</span>Dataset</a></span></li><li><span><a href=\"#Data-dictionary\" data-toc-modified-id=\"Data-dictionary-2.2\"><span class=\"toc-item-num\">2.2&nbsp;&nbsp;</span>Data dictionary</a></span></li><li><span><a href=\"#Dataset-limitations\" data-toc-modified-id=\"Dataset-limitations-2.3\"><span class=\"toc-item-num\">2.3&nbsp;&nbsp;</span>Dataset limitations</a></span></li><li><span><a href=\"#Assumptions-in-current-analyses\" data-toc-modified-id=\"Assumptions-in-current-analyses-2.4\"><span class=\"toc-item-num\">2.4&nbsp;&nbsp;</span>Assumptions in current analyses</a></span></li></ul></li><li><span><a href=\"#Import-libraries\" data-toc-modified-id=\"Import-libraries-3\"><span class=\"toc-item-num\">3&nbsp;&nbsp;</span>Import libraries</a></span></li><li><span><a href=\"#Define-functions\" data-toc-modified-id=\"Define-functions-4\"><span class=\"toc-item-num\">4&nbsp;&nbsp;</span>Define functions</a></span></li><li><span><a href=\"#Import-datasets\" data-toc-modified-id=\"Import-datasets-5\"><span class=\"toc-item-num\">5&nbsp;&nbsp;</span>Import datasets</a></span></li><li><span><a href=\"#Initial-exploration-of-each-dataset\" data-toc-modified-id=\"Initial-exploration-of-each-dataset-6\"><span class=\"toc-item-num\">6&nbsp;&nbsp;</span>Initial exploration of each dataset</a></span><ul class=\"toc-item\"><li><span><a href=\"#Malaria-deaths\" data-toc-modified-id=\"Malaria-deaths-6.1\"><span class=\"toc-item-num\">6.1&nbsp;&nbsp;</span>Malaria deaths</a></span><ul class=\"toc-item\"><li><span><a href=\"#Time-frame\" data-toc-modified-id=\"Time-frame-6.1.1\"><span class=\"toc-item-num\">6.1.1&nbsp;&nbsp;</span>Time frame</a></span></li><li><span><a href=\"#Missing-values\" data-toc-modified-id=\"Missing-values-6.1.2\"><span class=\"toc-item-num\">6.1.2&nbsp;&nbsp;</span>Missing values</a></span></li><li><span><a href=\"#Number-of-unique-values-for-each-column\" data-toc-modified-id=\"Number-of-unique-values-for-each-column-6.1.3\"><span class=\"toc-item-num\">6.1.3&nbsp;&nbsp;</span>Number of unique values for each column</a></span></li><li><span><a href=\"#UK-related-entities\" data-toc-modified-id=\"UK-related-entities-6.1.4\"><span class=\"toc-item-num\">6.1.4&nbsp;&nbsp;</span>UK-related entities</a></span></li><li><span><a href=\"#Duplicates\" data-toc-modified-id=\"Duplicates-6.1.5\"><span class=\"toc-item-num\">6.1.5&nbsp;&nbsp;</span>Duplicates</a></span></li><li><span><a href=\"#Sanity-checks-for-each-variable\" data-toc-modified-id=\"Sanity-checks-for-each-variable-6.1.6\"><span class=\"toc-item-num\">6.1.6&nbsp;&nbsp;</span>Sanity checks for each variable</a></span><ul class=\"toc-item\"><li><span><a href=\"#entity\" data-toc-modified-id=\"entity-6.1.6.1\"><span class=\"toc-item-num\">6.1.6.1&nbsp;&nbsp;</span>entity</a></span></li><li><span><a href=\"#code\" data-toc-modified-id=\"code-6.1.6.2\"><span class=\"toc-item-num\">6.1.6.2&nbsp;&nbsp;</span>code</a></span></li><li><span><a href=\"#year\" data-toc-modified-id=\"year-6.1.6.3\"><span class=\"toc-item-num\">6.1.6.3&nbsp;&nbsp;</span>year</a></span></li><li><span><a href=\"#age-standardised-death-rate-per-100,000-people\" data-toc-modified-id=\"age-standardised-death-rate-per-100,000-people-6.1.6.4\"><span class=\"toc-item-num\">6.1.6.4&nbsp;&nbsp;</span>age-standardised death rate per 100,000 people</a></span></li></ul></li><li><span><a href=\"#Considerations-for-inital-data-preprocessing-after-initial-exploration\" data-toc-modified-id=\"Considerations-for-inital-data-preprocessing-after-initial-exploration-6.1.7\"><span class=\"toc-item-num\">6.1.7&nbsp;&nbsp;</span>Considerations for inital data preprocessing after initial exploration</a></span></li></ul></li><li><span><a href=\"#Malaria-deaths-by-age\" data-toc-modified-id=\"Malaria-deaths-by-age-6.2\"><span class=\"toc-item-num\">6.2&nbsp;&nbsp;</span>Malaria deaths by age</a></span><ul class=\"toc-item\"><li><span><a href=\"#Time-frame\" data-toc-modified-id=\"Time-frame-6.2.1\"><span class=\"toc-item-num\">6.2.1&nbsp;&nbsp;</span>Time frame</a></span></li><li><span><a href=\"#Missing-values\" data-toc-modified-id=\"Missing-values-6.2.2\"><span class=\"toc-item-num\">6.2.2&nbsp;&nbsp;</span>Missing values</a></span></li><li><span><a href=\"#Number-of-unique-values-for-each-column\" data-toc-modified-id=\"Number-of-unique-values-for-each-column-6.2.3\"><span class=\"toc-item-num\">6.2.3&nbsp;&nbsp;</span>Number of unique values for each column</a></span></li><li><span><a href=\"#UK-related-entities\" data-toc-modified-id=\"UK-related-entities-6.2.4\"><span class=\"toc-item-num\">6.2.4&nbsp;&nbsp;</span>UK-related entities</a></span></li><li><span><a href=\"#Duplicates\" data-toc-modified-id=\"Duplicates-6.2.5\"><span class=\"toc-item-num\">6.2.5&nbsp;&nbsp;</span>Duplicates</a></span></li><li><span><a href=\"#Sanity-checks-for-each-variable\" data-toc-modified-id=\"Sanity-checks-for-each-variable-6.2.6\"><span class=\"toc-item-num\">6.2.6&nbsp;&nbsp;</span>Sanity checks for each variable</a></span><ul class=\"toc-item\"><li><span><a href=\"#entity\" data-toc-modified-id=\"entity-6.2.6.1\"><span class=\"toc-item-num\">6.2.6.1&nbsp;&nbsp;</span>entity</a></span></li><li><span><a href=\"#code\" data-toc-modified-id=\"code-6.2.6.2\"><span class=\"toc-item-num\">6.2.6.2&nbsp;&nbsp;</span>code</a></span></li><li><span><a href=\"#year\" data-toc-modified-id=\"year-6.2.6.3\"><span class=\"toc-item-num\">6.2.6.3&nbsp;&nbsp;</span>year</a></span></li><li><span><a href=\"#age-group\" data-toc-modified-id=\"age-group-6.2.6.4\"><span class=\"toc-item-num\">6.2.6.4&nbsp;&nbsp;</span>age group</a></span></li><li><span><a href=\"#number-of-deaths\" data-toc-modified-id=\"number-of-deaths-6.2.6.5\"><span class=\"toc-item-num\">6.2.6.5&nbsp;&nbsp;</span>number of deaths</a></span></li></ul></li><li><span><a href=\"#Considerations-for-inital-data-preprocessing-after-initial-exploration\" data-toc-modified-id=\"Considerations-for-inital-data-preprocessing-after-initial-exploration-6.2.7\"><span class=\"toc-item-num\">6.2.7&nbsp;&nbsp;</span>Considerations for inital data preprocessing after initial exploration</a></span></li></ul></li><li><span><a href=\"#Malaria-incidence\" data-toc-modified-id=\"Malaria-incidence-6.3\"><span class=\"toc-item-num\">6.3&nbsp;&nbsp;</span>Malaria incidence</a></span><ul class=\"toc-item\"><li><span><a href=\"#Time-frame\" data-toc-modified-id=\"Time-frame-6.3.1\"><span class=\"toc-item-num\">6.3.1&nbsp;&nbsp;</span>Time frame</a></span></li><li><span><a href=\"#Missing-values\" data-toc-modified-id=\"Missing-values-6.3.2\"><span class=\"toc-item-num\">6.3.2&nbsp;&nbsp;</span>Missing values</a></span></li><li><span><a href=\"#Number-of-unique-values-for-each-column\" data-toc-modified-id=\"Number-of-unique-values-for-each-column-6.3.3\"><span class=\"toc-item-num\">6.3.3&nbsp;&nbsp;</span>Number of unique values for each column</a></span></li><li><span><a href=\"#Duplicates\" data-toc-modified-id=\"Duplicates-6.3.4\"><span class=\"toc-item-num\">6.3.4&nbsp;&nbsp;</span>Duplicates</a></span></li><li><span><a href=\"#Considerations-for-inital-data-preprocessing-after-initial-exploration\" data-toc-modified-id=\"Considerations-for-inital-data-preprocessing-after-initial-exploration-6.3.5\"><span class=\"toc-item-num\">6.3.5&nbsp;&nbsp;</span>Considerations for inital data preprocessing after initial exploration</a></span></li></ul></li></ul></li><li><span><a href=\"#Data-preprocessing-steps-prior-to-visualisation\" data-toc-modified-id=\"Data-preprocessing-steps-prior-to-visualisation-7\"><span class=\"toc-item-num\">7&nbsp;&nbsp;</span>Data preprocessing steps prior to visualisation</a></span><ul class=\"toc-item\"><li><span><a href=\"#malaria_deaths.csv\" data-toc-modified-id=\"malaria_deaths.csv-7.1\"><span class=\"toc-item-num\">7.1&nbsp;&nbsp;</span>malaria_deaths.csv</a></span></li><li><span><a href=\"#malaria_deaths_age.csv\" data-toc-modified-id=\"malaria_deaths_age.csv-7.2\"><span class=\"toc-item-num\">7.2&nbsp;&nbsp;</span>malaria_deaths_age.csv</a></span></li><li><span><a href=\"#malaria_inc.csv\" data-toc-modified-id=\"malaria_inc.csv-7.3\"><span class=\"toc-item-num\">7.3&nbsp;&nbsp;</span>malaria_inc.csv</a></span></li><li><span><a href=\"#save-processed-csv\" data-toc-modified-id=\"save-processed-csv-7.4\"><span class=\"toc-item-num\">7.4&nbsp;&nbsp;</span>save processed csv</a></span></li></ul></li></ul></div>"
   ]
  },
  {
   "cell_type": "markdown",
   "id": "b5438255",
   "metadata": {},
   "source": [
    "# Introduction\n",
    "\n",
    "## What is malaria? \n",
    "\n",
    "[Malaria is a vector-borne parasitic tropical disease, transmitted by the bite of the female *Anopheles* mosquito](https://www.thelancet.com/journals/lancet/article/PIIS0140-6736(18)30324-6/fulltext).  Patients infected by one of the Plasmodium species can experience severe illness and death.\n",
    "\n",
    "\n",
    "# Primary problem statement \n",
    "\n",
    "Is there any observable trend on the incidence of malaria and malaria-related deaths over the years? \n",
    "\n",
    "## Dataset \n",
    "\n",
    "Data Source: https://github.com/rfordatascience/tidytuesday/tree/master/data/2018/2018-11-13  \n",
    "\n",
    "3 Datasets:\n",
    "\n",
    "- malaria_inc.csv - Malaria incidence by country for all ages across the world across time\n",
    "- malaria_deaths.csv - Malaria deaths by country for all ages across the world and time.\n",
    "- malaria_deaths_age.csv - Malaria deaths by age across the world and time.\n",
    "\n",
    "note: unable to trace exact original data sources based on the data provided at https://github.com/rfordatascience/tidytuesday/tree/master/data/2018/2018-11-13.  \n",
    "\n",
    "## Data dictionary\n",
    "\n",
    "- Unable to locate. \n",
    "- It seems like the [3 datasets](https://github.com/rfordatascience/tidytuesday/tree/master/data/2018) are a compilation of variuous aggregate data sources from [Our World in Data](https://ourworldindata.org/malaria#data-sources), which, in turn, used data from various other online sources such as the [World Health Organisation](https://apps.who.int/gho/data/node.main.A1367?lang=en) and [Institute of Health Metrics and Evaluation (IHME), Global Burden of Disease (GBD)](http://ghdx.healthdata.org/gbd-results-tool).   \n",
    "\n",
    "## Dataset limitations  \n",
    "\n",
    "- The current limitations of this dataset (and this current analyses) are related to the data sources. Since the original data dictionary and original raw data sources was unable to be determined, we had to make assumptions on the representation of the values in the dataset.  \n",
    "\n",
    "## Assumptions in current analyses \n",
    "\n",
    "- Assumptions in this current analysis\n",
    "  - Deaths are attributed to malaria, \n",
    "  \n",
    "  - The 'Code' variable in the datasets represent the [3 letter ISO 3166-1 alpha-3 country code](https://en.wikipedia.org/wiki/ISO_3166-1_alpha-3),  \n",
    "  \n",
    "  - SDI refers to ['Socio-demographic Index'](http://ghdx.healthdata.org/record/ihme-data/gbd-2015-socio-demographic-index-sdi-1980%E2%80%932015), which is a summary measure of a geography's socio-demographic development. It is based on average income per person, educational attainment, and total fertility rate (TFR).\n",
    "  \n",
    "  - [Malaria incidence rate (per 1 000 population at risk)](https://www.who.int/data/gho/indicator-metadata-registry/imr-details/4670): refers to the number of malaria cases per 1000 population at risk per year. Population at risk is defined as population living in arease where malaria transmission occurs.  \n",
    "  \n",
    "  - The composite variables/metrics in the current datasets, `'Deaths - Malaria - Sex: Both - Age: Age-standardized (Rate) (per 100,000 people)'` and `'Incidence of malaria (per 1,000 population at risk) (per 1,000 population at risk)'`, were calculated with minimal error and are an accurate representation of the age-standardised malaria death rate (per 100,000 people) and malaria incidence (per 1,000 people) per year respectively.   \n",
    "  \n",
    "  - The baseline population estimates used for the calculation of composite metrics `'Deaths - Malaria - Sex: Both - Age: Age-standardized (Rate) (per 100,000 people)'` and `'Incidence of malaria (per 1,000 population at risk) (per 1,000 population at risk)'` were based on the same population estimates for that particular entity/country for that particular year \n",
    "  "
   ]
  },
  {
   "cell_type": "markdown",
   "id": "80c090f7",
   "metadata": {},
   "source": [
    "# Import libraries"
   ]
  },
  {
   "cell_type": "code",
   "execution_count": 1,
   "id": "1be9c201",
   "metadata": {
    "ExecuteTime": {
     "end_time": "2021-11-15T03:39:26.701115Z",
     "start_time": "2021-11-15T03:39:25.872916Z"
    }
   },
   "outputs": [],
   "source": [
    "import glob\n",
    "import matplotlib.pyplot as plt\n",
    "import numpy as np\n",
    "import pandas as pd\n",
    "from pathlib import Path\n",
    "import seaborn as sns"
   ]
  },
  {
   "cell_type": "markdown",
   "id": "1c184460",
   "metadata": {},
   "source": [
    "# Define functions"
   ]
  },
  {
   "cell_type": "code",
   "execution_count": 2,
   "id": "41c7e263",
   "metadata": {
    "ExecuteTime": {
     "end_time": "2021-11-15T03:39:26.717124Z",
     "start_time": "2021-11-15T03:39:26.702125Z"
    }
   },
   "outputs": [],
   "source": [
    "def check_missing(df):\n",
    "    print(f\"Number of missing or NA values for each column out of {len(df)} rows:\\\n",
    "          \\n {df.isna().sum()}\")\n",
    "    print('#'*40)\n",
    "\n",
    "    print(f\"Percentage of missing or NA values for each column out of {len(df)} rows:\\\n",
    "          \\n {round(df.isna().sum()/len(df)*100)}\")\n",
    "    \n",
    "def check_unique(df):\n",
    "    print(f'Number of unique values for each column out of a total of {len(df)} rows: \\n {df.nunique()}')\n",
    "    \n",
    "def plot_hist(\n",
    "    df: pd.DataFrame,\n",
    "    col: str\n",
    ") -> None:\n",
    "    \"\"\"Plots the distribution of a column in a dataframe using a histogram plot\n",
    "\n",
    "    Args:\n",
    "        df (pd.DataFrame): pandas DataFrame\n",
    "        col (str): Column name \n",
    "    \"\"\"\n",
    "    sns.set()\n",
    "    sns.set_style(\"whitegrid\") \n",
    "    \n",
    "    plt.figure(figsize=(8,6))\n",
    "    plt.title(f'Histogram')\n",
    "    sns.histplot(data= df, x=col, stat='count', bins=50)\n",
    "\n",
    "    plt.show()\n",
    "\n",
    "def plot_box(\n",
    "    df: pd.DataFrame,\n",
    "    x: str,\n",
    "    y: str = None,\n",
    "    hue: str = None\n",
    ") -> None:\n",
    "    \"\"\"Plots a boxplot\n",
    "\n",
    "    Args:\n",
    "        df (pd.DataFrame): pandas DataFrame\n",
    "        x (str): Column variable for x axis of boxplot\n",
    "        y (str): Column vairable for y axis of boxplot. Defaults to None. \n",
    "        hue (str): name of column to use for hue argument in boxplot. Defaults to None. \n",
    "    \"\"\"\n",
    "    sns.set()\n",
    "    sns.set_style(\"whitegrid\")\n",
    "    \n",
    "    plt.figure(figsize=(8,6))\n",
    "    plt.title(f'Boxplot')\n",
    "        \n",
    "    sns.boxplot(data=df, x=x, y=y, hue=hue)\n",
    "    plt.show()\n",
    "\n",
    "def check_continuous(\n",
    "    df: pd.DataFrame,\n",
    "    col: str\n",
    ") -> None:\n",
    "    \"\"\"Checks a continuous variable of a data frame:\n",
    "    Prints out summary statistics, number of missing values and the distribution of the variable\n",
    "\n",
    "    Args:\n",
    "        df (pd.DataFrame): pandas DataFrame\n",
    "        col (str): name of column to evaluate summary statistics and plot distributions\n",
    "    \"\"\"\n",
    "    print(df[col].describe())\n",
    "    \n",
    "    print(f\"There are {df[col].isnull().sum()} missing values\")\n",
    "    \n",
    "    plot_hist(df,col)\n",
    "    \n",
    "    plot_box(df=df, x=col)"
   ]
  },
  {
   "cell_type": "markdown",
   "id": "b9ddd357",
   "metadata": {},
   "source": [
    "# Import datasets"
   ]
  },
  {
   "cell_type": "code",
   "execution_count": 3,
   "id": "7e7a69e5",
   "metadata": {
    "ExecuteTime": {
     "end_time": "2021-11-15T03:39:26.732929Z",
     "start_time": "2021-11-15T03:39:26.717921Z"
    },
    "scrolled": true
   },
   "outputs": [
    {
     "name": "stdout",
     "output_type": "stream",
     "text": [
      "File names of csv files in data folder: ['malaria_deaths', 'malaria_deaths_age', 'malaria_inc']\n"
     ]
    }
   ],
   "source": [
    "data_folder = Path.cwd().parents[0]/'data'\n",
    "\n",
    "# get list of absolute file paths for all csv files in data folder\n",
    "data_filepaths = [file for file in glob.glob(f\"{data_folder}/*.csv\")]\n",
    "\n",
    "print(\n",
    "    f'File names of csv files in data folder: {[Path(file).stem for file in data_filepaths]}'\n",
    ")"
   ]
  },
  {
   "cell_type": "code",
   "execution_count": 4,
   "id": "de1c4153",
   "metadata": {
    "ExecuteTime": {
     "end_time": "2021-11-15T03:39:26.764659Z",
     "start_time": "2021-11-15T03:39:26.733925Z"
    }
   },
   "outputs": [],
   "source": [
    "deaths = pd.read_csv(data_filepaths[0])\n",
    "deaths_age = pd.read_csv(data_filepaths[1])\n",
    "inc = pd.read_csv(data_filepaths[2])"
   ]
  },
  {
   "cell_type": "markdown",
   "id": "f886cc13",
   "metadata": {},
   "source": [
    "# Initial exploration of each dataset"
   ]
  },
  {
   "cell_type": "markdown",
   "id": "98822cf4",
   "metadata": {},
   "source": [
    "## Malaria deaths"
   ]
  },
  {
   "cell_type": "markdown",
   "id": "0c35ed39",
   "metadata": {},
   "source": [
    "From the [data source](https://github.com/rfordatascience/tidytuesday/tree/master/data/2018/2018-11-13):  \n",
    "- [malaria_deaths.csv](https://github.com/rfordatascience/tidytuesday/blob/master/data/2018/2018-11-13/malaria_deaths.csv): Malaria deaths by country for all ages across the world and time."
   ]
  },
  {
   "cell_type": "code",
   "execution_count": 5,
   "id": "5e188fcb",
   "metadata": {
    "ExecuteTime": {
     "end_time": "2021-11-15T03:39:26.779845Z",
     "start_time": "2021-11-15T03:39:26.765344Z"
    },
    "scrolled": true
   },
   "outputs": [
    {
     "name": "stdout",
     "output_type": "stream",
     "text": [
      "Number of rows and columns in dataset: (6156, 4)\n"
     ]
    }
   ],
   "source": [
    "print(f\"Number of rows and columns in dataset: {deaths.shape}\")"
   ]
  },
  {
   "cell_type": "code",
   "execution_count": 6,
   "id": "53c6c4af",
   "metadata": {
    "ExecuteTime": {
     "end_time": "2021-11-15T03:39:26.794811Z",
     "start_time": "2021-11-15T03:39:26.781805Z"
    },
    "scrolled": true
   },
   "outputs": [
    {
     "name": "stdout",
     "output_type": "stream",
     "text": [
      "<class 'pandas.core.frame.DataFrame'>\n",
      "RangeIndex: 6156 entries, 0 to 6155\n",
      "Data columns (total 4 columns):\n",
      " #   Column                                                                            Non-Null Count  Dtype  \n",
      "---  ------                                                                            --------------  -----  \n",
      " 0   Entity                                                                            6156 non-null   object \n",
      " 1   Code                                                                              5292 non-null   object \n",
      " 2   Year                                                                              6156 non-null   int64  \n",
      " 3   Deaths - Malaria - Sex: Both - Age: Age-standardized (Rate) (per 100,000 people)  6156 non-null   float64\n",
      "dtypes: float64(1), int64(1), object(2)\n",
      "memory usage: 192.5+ KB\n"
     ]
    }
   ],
   "source": [
    "deaths.info()"
   ]
  },
  {
   "cell_type": "code",
   "execution_count": 7,
   "id": "ba59e341",
   "metadata": {
    "ExecuteTime": {
     "end_time": "2021-11-15T03:39:26.810812Z",
     "start_time": "2021-11-15T03:39:26.795805Z"
    },
    "scrolled": true
   },
   "outputs": [
    {
     "data": {
      "text/html": [
       "<div>\n",
       "<style scoped>\n",
       "    .dataframe tbody tr th:only-of-type {\n",
       "        vertical-align: middle;\n",
       "    }\n",
       "\n",
       "    .dataframe tbody tr th {\n",
       "        vertical-align: top;\n",
       "    }\n",
       "\n",
       "    .dataframe thead th {\n",
       "        text-align: right;\n",
       "    }\n",
       "</style>\n",
       "<table border=\"1\" class=\"dataframe\">\n",
       "  <thead>\n",
       "    <tr style=\"text-align: right;\">\n",
       "      <th></th>\n",
       "      <th>Entity</th>\n",
       "      <th>Code</th>\n",
       "      <th>Year</th>\n",
       "      <th>Deaths - Malaria - Sex: Both - Age: Age-standardized (Rate) (per 100,000 people)</th>\n",
       "    </tr>\n",
       "  </thead>\n",
       "  <tbody>\n",
       "    <tr>\n",
       "      <th>0</th>\n",
       "      <td>Afghanistan</td>\n",
       "      <td>AFG</td>\n",
       "      <td>1990</td>\n",
       "      <td>6.802930</td>\n",
       "    </tr>\n",
       "    <tr>\n",
       "      <th>1</th>\n",
       "      <td>Afghanistan</td>\n",
       "      <td>AFG</td>\n",
       "      <td>1991</td>\n",
       "      <td>6.973494</td>\n",
       "    </tr>\n",
       "    <tr>\n",
       "      <th>2</th>\n",
       "      <td>Afghanistan</td>\n",
       "      <td>AFG</td>\n",
       "      <td>1992</td>\n",
       "      <td>6.989882</td>\n",
       "    </tr>\n",
       "    <tr>\n",
       "      <th>3</th>\n",
       "      <td>Afghanistan</td>\n",
       "      <td>AFG</td>\n",
       "      <td>1993</td>\n",
       "      <td>7.088983</td>\n",
       "    </tr>\n",
       "    <tr>\n",
       "      <th>4</th>\n",
       "      <td>Afghanistan</td>\n",
       "      <td>AFG</td>\n",
       "      <td>1994</td>\n",
       "      <td>7.392472</td>\n",
       "    </tr>\n",
       "  </tbody>\n",
       "</table>\n",
       "</div>"
      ],
      "text/plain": [
       "        Entity Code  Year  \\\n",
       "0  Afghanistan  AFG  1990   \n",
       "1  Afghanistan  AFG  1991   \n",
       "2  Afghanistan  AFG  1992   \n",
       "3  Afghanistan  AFG  1993   \n",
       "4  Afghanistan  AFG  1994   \n",
       "\n",
       "   Deaths - Malaria - Sex: Both - Age: Age-standardized (Rate) (per 100,000 people)  \n",
       "0                                           6.802930                                 \n",
       "1                                           6.973494                                 \n",
       "2                                           6.989882                                 \n",
       "3                                           7.088983                                 \n",
       "4                                           7.392472                                 "
      ]
     },
     "execution_count": 7,
     "metadata": {},
     "output_type": "execute_result"
    }
   ],
   "source": [
    "deaths.head()"
   ]
  },
  {
   "cell_type": "code",
   "execution_count": 8,
   "id": "3d3d12ab",
   "metadata": {
    "ExecuteTime": {
     "end_time": "2021-11-15T03:39:26.826816Z",
     "start_time": "2021-11-15T03:39:26.811808Z"
    },
    "scrolled": true
   },
   "outputs": [
    {
     "data": {
      "text/html": [
       "<div>\n",
       "<style scoped>\n",
       "    .dataframe tbody tr th:only-of-type {\n",
       "        vertical-align: middle;\n",
       "    }\n",
       "\n",
       "    .dataframe tbody tr th {\n",
       "        vertical-align: top;\n",
       "    }\n",
       "\n",
       "    .dataframe thead th {\n",
       "        text-align: right;\n",
       "    }\n",
       "</style>\n",
       "<table border=\"1\" class=\"dataframe\">\n",
       "  <thead>\n",
       "    <tr style=\"text-align: right;\">\n",
       "      <th></th>\n",
       "      <th>Entity</th>\n",
       "      <th>Code</th>\n",
       "      <th>Year</th>\n",
       "      <th>Deaths - Malaria - Sex: Both - Age: Age-standardized (Rate) (per 100,000 people)</th>\n",
       "    </tr>\n",
       "  </thead>\n",
       "  <tbody>\n",
       "    <tr>\n",
       "      <th>6151</th>\n",
       "      <td>Zimbabwe</td>\n",
       "      <td>ZWE</td>\n",
       "      <td>2012</td>\n",
       "      <td>9.751727</td>\n",
       "    </tr>\n",
       "    <tr>\n",
       "      <th>6152</th>\n",
       "      <td>Zimbabwe</td>\n",
       "      <td>ZWE</td>\n",
       "      <td>2013</td>\n",
       "      <td>9.419939</td>\n",
       "    </tr>\n",
       "    <tr>\n",
       "      <th>6153</th>\n",
       "      <td>Zimbabwe</td>\n",
       "      <td>ZWE</td>\n",
       "      <td>2014</td>\n",
       "      <td>9.487453</td>\n",
       "    </tr>\n",
       "    <tr>\n",
       "      <th>6154</th>\n",
       "      <td>Zimbabwe</td>\n",
       "      <td>ZWE</td>\n",
       "      <td>2015</td>\n",
       "      <td>9.440046</td>\n",
       "    </tr>\n",
       "    <tr>\n",
       "      <th>6155</th>\n",
       "      <td>Zimbabwe</td>\n",
       "      <td>ZWE</td>\n",
       "      <td>2016</td>\n",
       "      <td>9.507309</td>\n",
       "    </tr>\n",
       "  </tbody>\n",
       "</table>\n",
       "</div>"
      ],
      "text/plain": [
       "        Entity Code  Year  \\\n",
       "6151  Zimbabwe  ZWE  2012   \n",
       "6152  Zimbabwe  ZWE  2013   \n",
       "6153  Zimbabwe  ZWE  2014   \n",
       "6154  Zimbabwe  ZWE  2015   \n",
       "6155  Zimbabwe  ZWE  2016   \n",
       "\n",
       "      Deaths - Malaria - Sex: Both - Age: Age-standardized (Rate) (per 100,000 people)  \n",
       "6151                                           9.751727                                 \n",
       "6152                                           9.419939                                 \n",
       "6153                                           9.487453                                 \n",
       "6154                                           9.440046                                 \n",
       "6155                                           9.507309                                 "
      ]
     },
     "execution_count": 8,
     "metadata": {},
     "output_type": "execute_result"
    }
   ],
   "source": [
    "deaths.tail()"
   ]
  },
  {
   "cell_type": "markdown",
   "id": "84e74f86",
   "metadata": {},
   "source": [
    "### Time frame"
   ]
  },
  {
   "cell_type": "code",
   "execution_count": 9,
   "id": "382ebc4b",
   "metadata": {
    "ExecuteTime": {
     "end_time": "2021-11-15T03:39:26.842811Z",
     "start_time": "2021-11-15T03:39:26.828812Z"
    },
    "scrolled": true
   },
   "outputs": [
    {
     "name": "stdout",
     "output_type": "stream",
     "text": [
      "Minimum year: 1990\n",
      "Maximum year: 2016\n"
     ]
    }
   ],
   "source": [
    "print(f\"Minimum year: {deaths.Year.min()}\")\n",
    "print(f\"Maximum year: {deaths.Year.max()}\")"
   ]
  },
  {
   "cell_type": "code",
   "execution_count": 10,
   "id": "cb9f8721",
   "metadata": {
    "ExecuteTime": {
     "end_time": "2021-11-15T03:39:26.858811Z",
     "start_time": "2021-11-15T03:39:26.844812Z"
    }
   },
   "outputs": [
    {
     "data": {
      "text/plain": [
       "1990    228\n",
       "1991    228\n",
       "1992    228\n",
       "1993    228\n",
       "1994    228\n",
       "1995    228\n",
       "1996    228\n",
       "1997    228\n",
       "1998    228\n",
       "1999    228\n",
       "2000    228\n",
       "2001    228\n",
       "2002    228\n",
       "2003    228\n",
       "2004    228\n",
       "2005    228\n",
       "2006    228\n",
       "2007    228\n",
       "2008    228\n",
       "2009    228\n",
       "2010    228\n",
       "2011    228\n",
       "2012    228\n",
       "2013    228\n",
       "2014    228\n",
       "2015    228\n",
       "2016    228\n",
       "Name: Year, dtype: int64"
      ]
     },
     "execution_count": 10,
     "metadata": {},
     "output_type": "execute_result"
    }
   ],
   "source": [
    "# number of rows for each year \n",
    "deaths.Year.value_counts(sort = False, ascending=True)"
   ]
  },
  {
   "cell_type": "markdown",
   "id": "48230e02",
   "metadata": {},
   "source": [
    "So the dataset provides data on the Age-standardized (Rate) (per 100,000 people) for Malaria deaths from 1990 - 2016. There are 228 rows for each year."
   ]
  },
  {
   "cell_type": "markdown",
   "id": "911f9e7c",
   "metadata": {},
   "source": [
    "### Missing values"
   ]
  },
  {
   "cell_type": "code",
   "execution_count": 11,
   "id": "c303910e",
   "metadata": {
    "ExecuteTime": {
     "end_time": "2021-11-15T03:39:26.874811Z",
     "start_time": "2021-11-15T03:39:26.859807Z"
    },
    "scrolled": true
   },
   "outputs": [
    {
     "name": "stdout",
     "output_type": "stream",
     "text": [
      "Number of missing or NA values for each column out of 6156 rows:          \n",
      " Entity                                                                                0\n",
      "Code                                                                                864\n",
      "Year                                                                                  0\n",
      "Deaths - Malaria - Sex: Both - Age: Age-standardized (Rate) (per 100,000 people)      0\n",
      "dtype: int64\n",
      "########################################\n",
      "Percentage of missing or NA values for each column out of 6156 rows:          \n",
      " Entity                                                                               0.0\n",
      "Code                                                                                14.0\n",
      "Year                                                                                 0.0\n",
      "Deaths - Malaria - Sex: Both - Age: Age-standardized (Rate) (per 100,000 people)     0.0\n",
      "dtype: float64\n"
     ]
    }
   ],
   "source": [
    "check_missing(deaths)"
   ]
  },
  {
   "cell_type": "markdown",
   "id": "5a30e9db",
   "metadata": {},
   "source": [
    "**From inspection above**:\n",
    "1) It seems like `'Entity'` could be the country name or region,  \n",
    "2) It seems like `'Entity'` and `'Code'` provide similar information about the country/geographical region. \n",
    "\n",
    "Check the missing values in `'Code'` column to see if they follow a pattern:"
   ]
  },
  {
   "cell_type": "code",
   "execution_count": 12,
   "id": "4c4cfd54",
   "metadata": {
    "ExecuteTime": {
     "end_time": "2021-11-15T03:39:26.890807Z",
     "start_time": "2021-11-15T03:39:26.875807Z"
    },
    "scrolled": false
   },
   "outputs": [
    {
     "data": {
      "text/html": [
       "<div>\n",
       "<style scoped>\n",
       "    .dataframe tbody tr th:only-of-type {\n",
       "        vertical-align: middle;\n",
       "    }\n",
       "\n",
       "    .dataframe tbody tr th {\n",
       "        vertical-align: top;\n",
       "    }\n",
       "\n",
       "    .dataframe thead th {\n",
       "        text-align: right;\n",
       "    }\n",
       "</style>\n",
       "<table border=\"1\" class=\"dataframe\">\n",
       "  <thead>\n",
       "    <tr style=\"text-align: right;\">\n",
       "      <th></th>\n",
       "      <th>Entity</th>\n",
       "      <th>Code</th>\n",
       "      <th>Year</th>\n",
       "      <th>Deaths - Malaria - Sex: Both - Age: Age-standardized (Rate) (per 100,000 people)</th>\n",
       "    </tr>\n",
       "  </thead>\n",
       "  <tbody>\n",
       "    <tr>\n",
       "      <th>108</th>\n",
       "      <td>Andean Latin America</td>\n",
       "      <td>NaN</td>\n",
       "      <td>1990</td>\n",
       "      <td>0.353560</td>\n",
       "    </tr>\n",
       "    <tr>\n",
       "      <th>109</th>\n",
       "      <td>Andean Latin America</td>\n",
       "      <td>NaN</td>\n",
       "      <td>1991</td>\n",
       "      <td>0.349772</td>\n",
       "    </tr>\n",
       "    <tr>\n",
       "      <th>110</th>\n",
       "      <td>Andean Latin America</td>\n",
       "      <td>NaN</td>\n",
       "      <td>1992</td>\n",
       "      <td>0.343963</td>\n",
       "    </tr>\n",
       "    <tr>\n",
       "      <th>111</th>\n",
       "      <td>Andean Latin America</td>\n",
       "      <td>NaN</td>\n",
       "      <td>1993</td>\n",
       "      <td>0.336221</td>\n",
       "    </tr>\n",
       "    <tr>\n",
       "      <th>112</th>\n",
       "      <td>Andean Latin America</td>\n",
       "      <td>NaN</td>\n",
       "      <td>1994</td>\n",
       "      <td>0.315883</td>\n",
       "    </tr>\n",
       "    <tr>\n",
       "      <th>...</th>\n",
       "      <td>...</td>\n",
       "      <td>...</td>\n",
       "      <td>...</td>\n",
       "      <td>...</td>\n",
       "    </tr>\n",
       "    <tr>\n",
       "      <th>6043</th>\n",
       "      <td>Western Sub-Saharan Africa</td>\n",
       "      <td>NaN</td>\n",
       "      <td>2012</td>\n",
       "      <td>101.778544</td>\n",
       "    </tr>\n",
       "    <tr>\n",
       "      <th>6044</th>\n",
       "      <td>Western Sub-Saharan Africa</td>\n",
       "      <td>NaN</td>\n",
       "      <td>2013</td>\n",
       "      <td>96.855639</td>\n",
       "    </tr>\n",
       "    <tr>\n",
       "      <th>6045</th>\n",
       "      <td>Western Sub-Saharan Africa</td>\n",
       "      <td>NaN</td>\n",
       "      <td>2014</td>\n",
       "      <td>93.419458</td>\n",
       "    </tr>\n",
       "    <tr>\n",
       "      <th>6046</th>\n",
       "      <td>Western Sub-Saharan Africa</td>\n",
       "      <td>NaN</td>\n",
       "      <td>2015</td>\n",
       "      <td>90.011194</td>\n",
       "    </tr>\n",
       "    <tr>\n",
       "      <th>6047</th>\n",
       "      <td>Western Sub-Saharan Africa</td>\n",
       "      <td>NaN</td>\n",
       "      <td>2016</td>\n",
       "      <td>87.537183</td>\n",
       "    </tr>\n",
       "  </tbody>\n",
       "</table>\n",
       "<p>864 rows × 4 columns</p>\n",
       "</div>"
      ],
      "text/plain": [
       "                          Entity Code  Year  \\\n",
       "108         Andean Latin America  NaN  1990   \n",
       "109         Andean Latin America  NaN  1991   \n",
       "110         Andean Latin America  NaN  1992   \n",
       "111         Andean Latin America  NaN  1993   \n",
       "112         Andean Latin America  NaN  1994   \n",
       "...                          ...  ...   ...   \n",
       "6043  Western Sub-Saharan Africa  NaN  2012   \n",
       "6044  Western Sub-Saharan Africa  NaN  2013   \n",
       "6045  Western Sub-Saharan Africa  NaN  2014   \n",
       "6046  Western Sub-Saharan Africa  NaN  2015   \n",
       "6047  Western Sub-Saharan Africa  NaN  2016   \n",
       "\n",
       "      Deaths - Malaria - Sex: Both - Age: Age-standardized (Rate) (per 100,000 people)  \n",
       "108                                            0.353560                                 \n",
       "109                                            0.349772                                 \n",
       "110                                            0.343963                                 \n",
       "111                                            0.336221                                 \n",
       "112                                            0.315883                                 \n",
       "...                                                 ...                                 \n",
       "6043                                         101.778544                                 \n",
       "6044                                          96.855639                                 \n",
       "6045                                          93.419458                                 \n",
       "6046                                          90.011194                                 \n",
       "6047                                          87.537183                                 \n",
       "\n",
       "[864 rows x 4 columns]"
      ]
     },
     "execution_count": 12,
     "metadata": {},
     "output_type": "execute_result"
    }
   ],
   "source": [
    "deaths.loc[deaths.Code.isnull(),:]"
   ]
  },
  {
   "cell_type": "markdown",
   "id": "bfa1372a",
   "metadata": {},
   "source": [
    "Checking the `'Entity'` values for the missing values in `'Code'` column:"
   ]
  },
  {
   "cell_type": "code",
   "execution_count": 13,
   "id": "8b30d98f",
   "metadata": {
    "ExecuteTime": {
     "end_time": "2021-11-15T03:39:26.906811Z",
     "start_time": "2021-11-15T03:39:26.891807Z"
    },
    "scrolled": false
   },
   "outputs": [
    {
     "data": {
      "text/plain": [
       "Andean Latin America            27\n",
       "Australasia                     27\n",
       "Western Europe                  27\n",
       "Wales                           27\n",
       "Tropical Latin America          27\n",
       "Sub-Saharan Africa              27\n",
       "Southern Sub-Saharan Africa     27\n",
       "Southern Latin America          27\n",
       "Southeast Asia                  27\n",
       "South Asia                      27\n",
       "Scotland                        27\n",
       "Oceania                         27\n",
       "Northern Ireland                27\n",
       "North America                   27\n",
       "North Africa and Middle East    27\n",
       "Middle SDI                      27\n",
       "Low-middle SDI                  27\n",
       "Low SDI                         27\n",
       "Latin America and Caribbean     27\n",
       "High-middle SDI                 27\n",
       "High-income Asia Pacific        27\n",
       "High SDI                        27\n",
       "England                         27\n",
       "Eastern Sub-Saharan Africa      27\n",
       "Eastern Europe                  27\n",
       "East Asia                       27\n",
       "Central Sub-Saharan Africa      27\n",
       "Central Latin America           27\n",
       "Central Europe                  27\n",
       "Central Asia                    27\n",
       "Caribbean                       27\n",
       "Western Sub-Saharan Africa      27\n",
       "Name: Entity, dtype: int64"
      ]
     },
     "execution_count": 13,
     "metadata": {},
     "output_type": "execute_result"
    }
   ],
   "source": [
    "missing_code = deaths.loc[deaths.Code.isnull(),:]\n",
    "missing_code.Entity.value_counts()"
   ]
  },
  {
   "cell_type": "markdown",
   "id": "886da0ec",
   "metadata": {},
   "source": [
    "The missing values are not missing at random. \n",
    "\n",
    "Missing values for `'Code'` seem to be related to `'Entity` values that correspond to aggregate geographic regions (for example, Southeast Asia/Western Europe) and perhaps aggregate socioeconomic regions (Low SDI/High-income Asia Pacific). However, there are also non-aggregate geographic regions like Wales, England, Scotland, Northern Ireland on the missing list.But isn't Wales, England, Scotland, Northern Ireland under the United Kingdom?\n",
    "\n",
    "Understanding the possible terms: \n",
    "- SDI could mean ['Socio-demographic Index'](http://www.healthdata.org/taxonomy/glossary/socio-demographic-index-sdi): A summary measure that identifies where countries or other geographic areas sit on the spectrum of development. Expressed on a scale of 0 to 1, SDI is a composite average of the rankings of the incomes per capita, average educational attainment, and fertility rates of all areas in the GBD study. GBD = [Global Burden of Disease study](http://www.healthdata.org/gbd/2019)\n",
    "\n",
    "- [Andean Latin America](https://en.wikipedia.org/wiki/Andean_states): seven countries that the Andes runs through (Argentina, Bolivia, Chile, Colombia, Ecuador, Peru, Venezuela) \n",
    "\n",
    "- [Australasia](https://en.wikipedia.org/wiki/Australasia): Australasia is a region which comprises Australia, New Zealand, and some neighbouring islands\n",
    "\n",
    "Let's explore the number of unique values for each column first to understand the missing values better."
   ]
  },
  {
   "cell_type": "markdown",
   "id": "ed8ae431",
   "metadata": {},
   "source": [
    "### Number of unique values for each column"
   ]
  },
  {
   "cell_type": "code",
   "execution_count": 14,
   "id": "4e0ae09f",
   "metadata": {
    "ExecuteTime": {
     "end_time": "2021-11-15T03:39:26.922811Z",
     "start_time": "2021-11-15T03:39:26.907805Z"
    },
    "scrolled": false
   },
   "outputs": [
    {
     "name": "stdout",
     "output_type": "stream",
     "text": [
      "Number of unique values for each column out of a total of 6156 rows: \n",
      " Entity                                                                               228\n",
      "Code                                                                                 196\n",
      "Year                                                                                  27\n",
      "Deaths - Malaria - Sex: Both - Age: Age-standardized (Rate) (per 100,000 people)    3617\n",
      "dtype: int64\n"
     ]
    }
   ],
   "source": [
    "check_unique(deaths)"
   ]
  },
  {
   "cell_type": "markdown",
   "id": "3b9eba7e",
   "metadata": {},
   "source": [
    "What are the unique values for `'Entity'`?"
   ]
  },
  {
   "cell_type": "code",
   "execution_count": 15,
   "id": "1217aef0",
   "metadata": {
    "ExecuteTime": {
     "end_time": "2021-11-15T03:39:26.938811Z",
     "start_time": "2021-11-15T03:39:26.923812Z"
    },
    "scrolled": false
   },
   "outputs": [
    {
     "data": {
      "text/plain": [
       "array(['Afghanistan', 'Albania', 'Algeria', 'American Samoa',\n",
       "       'Andean Latin America', 'Andorra', 'Angola', 'Antigua and Barbuda',\n",
       "       'Argentina', 'Armenia', 'Australasia', 'Australia', 'Austria',\n",
       "       'Azerbaijan', 'Bahamas', 'Bahrain', 'Bangladesh', 'Barbados',\n",
       "       'Belarus', 'Belgium', 'Belize', 'Benin', 'Bermuda', 'Bhutan',\n",
       "       'Bolivia', 'Bosnia and Herzegovina', 'Botswana', 'Brazil',\n",
       "       'Brunei', 'Bulgaria', 'Burkina Faso', 'Burundi', 'Cambodia',\n",
       "       'Cameroon', 'Canada', 'Cape Verde', 'Caribbean',\n",
       "       'Central African Republic', 'Central Asia', 'Central Europe',\n",
       "       'Central Latin America', 'Central Sub-Saharan Africa', 'Chad',\n",
       "       'Chile', 'China', 'Colombia', 'Comoros', 'Congo', 'Costa Rica',\n",
       "       \"Cote d'Ivoire\", 'Croatia', 'Cuba', 'Cyprus', 'Czech Republic',\n",
       "       'Democratic Republic of Congo', 'Denmark', 'Djibouti', 'Dominica',\n",
       "       'Dominican Republic', 'East Asia', 'Eastern Europe',\n",
       "       'Eastern Sub-Saharan Africa', 'Ecuador', 'Egypt', 'El Salvador',\n",
       "       'England', 'Equatorial Guinea', 'Eritrea', 'Estonia', 'Ethiopia',\n",
       "       'Fiji', 'Finland', 'France', 'Gabon', 'Gambia', 'Georgia',\n",
       "       'Germany', 'Ghana', 'Greece', 'Greenland', 'Grenada', 'Guam',\n",
       "       'Guatemala', 'Guinea', 'Guinea-Bissau', 'Guyana', 'Haiti',\n",
       "       'High SDI', 'High-income Asia Pacific', 'High-middle SDI',\n",
       "       'Honduras', 'Hungary', 'Iceland', 'India', 'Indonesia', 'Iran',\n",
       "       'Iraq', 'Ireland', 'Israel', 'Italy', 'Jamaica', 'Japan', 'Jordan',\n",
       "       'Kazakhstan', 'Kenya', 'Kiribati', 'Kuwait', 'Kyrgyzstan', 'Laos',\n",
       "       'Latin America and Caribbean', 'Latvia', 'Lebanon', 'Lesotho',\n",
       "       'Liberia', 'Libya', 'Lithuania', 'Low SDI', 'Low-middle SDI',\n",
       "       'Luxembourg', 'Macedonia', 'Madagascar', 'Malawi', 'Malaysia',\n",
       "       'Maldives', 'Mali', 'Malta', 'Marshall Islands', 'Mauritania',\n",
       "       'Mauritius', 'Mexico', 'Micronesia (country)', 'Middle SDI',\n",
       "       'Moldova', 'Mongolia', 'Montenegro', 'Morocco', 'Mozambique',\n",
       "       'Myanmar', 'Namibia', 'Nepal', 'Netherlands', 'New Zealand',\n",
       "       'Nicaragua', 'Niger', 'Nigeria', 'North Africa and Middle East',\n",
       "       'North America', 'North Korea', 'Northern Ireland',\n",
       "       'Northern Mariana Islands', 'Norway', 'Oceania', 'Oman',\n",
       "       'Pakistan', 'Palestine', 'Panama', 'Papua New Guinea', 'Paraguay',\n",
       "       'Peru', 'Philippines', 'Poland', 'Portugal', 'Puerto Rico',\n",
       "       'Qatar', 'Romania', 'Russia', 'Rwanda', 'Saint Lucia',\n",
       "       'Saint Vincent and the Grenadines', 'Samoa',\n",
       "       'Sao Tome and Principe', 'Saudi Arabia', 'Scotland', 'Senegal',\n",
       "       'Serbia', 'Seychelles', 'Sierra Leone', 'Singapore', 'Slovakia',\n",
       "       'Slovenia', 'Solomon Islands', 'Somalia', 'South Africa',\n",
       "       'South Asia', 'South Korea', 'South Sudan', 'Southeast Asia',\n",
       "       'Southern Latin America', 'Southern Sub-Saharan Africa', 'Spain',\n",
       "       'Sri Lanka', 'Sub-Saharan Africa', 'Sudan', 'Suriname',\n",
       "       'Swaziland', 'Sweden', 'Switzerland', 'Syria', 'Taiwan',\n",
       "       'Tajikistan', 'Tanzania', 'Thailand', 'Timor', 'Togo', 'Tonga',\n",
       "       'Trinidad and Tobago', 'Tropical Latin America', 'Tunisia',\n",
       "       'Turkey', 'Turkmenistan', 'Uganda', 'Ukraine',\n",
       "       'United Arab Emirates', 'United Kingdom', 'United States',\n",
       "       'United States Virgin Islands', 'Uruguay', 'Uzbekistan', 'Vanuatu',\n",
       "       'Venezuela', 'Vietnam', 'Wales', 'Western Europe',\n",
       "       'Western Sub-Saharan Africa', 'World', 'Yemen', 'Zambia',\n",
       "       'Zimbabwe'], dtype=object)"
      ]
     },
     "execution_count": 15,
     "metadata": {},
     "output_type": "execute_result"
    }
   ],
   "source": [
    "deaths.Entity.unique()"
   ]
  },
  {
   "cell_type": "markdown",
   "id": "54c6b191",
   "metadata": {},
   "source": [
    "Seems like `'Entity'` is a combination of aggregate geographic regions (World, Central Europe etc), socio-economic status (high SDI), social-economic status and geographic region (High-income Asia Pacific), and countries (eg. Singapore)"
   ]
  },
  {
   "cell_type": "markdown",
   "id": "c8eae016",
   "metadata": {},
   "source": [
    "Checking `'Code'` column unique values:"
   ]
  },
  {
   "cell_type": "code",
   "execution_count": 16,
   "id": "817b3aea",
   "metadata": {
    "ExecuteTime": {
     "end_time": "2021-11-15T03:39:26.954812Z",
     "start_time": "2021-11-15T03:39:26.939812Z"
    },
    "scrolled": false
   },
   "outputs": [
    {
     "data": {
      "text/plain": [
       "array(['AFG', 'ALB', 'DZA', 'ASM', nan, 'AND', 'AGO', 'ATG', 'ARG', 'ARM',\n",
       "       'AUS', 'AUT', 'AZE', 'BHS', 'BHR', 'BGD', 'BRB', 'BLR', 'BEL',\n",
       "       'BLZ', 'BEN', 'BMU', 'BTN', 'BOL', 'BIH', 'BWA', 'BRA', 'BRN',\n",
       "       'BGR', 'BFA', 'BDI', 'KHM', 'CMR', 'CAN', 'CPV', 'CAF', 'TCD',\n",
       "       'CHL', 'CHN', 'COL', 'COM', 'COG', 'CRI', 'CIV', 'HRV', 'CUB',\n",
       "       'CYP', 'CZE', 'COD', 'DNK', 'DJI', 'DMA', 'DOM', 'ECU', 'EGY',\n",
       "       'SLV', 'GNQ', 'ERI', 'EST', 'ETH', 'FJI', 'FIN', 'FRA', 'GAB',\n",
       "       'GMB', 'GEO', 'DEU', 'GHA', 'GRC', 'GRL', 'GRD', 'GUM', 'GTM',\n",
       "       'GIN', 'GNB', 'GUY', 'HTI', 'HND', 'HUN', 'ISL', 'IND', 'IDN',\n",
       "       'IRN', 'IRQ', 'IRL', 'ISR', 'ITA', 'JAM', 'JPN', 'JOR', 'KAZ',\n",
       "       'KEN', 'KIR', 'KWT', 'KGZ', 'LAO', 'LVA', 'LBN', 'LSO', 'LBR',\n",
       "       'LBY', 'LTU', 'LUX', 'MKD', 'MDG', 'MWI', 'MYS', 'MDV', 'MLI',\n",
       "       'MLT', 'MHL', 'MRT', 'MUS', 'MEX', 'FSM', 'MDA', 'MNG', 'MNE',\n",
       "       'MAR', 'MOZ', 'MMR', 'NAM', 'NPL', 'NLD', 'NZL', 'NIC', 'NER',\n",
       "       'NGA', 'PRK', 'MNP', 'NOR', 'OMN', 'PAK', 'PSE', 'PAN', 'PNG',\n",
       "       'PRY', 'PER', 'PHL', 'POL', 'PRT', 'PRI', 'QAT', 'ROU', 'RUS',\n",
       "       'RWA', 'LCA', 'VCT', 'WSM', 'STP', 'SAU', 'SEN', 'SRB', 'SYC',\n",
       "       'SLE', 'SGP', 'SVK', 'SVN', 'SLB', 'SOM', 'ZAF', 'KOR', 'SSD',\n",
       "       'ESP', 'LKA', 'SDN', 'SUR', 'SWZ', 'SWE', 'CHE', 'SYR', 'TWN',\n",
       "       'TJK', 'TZA', 'THA', 'TLS', 'TGO', 'TON', 'TTO', 'TUN', 'TUR',\n",
       "       'TKM', 'UGA', 'UKR', 'ARE', 'GBR', 'USA', 'VIR', 'URY', 'UZB',\n",
       "       'VUT', 'VEN', 'VNM', 'OWID_WRL', 'YEM', 'ZMB', 'ZWE'], dtype=object)"
      ]
     },
     "execution_count": 16,
     "metadata": {},
     "output_type": "execute_result"
    }
   ],
   "source": [
    "deaths.Code.unique()"
   ]
  },
  {
   "cell_type": "markdown",
   "id": "ca3be40d",
   "metadata": {},
   "source": [
    "So earlier in the exploration, the missing values for `'Code'` seem to be related to `'Entity` values that correspond to aggregate geographic regions (for example, Southeast Asia/Western Europe) and perhaps aggregate socioeconomic regions (Low SDI/High-income Asia Pacific). \n",
    "\n",
    "However, there are also non-aggregate geographic regions like Wales, England, Scotland, Northern Ireland on the missing list. From the unique values of `'Entity`, 'United Kingdom' is also on the list. Wales, England, Scotland, Northern Ireland are part of 'United Kingdom'. \n",
    "\n",
    "Let's check the dataset for this subset of United Kingdom entities:"
   ]
  },
  {
   "cell_type": "markdown",
   "id": "85fc36fb",
   "metadata": {},
   "source": [
    "### UK-related entities"
   ]
  },
  {
   "cell_type": "code",
   "execution_count": 17,
   "id": "d81b3874",
   "metadata": {
    "ExecuteTime": {
     "end_time": "2021-11-15T03:39:26.970812Z",
     "start_time": "2021-11-15T03:39:26.955812Z"
    }
   },
   "outputs": [],
   "source": [
    "uk_list = ['Wales', 'England', 'Scotland', 'Northern Ireland', 'United Kingdom']\n",
    "uk_entities = deaths.loc[deaths.Entity.isin(uk_list),:]"
   ]
  },
  {
   "cell_type": "code",
   "execution_count": 18,
   "id": "ff034086",
   "metadata": {
    "ExecuteTime": {
     "end_time": "2021-11-15T03:39:26.986812Z",
     "start_time": "2021-11-15T03:39:26.971807Z"
    }
   },
   "outputs": [
    {
     "name": "stdout",
     "output_type": "stream",
     "text": [
      "<class 'pandas.core.frame.DataFrame'>\n",
      "Int64Index: 135 entries, 1755 to 5993\n",
      "Data columns (total 4 columns):\n",
      " #   Column                                                                            Non-Null Count  Dtype  \n",
      "---  ------                                                                            --------------  -----  \n",
      " 0   Entity                                                                            135 non-null    object \n",
      " 1   Code                                                                              27 non-null     object \n",
      " 2   Year                                                                              135 non-null    int64  \n",
      " 3   Deaths - Malaria - Sex: Both - Age: Age-standardized (Rate) (per 100,000 people)  135 non-null    float64\n",
      "dtypes: float64(1), int64(1), object(2)\n",
      "memory usage: 5.3+ KB\n"
     ]
    }
   ],
   "source": [
    "uk_entities.info()"
   ]
  },
  {
   "cell_type": "code",
   "execution_count": 19,
   "id": "f09e99ef",
   "metadata": {
    "ExecuteTime": {
     "end_time": "2021-11-15T03:39:27.001805Z",
     "start_time": "2021-11-15T03:39:26.987805Z"
    }
   },
   "outputs": [
    {
     "data": {
      "text/plain": [
       "GBR    27\n",
       "Name: Code, dtype: int64"
      ]
     },
     "execution_count": 19,
     "metadata": {},
     "output_type": "execute_result"
    }
   ],
   "source": [
    "uk_entities.Code.value_counts()"
   ]
  },
  {
   "cell_type": "code",
   "execution_count": 20,
   "id": "e3ecb5d2",
   "metadata": {
    "ExecuteTime": {
     "end_time": "2021-11-15T03:39:27.016811Z",
     "start_time": "2021-11-15T03:39:27.002812Z"
    }
   },
   "outputs": [
    {
     "data": {
      "text/html": [
       "<div>\n",
       "<style scoped>\n",
       "    .dataframe tbody tr th:only-of-type {\n",
       "        vertical-align: middle;\n",
       "    }\n",
       "\n",
       "    .dataframe tbody tr th {\n",
       "        vertical-align: top;\n",
       "    }\n",
       "\n",
       "    .dataframe thead th {\n",
       "        text-align: right;\n",
       "    }\n",
       "</style>\n",
       "<table border=\"1\" class=\"dataframe\">\n",
       "  <thead>\n",
       "    <tr style=\"text-align: right;\">\n",
       "      <th></th>\n",
       "      <th>Entity</th>\n",
       "      <th>Code</th>\n",
       "      <th>Year</th>\n",
       "      <th>Deaths - Malaria - Sex: Both - Age: Age-standardized (Rate) (per 100,000 people)</th>\n",
       "    </tr>\n",
       "  </thead>\n",
       "  <tbody>\n",
       "    <tr>\n",
       "      <th>1755</th>\n",
       "      <td>England</td>\n",
       "      <td>NaN</td>\n",
       "      <td>1990</td>\n",
       "      <td>0.0</td>\n",
       "    </tr>\n",
       "    <tr>\n",
       "      <th>1756</th>\n",
       "      <td>England</td>\n",
       "      <td>NaN</td>\n",
       "      <td>1991</td>\n",
       "      <td>0.0</td>\n",
       "    </tr>\n",
       "    <tr>\n",
       "      <th>1757</th>\n",
       "      <td>England</td>\n",
       "      <td>NaN</td>\n",
       "      <td>1992</td>\n",
       "      <td>0.0</td>\n",
       "    </tr>\n",
       "    <tr>\n",
       "      <th>1758</th>\n",
       "      <td>England</td>\n",
       "      <td>NaN</td>\n",
       "      <td>1993</td>\n",
       "      <td>0.0</td>\n",
       "    </tr>\n",
       "    <tr>\n",
       "      <th>1759</th>\n",
       "      <td>England</td>\n",
       "      <td>NaN</td>\n",
       "      <td>1994</td>\n",
       "      <td>0.0</td>\n",
       "    </tr>\n",
       "    <tr>\n",
       "      <th>...</th>\n",
       "      <td>...</td>\n",
       "      <td>...</td>\n",
       "      <td>...</td>\n",
       "      <td>...</td>\n",
       "    </tr>\n",
       "    <tr>\n",
       "      <th>5989</th>\n",
       "      <td>Wales</td>\n",
       "      <td>NaN</td>\n",
       "      <td>2012</td>\n",
       "      <td>0.0</td>\n",
       "    </tr>\n",
       "    <tr>\n",
       "      <th>5990</th>\n",
       "      <td>Wales</td>\n",
       "      <td>NaN</td>\n",
       "      <td>2013</td>\n",
       "      <td>0.0</td>\n",
       "    </tr>\n",
       "    <tr>\n",
       "      <th>5991</th>\n",
       "      <td>Wales</td>\n",
       "      <td>NaN</td>\n",
       "      <td>2014</td>\n",
       "      <td>0.0</td>\n",
       "    </tr>\n",
       "    <tr>\n",
       "      <th>5992</th>\n",
       "      <td>Wales</td>\n",
       "      <td>NaN</td>\n",
       "      <td>2015</td>\n",
       "      <td>0.0</td>\n",
       "    </tr>\n",
       "    <tr>\n",
       "      <th>5993</th>\n",
       "      <td>Wales</td>\n",
       "      <td>NaN</td>\n",
       "      <td>2016</td>\n",
       "      <td>0.0</td>\n",
       "    </tr>\n",
       "  </tbody>\n",
       "</table>\n",
       "<p>135 rows × 4 columns</p>\n",
       "</div>"
      ],
      "text/plain": [
       "       Entity Code  Year  \\\n",
       "1755  England  NaN  1990   \n",
       "1756  England  NaN  1991   \n",
       "1757  England  NaN  1992   \n",
       "1758  England  NaN  1993   \n",
       "1759  England  NaN  1994   \n",
       "...       ...  ...   ...   \n",
       "5989    Wales  NaN  2012   \n",
       "5990    Wales  NaN  2013   \n",
       "5991    Wales  NaN  2014   \n",
       "5992    Wales  NaN  2015   \n",
       "5993    Wales  NaN  2016   \n",
       "\n",
       "      Deaths - Malaria - Sex: Both - Age: Age-standardized (Rate) (per 100,000 people)  \n",
       "1755                                                0.0                                 \n",
       "1756                                                0.0                                 \n",
       "1757                                                0.0                                 \n",
       "1758                                                0.0                                 \n",
       "1759                                                0.0                                 \n",
       "...                                                 ...                                 \n",
       "5989                                                0.0                                 \n",
       "5990                                                0.0                                 \n",
       "5991                                                0.0                                 \n",
       "5992                                                0.0                                 \n",
       "5993                                                0.0                                 \n",
       "\n",
       "[135 rows x 4 columns]"
      ]
     },
     "execution_count": 20,
     "metadata": {},
     "output_type": "execute_result"
    }
   ],
   "source": [
    "uk_entities"
   ]
  },
  {
   "cell_type": "code",
   "execution_count": 21,
   "id": "63e5fffc",
   "metadata": {
    "ExecuteTime": {
     "end_time": "2021-11-15T03:39:27.032811Z",
     "start_time": "2021-11-15T03:39:27.017805Z"
    },
    "scrolled": false
   },
   "outputs": [
    {
     "data": {
      "text/plain": [
       "count    135.0\n",
       "mean       0.0\n",
       "std        0.0\n",
       "min        0.0\n",
       "25%        0.0\n",
       "50%        0.0\n",
       "75%        0.0\n",
       "max        0.0\n",
       "Name: Deaths - Malaria - Sex: Both - Age: Age-standardized (Rate) (per 100,000 people), dtype: float64"
      ]
     },
     "execution_count": 21,
     "metadata": {},
     "output_type": "execute_result"
    }
   ],
   "source": [
    "uk_entities.loc[:,\"Deaths - Malaria - Sex: Both - Age: Age-standardized (Rate) (per 100,000 people)\"].describe()"
   ]
  },
  {
   "cell_type": "markdown",
   "id": "1fa7d2a9",
   "metadata": {},
   "source": [
    "All of the age-standardized malaria deaths in the UK-related entities are 0. From a quick scan of the literature, malaria is not endemic in the UK; [only 9-15 deaths are reported annually](https://pmj.bmj.com/content/80/949/663). Therefore the observed 0.0 values for 'Deaths - Malaria - Sex: Both - Age: Age-standardized (Rate) (per 100,000 people)' for the UK-related entities are likely due to the very small number of deaths per 100,000 people.  \n",
    "\n",
    "**Considerations for UK-related entities**:\n",
    "- impute the missing `'Code'` values for 'Wales', 'England', 'Scotland', 'Northern Ireland' as 'GBR' as they represent the same geographic region of the United Kingdom  "
   ]
  },
  {
   "cell_type": "markdown",
   "id": "c5760e50",
   "metadata": {},
   "source": [
    "### Duplicates"
   ]
  },
  {
   "cell_type": "code",
   "execution_count": 22,
   "id": "17c12019",
   "metadata": {
    "ExecuteTime": {
     "end_time": "2021-11-15T03:39:27.048811Z",
     "start_time": "2021-11-15T03:39:27.033812Z"
    }
   },
   "outputs": [
    {
     "name": "stdout",
     "output_type": "stream",
     "text": [
      "There are 0 complete duplicate rows in this dataset\n"
     ]
    }
   ],
   "source": [
    "print(f\"There are {deaths.duplicated().sum()} complete duplicate rows in this dataset\")"
   ]
  },
  {
   "cell_type": "markdown",
   "id": "88660d68",
   "metadata": {},
   "source": [
    "### Sanity checks for each variable"
   ]
  },
  {
   "cell_type": "markdown",
   "id": "b531d5fc",
   "metadata": {},
   "source": [
    "#### entity"
   ]
  },
  {
   "cell_type": "code",
   "execution_count": 23,
   "id": "73dabc7c",
   "metadata": {
    "ExecuteTime": {
     "end_time": "2021-11-15T03:39:27.064811Z",
     "start_time": "2021-11-15T03:39:27.049805Z"
    },
    "scrolled": false
   },
   "outputs": [
    {
     "data": {
      "text/plain": [
       "Afghanistan                     27\n",
       "Niger                           27\n",
       "North Africa and Middle East    27\n",
       "North America                   27\n",
       "North Korea                     27\n",
       "                                ..\n",
       "Greenland                       27\n",
       "Grenada                         27\n",
       "Guam                            27\n",
       "Guatemala                       27\n",
       "Zimbabwe                        27\n",
       "Name: Entity, Length: 228, dtype: int64"
      ]
     },
     "execution_count": 23,
     "metadata": {},
     "output_type": "execute_result"
    }
   ],
   "source": [
    "deaths.Entity.value_counts(dropna=False)"
   ]
  },
  {
   "cell_type": "code",
   "execution_count": 24,
   "id": "732410ce",
   "metadata": {
    "ExecuteTime": {
     "end_time": "2021-11-15T03:39:27.080811Z",
     "start_time": "2021-11-15T03:39:27.065806Z"
    }
   },
   "outputs": [
    {
     "data": {
      "text/plain": [
       "True"
      ]
     },
     "execution_count": 24,
     "metadata": {},
     "output_type": "execute_result"
    }
   ],
   "source": [
    "all(deaths.Entity.value_counts(dropna=False) == 27)"
   ]
  },
  {
   "cell_type": "markdown",
   "id": "18246968",
   "metadata": {},
   "source": [
    "All of the counts for each unique Entity are 27"
   ]
  },
  {
   "cell_type": "markdown",
   "id": "c70f4399",
   "metadata": {},
   "source": [
    "Exploring a random Entity:"
   ]
  },
  {
   "cell_type": "code",
   "execution_count": 25,
   "id": "9a0300bf",
   "metadata": {
    "ExecuteTime": {
     "end_time": "2021-11-15T03:39:27.096484Z",
     "start_time": "2021-11-15T03:39:27.081807Z"
    }
   },
   "outputs": [
    {
     "data": {
      "text/html": [
       "<div>\n",
       "<style scoped>\n",
       "    .dataframe tbody tr th:only-of-type {\n",
       "        vertical-align: middle;\n",
       "    }\n",
       "\n",
       "    .dataframe tbody tr th {\n",
       "        vertical-align: top;\n",
       "    }\n",
       "\n",
       "    .dataframe thead th {\n",
       "        text-align: right;\n",
       "    }\n",
       "</style>\n",
       "<table border=\"1\" class=\"dataframe\">\n",
       "  <thead>\n",
       "    <tr style=\"text-align: right;\">\n",
       "      <th></th>\n",
       "      <th>Entity</th>\n",
       "      <th>Code</th>\n",
       "      <th>Year</th>\n",
       "      <th>Deaths - Malaria - Sex: Both - Age: Age-standardized (Rate) (per 100,000 people)</th>\n",
       "    </tr>\n",
       "  </thead>\n",
       "  <tbody>\n",
       "    <tr>\n",
       "      <th>3024</th>\n",
       "      <td>Lesotho</td>\n",
       "      <td>LSO</td>\n",
       "      <td>1990</td>\n",
       "      <td>0.0</td>\n",
       "    </tr>\n",
       "    <tr>\n",
       "      <th>3025</th>\n",
       "      <td>Lesotho</td>\n",
       "      <td>LSO</td>\n",
       "      <td>1991</td>\n",
       "      <td>0.0</td>\n",
       "    </tr>\n",
       "    <tr>\n",
       "      <th>3026</th>\n",
       "      <td>Lesotho</td>\n",
       "      <td>LSO</td>\n",
       "      <td>1992</td>\n",
       "      <td>0.0</td>\n",
       "    </tr>\n",
       "    <tr>\n",
       "      <th>3027</th>\n",
       "      <td>Lesotho</td>\n",
       "      <td>LSO</td>\n",
       "      <td>1993</td>\n",
       "      <td>0.0</td>\n",
       "    </tr>\n",
       "    <tr>\n",
       "      <th>3028</th>\n",
       "      <td>Lesotho</td>\n",
       "      <td>LSO</td>\n",
       "      <td>1994</td>\n",
       "      <td>0.0</td>\n",
       "    </tr>\n",
       "    <tr>\n",
       "      <th>3029</th>\n",
       "      <td>Lesotho</td>\n",
       "      <td>LSO</td>\n",
       "      <td>1995</td>\n",
       "      <td>0.0</td>\n",
       "    </tr>\n",
       "    <tr>\n",
       "      <th>3030</th>\n",
       "      <td>Lesotho</td>\n",
       "      <td>LSO</td>\n",
       "      <td>1996</td>\n",
       "      <td>0.0</td>\n",
       "    </tr>\n",
       "    <tr>\n",
       "      <th>3031</th>\n",
       "      <td>Lesotho</td>\n",
       "      <td>LSO</td>\n",
       "      <td>1997</td>\n",
       "      <td>0.0</td>\n",
       "    </tr>\n",
       "    <tr>\n",
       "      <th>3032</th>\n",
       "      <td>Lesotho</td>\n",
       "      <td>LSO</td>\n",
       "      <td>1998</td>\n",
       "      <td>0.0</td>\n",
       "    </tr>\n",
       "    <tr>\n",
       "      <th>3033</th>\n",
       "      <td>Lesotho</td>\n",
       "      <td>LSO</td>\n",
       "      <td>1999</td>\n",
       "      <td>0.0</td>\n",
       "    </tr>\n",
       "    <tr>\n",
       "      <th>3034</th>\n",
       "      <td>Lesotho</td>\n",
       "      <td>LSO</td>\n",
       "      <td>2000</td>\n",
       "      <td>0.0</td>\n",
       "    </tr>\n",
       "    <tr>\n",
       "      <th>3035</th>\n",
       "      <td>Lesotho</td>\n",
       "      <td>LSO</td>\n",
       "      <td>2001</td>\n",
       "      <td>0.0</td>\n",
       "    </tr>\n",
       "    <tr>\n",
       "      <th>3036</th>\n",
       "      <td>Lesotho</td>\n",
       "      <td>LSO</td>\n",
       "      <td>2002</td>\n",
       "      <td>0.0</td>\n",
       "    </tr>\n",
       "    <tr>\n",
       "      <th>3037</th>\n",
       "      <td>Lesotho</td>\n",
       "      <td>LSO</td>\n",
       "      <td>2003</td>\n",
       "      <td>0.0</td>\n",
       "    </tr>\n",
       "    <tr>\n",
       "      <th>3038</th>\n",
       "      <td>Lesotho</td>\n",
       "      <td>LSO</td>\n",
       "      <td>2004</td>\n",
       "      <td>0.0</td>\n",
       "    </tr>\n",
       "    <tr>\n",
       "      <th>3039</th>\n",
       "      <td>Lesotho</td>\n",
       "      <td>LSO</td>\n",
       "      <td>2005</td>\n",
       "      <td>0.0</td>\n",
       "    </tr>\n",
       "    <tr>\n",
       "      <th>3040</th>\n",
       "      <td>Lesotho</td>\n",
       "      <td>LSO</td>\n",
       "      <td>2006</td>\n",
       "      <td>0.0</td>\n",
       "    </tr>\n",
       "    <tr>\n",
       "      <th>3041</th>\n",
       "      <td>Lesotho</td>\n",
       "      <td>LSO</td>\n",
       "      <td>2007</td>\n",
       "      <td>0.0</td>\n",
       "    </tr>\n",
       "    <tr>\n",
       "      <th>3042</th>\n",
       "      <td>Lesotho</td>\n",
       "      <td>LSO</td>\n",
       "      <td>2008</td>\n",
       "      <td>0.0</td>\n",
       "    </tr>\n",
       "    <tr>\n",
       "      <th>3043</th>\n",
       "      <td>Lesotho</td>\n",
       "      <td>LSO</td>\n",
       "      <td>2009</td>\n",
       "      <td>0.0</td>\n",
       "    </tr>\n",
       "    <tr>\n",
       "      <th>3044</th>\n",
       "      <td>Lesotho</td>\n",
       "      <td>LSO</td>\n",
       "      <td>2010</td>\n",
       "      <td>0.0</td>\n",
       "    </tr>\n",
       "    <tr>\n",
       "      <th>3045</th>\n",
       "      <td>Lesotho</td>\n",
       "      <td>LSO</td>\n",
       "      <td>2011</td>\n",
       "      <td>0.0</td>\n",
       "    </tr>\n",
       "    <tr>\n",
       "      <th>3046</th>\n",
       "      <td>Lesotho</td>\n",
       "      <td>LSO</td>\n",
       "      <td>2012</td>\n",
       "      <td>0.0</td>\n",
       "    </tr>\n",
       "    <tr>\n",
       "      <th>3047</th>\n",
       "      <td>Lesotho</td>\n",
       "      <td>LSO</td>\n",
       "      <td>2013</td>\n",
       "      <td>0.0</td>\n",
       "    </tr>\n",
       "    <tr>\n",
       "      <th>3048</th>\n",
       "      <td>Lesotho</td>\n",
       "      <td>LSO</td>\n",
       "      <td>2014</td>\n",
       "      <td>0.0</td>\n",
       "    </tr>\n",
       "    <tr>\n",
       "      <th>3049</th>\n",
       "      <td>Lesotho</td>\n",
       "      <td>LSO</td>\n",
       "      <td>2015</td>\n",
       "      <td>0.0</td>\n",
       "    </tr>\n",
       "    <tr>\n",
       "      <th>3050</th>\n",
       "      <td>Lesotho</td>\n",
       "      <td>LSO</td>\n",
       "      <td>2016</td>\n",
       "      <td>0.0</td>\n",
       "    </tr>\n",
       "  </tbody>\n",
       "</table>\n",
       "</div>"
      ],
      "text/plain": [
       "       Entity Code  Year  \\\n",
       "3024  Lesotho  LSO  1990   \n",
       "3025  Lesotho  LSO  1991   \n",
       "3026  Lesotho  LSO  1992   \n",
       "3027  Lesotho  LSO  1993   \n",
       "3028  Lesotho  LSO  1994   \n",
       "3029  Lesotho  LSO  1995   \n",
       "3030  Lesotho  LSO  1996   \n",
       "3031  Lesotho  LSO  1997   \n",
       "3032  Lesotho  LSO  1998   \n",
       "3033  Lesotho  LSO  1999   \n",
       "3034  Lesotho  LSO  2000   \n",
       "3035  Lesotho  LSO  2001   \n",
       "3036  Lesotho  LSO  2002   \n",
       "3037  Lesotho  LSO  2003   \n",
       "3038  Lesotho  LSO  2004   \n",
       "3039  Lesotho  LSO  2005   \n",
       "3040  Lesotho  LSO  2006   \n",
       "3041  Lesotho  LSO  2007   \n",
       "3042  Lesotho  LSO  2008   \n",
       "3043  Lesotho  LSO  2009   \n",
       "3044  Lesotho  LSO  2010   \n",
       "3045  Lesotho  LSO  2011   \n",
       "3046  Lesotho  LSO  2012   \n",
       "3047  Lesotho  LSO  2013   \n",
       "3048  Lesotho  LSO  2014   \n",
       "3049  Lesotho  LSO  2015   \n",
       "3050  Lesotho  LSO  2016   \n",
       "\n",
       "      Deaths - Malaria - Sex: Both - Age: Age-standardized (Rate) (per 100,000 people)  \n",
       "3024                                                0.0                                 \n",
       "3025                                                0.0                                 \n",
       "3026                                                0.0                                 \n",
       "3027                                                0.0                                 \n",
       "3028                                                0.0                                 \n",
       "3029                                                0.0                                 \n",
       "3030                                                0.0                                 \n",
       "3031                                                0.0                                 \n",
       "3032                                                0.0                                 \n",
       "3033                                                0.0                                 \n",
       "3034                                                0.0                                 \n",
       "3035                                                0.0                                 \n",
       "3036                                                0.0                                 \n",
       "3037                                                0.0                                 \n",
       "3038                                                0.0                                 \n",
       "3039                                                0.0                                 \n",
       "3040                                                0.0                                 \n",
       "3041                                                0.0                                 \n",
       "3042                                                0.0                                 \n",
       "3043                                                0.0                                 \n",
       "3044                                                0.0                                 \n",
       "3045                                                0.0                                 \n",
       "3046                                                0.0                                 \n",
       "3047                                                0.0                                 \n",
       "3048                                                0.0                                 \n",
       "3049                                                0.0                                 \n",
       "3050                                                0.0                                 "
      ]
     },
     "execution_count": 25,
     "metadata": {},
     "output_type": "execute_result"
    }
   ],
   "source": [
    "deaths.loc[deaths.Entity == 'Lesotho', :]"
   ]
  },
  {
   "cell_type": "markdown",
   "id": "77f26a8a",
   "metadata": {},
   "source": [
    "#### code"
   ]
  },
  {
   "cell_type": "code",
   "execution_count": 26,
   "id": "588486ea",
   "metadata": {
    "ExecuteTime": {
     "end_time": "2021-11-15T03:39:27.112454Z",
     "start_time": "2021-11-15T03:39:27.097446Z"
    },
    "scrolled": true
   },
   "outputs": [
    {
     "data": {
      "text/plain": [
       "NaN    864\n",
       "AFG     27\n",
       "PRY     27\n",
       "NER     27\n",
       "NGA     27\n",
       "      ... \n",
       "GRC     27\n",
       "GRL     27\n",
       "GRD     27\n",
       "GUM     27\n",
       "ZWE     27\n",
       "Name: Code, Length: 197, dtype: int64"
      ]
     },
     "execution_count": 26,
     "metadata": {},
     "output_type": "execute_result"
    }
   ],
   "source": [
    "deaths.Code.value_counts(dropna=False)"
   ]
  },
  {
   "cell_type": "code",
   "execution_count": 27,
   "id": "43f78beb",
   "metadata": {
    "ExecuteTime": {
     "end_time": "2021-11-15T03:39:27.128488Z",
     "start_time": "2021-11-15T03:39:27.114448Z"
    }
   },
   "outputs": [
    {
     "data": {
      "text/plain": [
       "True"
      ]
     },
     "execution_count": 27,
     "metadata": {},
     "output_type": "execute_result"
    }
   ],
   "source": [
    "all(deaths.Code.value_counts(dropna=True) == 27)"
   ]
  },
  {
   "cell_type": "markdown",
   "id": "22c2fd69",
   "metadata": {},
   "source": [
    "All of the counts for each unique (non-NA) Code are 27"
   ]
  },
  {
   "cell_type": "markdown",
   "id": "692663a8",
   "metadata": {},
   "source": [
    "Exploring a random country code:"
   ]
  },
  {
   "cell_type": "code",
   "execution_count": 28,
   "id": "adf0ede1",
   "metadata": {
    "ExecuteTime": {
     "end_time": "2021-11-15T03:39:27.144452Z",
     "start_time": "2021-11-15T03:39:27.131481Z"
    }
   },
   "outputs": [
    {
     "data": {
      "text/html": [
       "<div>\n",
       "<style scoped>\n",
       "    .dataframe tbody tr th:only-of-type {\n",
       "        vertical-align: middle;\n",
       "    }\n",
       "\n",
       "    .dataframe tbody tr th {\n",
       "        vertical-align: top;\n",
       "    }\n",
       "\n",
       "    .dataframe thead th {\n",
       "        text-align: right;\n",
       "    }\n",
       "</style>\n",
       "<table border=\"1\" class=\"dataframe\">\n",
       "  <thead>\n",
       "    <tr style=\"text-align: right;\">\n",
       "      <th></th>\n",
       "      <th>Entity</th>\n",
       "      <th>Code</th>\n",
       "      <th>Year</th>\n",
       "      <th>Deaths - Malaria - Sex: Both - Age: Age-standardized (Rate) (per 100,000 people)</th>\n",
       "    </tr>\n",
       "  </thead>\n",
       "  <tbody>\n",
       "    <tr>\n",
       "      <th>2106</th>\n",
       "      <td>Greece</td>\n",
       "      <td>GRC</td>\n",
       "      <td>1990</td>\n",
       "      <td>0.0</td>\n",
       "    </tr>\n",
       "    <tr>\n",
       "      <th>2107</th>\n",
       "      <td>Greece</td>\n",
       "      <td>GRC</td>\n",
       "      <td>1991</td>\n",
       "      <td>0.0</td>\n",
       "    </tr>\n",
       "    <tr>\n",
       "      <th>2108</th>\n",
       "      <td>Greece</td>\n",
       "      <td>GRC</td>\n",
       "      <td>1992</td>\n",
       "      <td>0.0</td>\n",
       "    </tr>\n",
       "    <tr>\n",
       "      <th>2109</th>\n",
       "      <td>Greece</td>\n",
       "      <td>GRC</td>\n",
       "      <td>1993</td>\n",
       "      <td>0.0</td>\n",
       "    </tr>\n",
       "    <tr>\n",
       "      <th>2110</th>\n",
       "      <td>Greece</td>\n",
       "      <td>GRC</td>\n",
       "      <td>1994</td>\n",
       "      <td>0.0</td>\n",
       "    </tr>\n",
       "    <tr>\n",
       "      <th>2111</th>\n",
       "      <td>Greece</td>\n",
       "      <td>GRC</td>\n",
       "      <td>1995</td>\n",
       "      <td>0.0</td>\n",
       "    </tr>\n",
       "    <tr>\n",
       "      <th>2112</th>\n",
       "      <td>Greece</td>\n",
       "      <td>GRC</td>\n",
       "      <td>1996</td>\n",
       "      <td>0.0</td>\n",
       "    </tr>\n",
       "    <tr>\n",
       "      <th>2113</th>\n",
       "      <td>Greece</td>\n",
       "      <td>GRC</td>\n",
       "      <td>1997</td>\n",
       "      <td>0.0</td>\n",
       "    </tr>\n",
       "    <tr>\n",
       "      <th>2114</th>\n",
       "      <td>Greece</td>\n",
       "      <td>GRC</td>\n",
       "      <td>1998</td>\n",
       "      <td>0.0</td>\n",
       "    </tr>\n",
       "    <tr>\n",
       "      <th>2115</th>\n",
       "      <td>Greece</td>\n",
       "      <td>GRC</td>\n",
       "      <td>1999</td>\n",
       "      <td>0.0</td>\n",
       "    </tr>\n",
       "    <tr>\n",
       "      <th>2116</th>\n",
       "      <td>Greece</td>\n",
       "      <td>GRC</td>\n",
       "      <td>2000</td>\n",
       "      <td>0.0</td>\n",
       "    </tr>\n",
       "    <tr>\n",
       "      <th>2117</th>\n",
       "      <td>Greece</td>\n",
       "      <td>GRC</td>\n",
       "      <td>2001</td>\n",
       "      <td>0.0</td>\n",
       "    </tr>\n",
       "    <tr>\n",
       "      <th>2118</th>\n",
       "      <td>Greece</td>\n",
       "      <td>GRC</td>\n",
       "      <td>2002</td>\n",
       "      <td>0.0</td>\n",
       "    </tr>\n",
       "    <tr>\n",
       "      <th>2119</th>\n",
       "      <td>Greece</td>\n",
       "      <td>GRC</td>\n",
       "      <td>2003</td>\n",
       "      <td>0.0</td>\n",
       "    </tr>\n",
       "    <tr>\n",
       "      <th>2120</th>\n",
       "      <td>Greece</td>\n",
       "      <td>GRC</td>\n",
       "      <td>2004</td>\n",
       "      <td>0.0</td>\n",
       "    </tr>\n",
       "    <tr>\n",
       "      <th>2121</th>\n",
       "      <td>Greece</td>\n",
       "      <td>GRC</td>\n",
       "      <td>2005</td>\n",
       "      <td>0.0</td>\n",
       "    </tr>\n",
       "    <tr>\n",
       "      <th>2122</th>\n",
       "      <td>Greece</td>\n",
       "      <td>GRC</td>\n",
       "      <td>2006</td>\n",
       "      <td>0.0</td>\n",
       "    </tr>\n",
       "    <tr>\n",
       "      <th>2123</th>\n",
       "      <td>Greece</td>\n",
       "      <td>GRC</td>\n",
       "      <td>2007</td>\n",
       "      <td>0.0</td>\n",
       "    </tr>\n",
       "    <tr>\n",
       "      <th>2124</th>\n",
       "      <td>Greece</td>\n",
       "      <td>GRC</td>\n",
       "      <td>2008</td>\n",
       "      <td>0.0</td>\n",
       "    </tr>\n",
       "    <tr>\n",
       "      <th>2125</th>\n",
       "      <td>Greece</td>\n",
       "      <td>GRC</td>\n",
       "      <td>2009</td>\n",
       "      <td>0.0</td>\n",
       "    </tr>\n",
       "    <tr>\n",
       "      <th>2126</th>\n",
       "      <td>Greece</td>\n",
       "      <td>GRC</td>\n",
       "      <td>2010</td>\n",
       "      <td>0.0</td>\n",
       "    </tr>\n",
       "    <tr>\n",
       "      <th>2127</th>\n",
       "      <td>Greece</td>\n",
       "      <td>GRC</td>\n",
       "      <td>2011</td>\n",
       "      <td>0.0</td>\n",
       "    </tr>\n",
       "    <tr>\n",
       "      <th>2128</th>\n",
       "      <td>Greece</td>\n",
       "      <td>GRC</td>\n",
       "      <td>2012</td>\n",
       "      <td>0.0</td>\n",
       "    </tr>\n",
       "    <tr>\n",
       "      <th>2129</th>\n",
       "      <td>Greece</td>\n",
       "      <td>GRC</td>\n",
       "      <td>2013</td>\n",
       "      <td>0.0</td>\n",
       "    </tr>\n",
       "    <tr>\n",
       "      <th>2130</th>\n",
       "      <td>Greece</td>\n",
       "      <td>GRC</td>\n",
       "      <td>2014</td>\n",
       "      <td>0.0</td>\n",
       "    </tr>\n",
       "    <tr>\n",
       "      <th>2131</th>\n",
       "      <td>Greece</td>\n",
       "      <td>GRC</td>\n",
       "      <td>2015</td>\n",
       "      <td>0.0</td>\n",
       "    </tr>\n",
       "    <tr>\n",
       "      <th>2132</th>\n",
       "      <td>Greece</td>\n",
       "      <td>GRC</td>\n",
       "      <td>2016</td>\n",
       "      <td>0.0</td>\n",
       "    </tr>\n",
       "  </tbody>\n",
       "</table>\n",
       "</div>"
      ],
      "text/plain": [
       "      Entity Code  Year  \\\n",
       "2106  Greece  GRC  1990   \n",
       "2107  Greece  GRC  1991   \n",
       "2108  Greece  GRC  1992   \n",
       "2109  Greece  GRC  1993   \n",
       "2110  Greece  GRC  1994   \n",
       "2111  Greece  GRC  1995   \n",
       "2112  Greece  GRC  1996   \n",
       "2113  Greece  GRC  1997   \n",
       "2114  Greece  GRC  1998   \n",
       "2115  Greece  GRC  1999   \n",
       "2116  Greece  GRC  2000   \n",
       "2117  Greece  GRC  2001   \n",
       "2118  Greece  GRC  2002   \n",
       "2119  Greece  GRC  2003   \n",
       "2120  Greece  GRC  2004   \n",
       "2121  Greece  GRC  2005   \n",
       "2122  Greece  GRC  2006   \n",
       "2123  Greece  GRC  2007   \n",
       "2124  Greece  GRC  2008   \n",
       "2125  Greece  GRC  2009   \n",
       "2126  Greece  GRC  2010   \n",
       "2127  Greece  GRC  2011   \n",
       "2128  Greece  GRC  2012   \n",
       "2129  Greece  GRC  2013   \n",
       "2130  Greece  GRC  2014   \n",
       "2131  Greece  GRC  2015   \n",
       "2132  Greece  GRC  2016   \n",
       "\n",
       "      Deaths - Malaria - Sex: Both - Age: Age-standardized (Rate) (per 100,000 people)  \n",
       "2106                                                0.0                                 \n",
       "2107                                                0.0                                 \n",
       "2108                                                0.0                                 \n",
       "2109                                                0.0                                 \n",
       "2110                                                0.0                                 \n",
       "2111                                                0.0                                 \n",
       "2112                                                0.0                                 \n",
       "2113                                                0.0                                 \n",
       "2114                                                0.0                                 \n",
       "2115                                                0.0                                 \n",
       "2116                                                0.0                                 \n",
       "2117                                                0.0                                 \n",
       "2118                                                0.0                                 \n",
       "2119                                                0.0                                 \n",
       "2120                                                0.0                                 \n",
       "2121                                                0.0                                 \n",
       "2122                                                0.0                                 \n",
       "2123                                                0.0                                 \n",
       "2124                                                0.0                                 \n",
       "2125                                                0.0                                 \n",
       "2126                                                0.0                                 \n",
       "2127                                                0.0                                 \n",
       "2128                                                0.0                                 \n",
       "2129                                                0.0                                 \n",
       "2130                                                0.0                                 \n",
       "2131                                                0.0                                 \n",
       "2132                                                0.0                                 "
      ]
     },
     "execution_count": 28,
     "metadata": {},
     "output_type": "execute_result"
    }
   ],
   "source": [
    "deaths.loc[deaths.Code == 'GRC', :]"
   ]
  },
  {
   "cell_type": "markdown",
   "id": "5ad5fde7",
   "metadata": {},
   "source": [
    "#### year"
   ]
  },
  {
   "cell_type": "code",
   "execution_count": 29,
   "id": "41c56087",
   "metadata": {
    "ExecuteTime": {
     "end_time": "2021-11-15T03:39:27.160489Z",
     "start_time": "2021-11-15T03:39:27.145448Z"
    },
    "scrolled": false
   },
   "outputs": [
    {
     "data": {
      "text/plain": [
       "1990    228\n",
       "1991    228\n",
       "1992    228\n",
       "1993    228\n",
       "1994    228\n",
       "1995    228\n",
       "1996    228\n",
       "1997    228\n",
       "1998    228\n",
       "1999    228\n",
       "2000    228\n",
       "2001    228\n",
       "2002    228\n",
       "2003    228\n",
       "2004    228\n",
       "2005    228\n",
       "2006    228\n",
       "2007    228\n",
       "2008    228\n",
       "2009    228\n",
       "2010    228\n",
       "2011    228\n",
       "2012    228\n",
       "2013    228\n",
       "2014    228\n",
       "2015    228\n",
       "2016    228\n",
       "Name: Year, dtype: int64"
      ]
     },
     "execution_count": 29,
     "metadata": {},
     "output_type": "execute_result"
    }
   ],
   "source": [
    "deaths.Year.value_counts(sort = False, ascending=True, dropna=False)"
   ]
  },
  {
   "cell_type": "markdown",
   "id": "6a5ad182",
   "metadata": {},
   "source": [
    "#### age-standardised death rate per 100,000 people"
   ]
  },
  {
   "cell_type": "code",
   "execution_count": 30,
   "id": "4be31412",
   "metadata": {
    "ExecuteTime": {
     "end_time": "2021-11-15T03:39:27.458709Z",
     "start_time": "2021-11-15T03:39:27.161843Z"
    }
   },
   "outputs": [
    {
     "name": "stdout",
     "output_type": "stream",
     "text": [
      "count    6156.000000\n",
      "mean       16.375074\n",
      "std        38.606219\n",
      "min         0.000000\n",
      "25%         0.000000\n",
      "50%         0.020219\n",
      "75%         3.891035\n",
      "max       229.228881\n",
      "Name: Deaths - Malaria - Sex: Both - Age: Age-standardized (Rate) (per 100,000 people), dtype: float64\n",
      "There are 0 missing values\n"
     ]
    },
    {
     "data": {
      "image/png": "[encoded data removed]",
      "text/plain": [
       "<Figure size 576x432 with 1 Axes>"
      ]
     },
     "metadata": {},
     "output_type": "display_data"
    },
    {
     "data": {
      "image/png": "[encoded data removed]",
      "text/plain": [
       "<Figure size 576x432 with 1 Axes>"
      ]
     },
     "metadata": {},
     "output_type": "display_data"
    }
   ],
   "source": [
    "check_continuous(\n",
    "    deaths,\n",
    "    'Deaths - Malaria - Sex: Both - Age: Age-standardized (Rate) (per 100,000 people)'\n",
    ")"
   ]
  },
  {
   "cell_type": "markdown",
   "id": "19d757fa",
   "metadata": {},
   "source": [
    "### Considerations for inital data preprocessing after initial exploration"
   ]
  },
  {
   "cell_type": "markdown",
   "id": "fe980513",
   "metadata": {},
   "source": [
    "There are only [195 countries in the world](https://en.wikipedia.org/wiki/List_of_countries_and_dependencies_by_area). The 196 observed in the `'Code'` column is likely due to nan, as observed earlier in `section 6.1.3  Number of unique values for each column`.  \n",
    "\n",
    "The 27 rows for each Entity and Code are due to the 27 years' data (1990 - 2016).  \n",
    "\n",
    "**Data processing steps for this dataset**:  \n",
    "1. Tidy up column names:\n",
    "  - lowercase all column names\n",
    "  - shorten column name for `'Deaths - Malaria - Sex: Both - Age: Age-standardized (Rate) (per 100,000 people)'` to `'age_std_death_rate'`  \n",
    "2. Impute the missing `'Code'` values for 'Wales', 'England', 'Scotland', 'Northern Ireland' as 'GBR' as they represent the same geographic region of the United Kingdom   \n",
    "3. Add a new column `'entity_type'` to allow subsetting of entity types:  \n",
    "  - `'Region'` : aggregated geographic regions, \n",
    "  - `'SDI`: Socio-demographic Index status  \n",
    "  - `'Country'`: entities with non-NA `'Code'` values  \n",
    "  - `'World'`: global aggregate, as indicated by entity value == 'World' "
   ]
  },
  {
   "cell_type": "markdown",
   "id": "390a74ca",
   "metadata": {},
   "source": [
    "## Malaria deaths by age"
   ]
  },
  {
   "cell_type": "markdown",
   "id": "7ef37da2",
   "metadata": {},
   "source": [
    "From the [data source](https://github.com/rfordatascience/tidytuesday/tree/master/data/2018/2018-11-13):  \n",
    "- [malaria_deaths_age.csv](https://github.com/rfordatascience/tidytuesday/blob/master/data/2018/2018-11-13/malaria_deaths_age.csv) - Malaria deaths by age across the world and time."
   ]
  },
  {
   "cell_type": "code",
   "execution_count": 31,
   "id": "b6eeac07",
   "metadata": {
    "ExecuteTime": {
     "end_time": "2021-11-15T03:39:27.474724Z",
     "start_time": "2021-11-15T03:39:27.459681Z"
    }
   },
   "outputs": [
    {
     "name": "stdout",
     "output_type": "stream",
     "text": [
      "Number of rows and columns in dataset: (30780, 6)\n"
     ]
    }
   ],
   "source": [
    "print(f\"Number of rows and columns in dataset: {deaths_age.shape}\")"
   ]
  },
  {
   "cell_type": "code",
   "execution_count": 32,
   "id": "e53d22c9",
   "metadata": {
    "ExecuteTime": {
     "end_time": "2021-11-15T03:39:27.490681Z",
     "start_time": "2021-11-15T03:39:27.475686Z"
    },
    "scrolled": true
   },
   "outputs": [
    {
     "name": "stdout",
     "output_type": "stream",
     "text": [
      "<class 'pandas.core.frame.DataFrame'>\n",
      "RangeIndex: 30780 entries, 0 to 30779\n",
      "Data columns (total 6 columns):\n",
      " #   Column      Non-Null Count  Dtype  \n",
      "---  ------      --------------  -----  \n",
      " 0   Unnamed: 0  30780 non-null  int64  \n",
      " 1   entity      30780 non-null  object \n",
      " 2   code        26460 non-null  object \n",
      " 3   year        30780 non-null  int64  \n",
      " 4   age_group   30780 non-null  object \n",
      " 5   deaths      30780 non-null  float64\n",
      "dtypes: float64(1), int64(2), object(3)\n",
      "memory usage: 1.4+ MB\n"
     ]
    }
   ],
   "source": [
    "deaths_age.info()"
   ]
  },
  {
   "cell_type": "code",
   "execution_count": 33,
   "id": "97129871",
   "metadata": {
    "ExecuteTime": {
     "end_time": "2021-11-15T03:39:27.506687Z",
     "start_time": "2021-11-15T03:39:27.491681Z"
    }
   },
   "outputs": [
    {
     "data": {
      "text/html": [
       "<div>\n",
       "<style scoped>\n",
       "    .dataframe tbody tr th:only-of-type {\n",
       "        vertical-align: middle;\n",
       "    }\n",
       "\n",
       "    .dataframe tbody tr th {\n",
       "        vertical-align: top;\n",
       "    }\n",
       "\n",
       "    .dataframe thead th {\n",
       "        text-align: right;\n",
       "    }\n",
       "</style>\n",
       "<table border=\"1\" class=\"dataframe\">\n",
       "  <thead>\n",
       "    <tr style=\"text-align: right;\">\n",
       "      <th></th>\n",
       "      <th>Unnamed: 0</th>\n",
       "      <th>entity</th>\n",
       "      <th>code</th>\n",
       "      <th>year</th>\n",
       "      <th>age_group</th>\n",
       "      <th>deaths</th>\n",
       "    </tr>\n",
       "  </thead>\n",
       "  <tbody>\n",
       "    <tr>\n",
       "      <th>0</th>\n",
       "      <td>1</td>\n",
       "      <td>Afghanistan</td>\n",
       "      <td>AFG</td>\n",
       "      <td>1990</td>\n",
       "      <td>Under 5</td>\n",
       "      <td>184.606435</td>\n",
       "    </tr>\n",
       "    <tr>\n",
       "      <th>1</th>\n",
       "      <td>2</td>\n",
       "      <td>Afghanistan</td>\n",
       "      <td>AFG</td>\n",
       "      <td>1991</td>\n",
       "      <td>Under 5</td>\n",
       "      <td>191.658193</td>\n",
       "    </tr>\n",
       "    <tr>\n",
       "      <th>2</th>\n",
       "      <td>3</td>\n",
       "      <td>Afghanistan</td>\n",
       "      <td>AFG</td>\n",
       "      <td>1992</td>\n",
       "      <td>Under 5</td>\n",
       "      <td>197.140197</td>\n",
       "    </tr>\n",
       "    <tr>\n",
       "      <th>3</th>\n",
       "      <td>4</td>\n",
       "      <td>Afghanistan</td>\n",
       "      <td>AFG</td>\n",
       "      <td>1993</td>\n",
       "      <td>Under 5</td>\n",
       "      <td>207.357753</td>\n",
       "    </tr>\n",
       "    <tr>\n",
       "      <th>4</th>\n",
       "      <td>5</td>\n",
       "      <td>Afghanistan</td>\n",
       "      <td>AFG</td>\n",
       "      <td>1994</td>\n",
       "      <td>Under 5</td>\n",
       "      <td>226.209363</td>\n",
       "    </tr>\n",
       "  </tbody>\n",
       "</table>\n",
       "</div>"
      ],
      "text/plain": [
       "   Unnamed: 0       entity code  year age_group      deaths\n",
       "0           1  Afghanistan  AFG  1990   Under 5  184.606435\n",
       "1           2  Afghanistan  AFG  1991   Under 5  191.658193\n",
       "2           3  Afghanistan  AFG  1992   Under 5  197.140197\n",
       "3           4  Afghanistan  AFG  1993   Under 5  207.357753\n",
       "4           5  Afghanistan  AFG  1994   Under 5  226.209363"
      ]
     },
     "execution_count": 33,
     "metadata": {},
     "output_type": "execute_result"
    }
   ],
   "source": [
    "deaths_age.head()"
   ]
  },
  {
   "cell_type": "code",
   "execution_count": 34,
   "id": "91e00ceb",
   "metadata": {
    "ExecuteTime": {
     "end_time": "2021-11-15T03:39:27.522721Z",
     "start_time": "2021-11-15T03:39:27.507688Z"
    },
    "scrolled": false
   },
   "outputs": [
    {
     "data": {
      "text/html": [
       "<div>\n",
       "<style scoped>\n",
       "    .dataframe tbody tr th:only-of-type {\n",
       "        vertical-align: middle;\n",
       "    }\n",
       "\n",
       "    .dataframe tbody tr th {\n",
       "        vertical-align: top;\n",
       "    }\n",
       "\n",
       "    .dataframe thead th {\n",
       "        text-align: right;\n",
       "    }\n",
       "</style>\n",
       "<table border=\"1\" class=\"dataframe\">\n",
       "  <thead>\n",
       "    <tr style=\"text-align: right;\">\n",
       "      <th></th>\n",
       "      <th>Unnamed: 0</th>\n",
       "      <th>entity</th>\n",
       "      <th>code</th>\n",
       "      <th>year</th>\n",
       "      <th>age_group</th>\n",
       "      <th>deaths</th>\n",
       "    </tr>\n",
       "  </thead>\n",
       "  <tbody>\n",
       "    <tr>\n",
       "      <th>30775</th>\n",
       "      <td>30776</td>\n",
       "      <td>Zimbabwe</td>\n",
       "      <td>ZWE</td>\n",
       "      <td>2012</td>\n",
       "      <td>50-69</td>\n",
       "      <td>103.185111</td>\n",
       "    </tr>\n",
       "    <tr>\n",
       "      <th>30776</th>\n",
       "      <td>30777</td>\n",
       "      <td>Zimbabwe</td>\n",
       "      <td>ZWE</td>\n",
       "      <td>2013</td>\n",
       "      <td>50-69</td>\n",
       "      <td>100.113293</td>\n",
       "    </tr>\n",
       "    <tr>\n",
       "      <th>30777</th>\n",
       "      <td>30778</td>\n",
       "      <td>Zimbabwe</td>\n",
       "      <td>ZWE</td>\n",
       "      <td>2014</td>\n",
       "      <td>50-69</td>\n",
       "      <td>99.013890</td>\n",
       "    </tr>\n",
       "    <tr>\n",
       "      <th>30778</th>\n",
       "      <td>30779</td>\n",
       "      <td>Zimbabwe</td>\n",
       "      <td>ZWE</td>\n",
       "      <td>2015</td>\n",
       "      <td>50-69</td>\n",
       "      <td>98.091738</td>\n",
       "    </tr>\n",
       "    <tr>\n",
       "      <th>30779</th>\n",
       "      <td>30780</td>\n",
       "      <td>Zimbabwe</td>\n",
       "      <td>ZWE</td>\n",
       "      <td>2016</td>\n",
       "      <td>50-69</td>\n",
       "      <td>97.402058</td>\n",
       "    </tr>\n",
       "  </tbody>\n",
       "</table>\n",
       "</div>"
      ],
      "text/plain": [
       "       Unnamed: 0    entity code  year age_group      deaths\n",
       "30775       30776  Zimbabwe  ZWE  2012     50-69  103.185111\n",
       "30776       30777  Zimbabwe  ZWE  2013     50-69  100.113293\n",
       "30777       30778  Zimbabwe  ZWE  2014     50-69   99.013890\n",
       "30778       30779  Zimbabwe  ZWE  2015     50-69   98.091738\n",
       "30779       30780  Zimbabwe  ZWE  2016     50-69   97.402058"
      ]
     },
     "execution_count": 34,
     "metadata": {},
     "output_type": "execute_result"
    }
   ],
   "source": [
    "deaths_age.tail()"
   ]
  },
  {
   "cell_type": "markdown",
   "id": "deb787d6",
   "metadata": {},
   "source": [
    "The `'Unnamed: 0'` column is the row index - can drop it later as it does not provide any useful information "
   ]
  },
  {
   "cell_type": "markdown",
   "id": "ea59ed43",
   "metadata": {},
   "source": [
    "### Time frame"
   ]
  },
  {
   "cell_type": "code",
   "execution_count": 35,
   "id": "d927c6be",
   "metadata": {
    "ExecuteTime": {
     "end_time": "2021-11-15T03:39:27.538733Z",
     "start_time": "2021-11-15T03:39:27.523682Z"
    },
    "scrolled": true
   },
   "outputs": [
    {
     "name": "stdout",
     "output_type": "stream",
     "text": [
      "Minimum year: 1990\n",
      "Maximum year: 2016\n"
     ]
    }
   ],
   "source": [
    "print(f\"Minimum year: {deaths_age.year.min()}\")\n",
    "print(f\"Maximum year: {deaths_age.year.max()}\")"
   ]
  },
  {
   "cell_type": "code",
   "execution_count": 36,
   "id": "182c2ecc",
   "metadata": {
    "ExecuteTime": {
     "end_time": "2021-11-15T03:39:27.554724Z",
     "start_time": "2021-11-15T03:39:27.539682Z"
    },
    "scrolled": false
   },
   "outputs": [
    {
     "data": {
      "text/plain": [
       "1990    1140\n",
       "1991    1140\n",
       "1992    1140\n",
       "1993    1140\n",
       "1994    1140\n",
       "1995    1140\n",
       "1996    1140\n",
       "1997    1140\n",
       "1998    1140\n",
       "1999    1140\n",
       "2000    1140\n",
       "2001    1140\n",
       "2002    1140\n",
       "2003    1140\n",
       "2004    1140\n",
       "2005    1140\n",
       "2006    1140\n",
       "2007    1140\n",
       "2008    1140\n",
       "2009    1140\n",
       "2010    1140\n",
       "2011    1140\n",
       "2012    1140\n",
       "2013    1140\n",
       "2014    1140\n",
       "2015    1140\n",
       "2016    1140\n",
       "Name: year, dtype: int64"
      ]
     },
     "execution_count": 36,
     "metadata": {},
     "output_type": "execute_result"
    }
   ],
   "source": [
    "# Number of rows for each year\n",
    "deaths_age.year.value_counts(sort = False, ascending=True)"
   ]
  },
  {
   "cell_type": "markdown",
   "id": "af34b365",
   "metadata": {},
   "source": [
    "So the dataset provides information on the number of deaths per year by age group, entity and code. There are 1140 rows per year"
   ]
  },
  {
   "cell_type": "markdown",
   "id": "c986ebb1",
   "metadata": {},
   "source": [
    "### Missing values"
   ]
  },
  {
   "cell_type": "code",
   "execution_count": 37,
   "id": "1f0c5286",
   "metadata": {
    "ExecuteTime": {
     "end_time": "2021-11-15T03:39:27.570725Z",
     "start_time": "2021-11-15T03:39:27.555682Z"
    },
    "scrolled": true
   },
   "outputs": [
    {
     "name": "stdout",
     "output_type": "stream",
     "text": [
      "Number of missing or NA values for each column out of 30780 rows:          \n",
      " Unnamed: 0       0\n",
      "entity           0\n",
      "code          4320\n",
      "year             0\n",
      "age_group        0\n",
      "deaths           0\n",
      "dtype: int64\n",
      "########################################\n",
      "Percentage of missing or NA values for each column out of 30780 rows:          \n",
      " Unnamed: 0     0.0\n",
      "entity         0.0\n",
      "code          14.0\n",
      "year           0.0\n",
      "age_group      0.0\n",
      "deaths         0.0\n",
      "dtype: float64\n"
     ]
    }
   ],
   "source": [
    "check_missing(deaths_age)"
   ]
  },
  {
   "cell_type": "markdown",
   "id": "81868d1f",
   "metadata": {
    "ExecuteTime": {
     "end_time": "2021-11-14T03:36:38.219943Z",
     "start_time": "2021-11-14T03:36:38.210944Z"
    }
   },
   "source": [
    "Similar to the age-standardised malaria death rate dataset (`deaths`), there are missing values only in the '`code'` column.  \n",
    "Checking if these missing codes follow a pattern for the entities:"
   ]
  },
  {
   "cell_type": "code",
   "execution_count": 38,
   "id": "02743662",
   "metadata": {
    "ExecuteTime": {
     "end_time": "2021-11-15T03:39:27.586722Z",
     "start_time": "2021-11-15T03:39:27.571683Z"
    },
    "scrolled": false
   },
   "outputs": [
    {
     "data": {
      "text/plain": [
       "Andean Latin America            135\n",
       "Australasia                     135\n",
       "Western Europe                  135\n",
       "Wales                           135\n",
       "Tropical Latin America          135\n",
       "Sub-Saharan Africa              135\n",
       "Southern Sub-Saharan Africa     135\n",
       "Southern Latin America          135\n",
       "Southeast Asia                  135\n",
       "South Asia                      135\n",
       "Scotland                        135\n",
       "Oceania                         135\n",
       "Northern Ireland                135\n",
       "North America                   135\n",
       "North Africa and Middle East    135\n",
       "Middle SDI                      135\n",
       "Low-middle SDI                  135\n",
       "Low SDI                         135\n",
       "Latin America and Caribbean     135\n",
       "High-middle SDI                 135\n",
       "High-income Asia Pacific        135\n",
       "High SDI                        135\n",
       "England                         135\n",
       "Eastern Sub-Saharan Africa      135\n",
       "Eastern Europe                  135\n",
       "East Asia                       135\n",
       "Central Sub-Saharan Africa      135\n",
       "Central Latin America           135\n",
       "Central Europe                  135\n",
       "Central Asia                    135\n",
       "Caribbean                       135\n",
       "Western Sub-Saharan Africa      135\n",
       "Name: entity, dtype: int64"
      ]
     },
     "execution_count": 38,
     "metadata": {},
     "output_type": "execute_result"
    }
   ],
   "source": [
    "missing_code2 = deaths_age.loc[deaths_age.code.isnull(),:]\n",
    "missing_code2.entity.value_counts()"
   ]
  },
  {
   "cell_type": "markdown",
   "id": "2ae5f63f",
   "metadata": {},
   "source": [
    "### Number of unique values for each column"
   ]
  },
  {
   "cell_type": "code",
   "execution_count": 39,
   "id": "6759b900",
   "metadata": {
    "ExecuteTime": {
     "end_time": "2021-11-15T03:39:27.602732Z",
     "start_time": "2021-11-15T03:39:27.587681Z"
    },
    "scrolled": true
   },
   "outputs": [
    {
     "name": "stdout",
     "output_type": "stream",
     "text": [
      "Number of unique values for each column out of a total of 30780 rows: \n",
      " Unnamed: 0    30780\n",
      "entity          228\n",
      "code            196\n",
      "year             27\n",
      "age_group         5\n",
      "deaths        17811\n",
      "dtype: int64\n"
     ]
    }
   ],
   "source": [
    "check_unique(deaths_age)"
   ]
  },
  {
   "cell_type": "code",
   "execution_count": 40,
   "id": "c61ac5dc",
   "metadata": {
    "ExecuteTime": {
     "end_time": "2021-11-15T03:39:27.618725Z",
     "start_time": "2021-11-15T03:39:27.603682Z"
    },
    "scrolled": false
   },
   "outputs": [
    {
     "data": {
      "text/plain": [
       "array(['Afghanistan', 'Albania', 'Algeria', 'American Samoa',\n",
       "       'Andean Latin America', 'Andorra', 'Angola', 'Antigua and Barbuda',\n",
       "       'Argentina', 'Armenia', 'Australasia', 'Australia', 'Austria',\n",
       "       'Azerbaijan', 'Bahamas', 'Bahrain', 'Bangladesh', 'Barbados',\n",
       "       'Belarus', 'Belgium', 'Belize', 'Benin', 'Bermuda', 'Bhutan',\n",
       "       'Bolivia', 'Bosnia and Herzegovina', 'Botswana', 'Brazil',\n",
       "       'Brunei', 'Bulgaria', 'Burkina Faso', 'Burundi', 'Cambodia',\n",
       "       'Cameroon', 'Canada', 'Cape Verde', 'Caribbean',\n",
       "       'Central African Republic', 'Central Asia', 'Central Europe',\n",
       "       'Central Latin America', 'Central Sub-Saharan Africa', 'Chad',\n",
       "       'Chile', 'China', 'Colombia', 'Comoros', 'Congo', 'Costa Rica',\n",
       "       \"Cote d'Ivoire\", 'Croatia', 'Cuba', 'Cyprus', 'Czech Republic',\n",
       "       'Democratic Republic of Congo', 'Denmark', 'Djibouti', 'Dominica',\n",
       "       'Dominican Republic', 'East Asia', 'Eastern Europe',\n",
       "       'Eastern Sub-Saharan Africa', 'Ecuador', 'Egypt', 'El Salvador',\n",
       "       'England', 'Equatorial Guinea', 'Eritrea', 'Estonia', 'Ethiopia',\n",
       "       'Fiji', 'Finland', 'France', 'Gabon', 'Gambia', 'Georgia',\n",
       "       'Germany', 'Ghana', 'Greece', 'Greenland', 'Grenada', 'Guam',\n",
       "       'Guatemala', 'Guinea', 'Guinea-Bissau', 'Guyana', 'Haiti',\n",
       "       'High SDI', 'High-income Asia Pacific', 'High-middle SDI',\n",
       "       'Honduras', 'Hungary', 'Iceland', 'India', 'Indonesia', 'Iran',\n",
       "       'Iraq', 'Ireland', 'Israel', 'Italy', 'Jamaica', 'Japan', 'Jordan',\n",
       "       'Kazakhstan', 'Kenya', 'Kiribati', 'Kuwait', 'Kyrgyzstan', 'Laos',\n",
       "       'Latin America and Caribbean', 'Latvia', 'Lebanon', 'Lesotho',\n",
       "       'Liberia', 'Libya', 'Lithuania', 'Low SDI', 'Low-middle SDI',\n",
       "       'Luxembourg', 'Macedonia', 'Madagascar', 'Malawi', 'Malaysia',\n",
       "       'Maldives', 'Mali', 'Malta', 'Marshall Islands', 'Mauritania',\n",
       "       'Mauritius', 'Mexico', 'Micronesia (country)', 'Middle SDI',\n",
       "       'Moldova', 'Mongolia', 'Montenegro', 'Morocco', 'Mozambique',\n",
       "       'Myanmar', 'Namibia', 'Nepal', 'Netherlands', 'New Zealand',\n",
       "       'Nicaragua', 'Niger', 'Nigeria', 'North Africa and Middle East',\n",
       "       'North America', 'North Korea', 'Northern Ireland',\n",
       "       'Northern Mariana Islands', 'Norway', 'Oceania', 'Oman',\n",
       "       'Pakistan', 'Palestine', 'Panama', 'Papua New Guinea', 'Paraguay',\n",
       "       'Peru', 'Philippines', 'Poland', 'Portugal', 'Puerto Rico',\n",
       "       'Qatar', 'Romania', 'Russia', 'Rwanda', 'Saint Lucia',\n",
       "       'Saint Vincent and the Grenadines', 'Samoa',\n",
       "       'Sao Tome and Principe', 'Saudi Arabia', 'Scotland', 'Senegal',\n",
       "       'Serbia', 'Seychelles', 'Sierra Leone', 'Singapore', 'Slovakia',\n",
       "       'Slovenia', 'Solomon Islands', 'Somalia', 'South Africa',\n",
       "       'South Asia', 'South Korea', 'South Sudan', 'Southeast Asia',\n",
       "       'Southern Latin America', 'Southern Sub-Saharan Africa', 'Spain',\n",
       "       'Sri Lanka', 'Sub-Saharan Africa', 'Sudan', 'Suriname',\n",
       "       'Swaziland', 'Sweden', 'Switzerland', 'Syria', 'Taiwan',\n",
       "       'Tajikistan', 'Tanzania', 'Thailand', 'Timor', 'Togo', 'Tonga',\n",
       "       'Trinidad and Tobago', 'Tropical Latin America', 'Tunisia',\n",
       "       'Turkey', 'Turkmenistan', 'Uganda', 'Ukraine',\n",
       "       'United Arab Emirates', 'United Kingdom', 'United States',\n",
       "       'United States Virgin Islands', 'Uruguay', 'Uzbekistan', 'Vanuatu',\n",
       "       'Venezuela', 'Vietnam', 'Wales', 'Western Europe',\n",
       "       'Western Sub-Saharan Africa', 'World', 'Yemen', 'Zambia',\n",
       "       'Zimbabwe'], dtype=object)"
      ]
     },
     "execution_count": 40,
     "metadata": {},
     "output_type": "execute_result"
    }
   ],
   "source": [
    "deaths_age.entity.unique()"
   ]
  },
  {
   "cell_type": "code",
   "execution_count": 41,
   "id": "87e1b52b",
   "metadata": {
    "ExecuteTime": {
     "end_time": "2021-11-15T03:39:27.633734Z",
     "start_time": "2021-11-15T03:39:27.619681Z"
    }
   },
   "outputs": [
    {
     "data": {
      "text/plain": [
       "True"
      ]
     },
     "execution_count": 41,
     "metadata": {},
     "output_type": "execute_result"
    }
   ],
   "source": [
    "all(deaths_age.entity.unique() == deaths.Entity.unique())"
   ]
  },
  {
   "cell_type": "markdown",
   "id": "02ebd5ab",
   "metadata": {},
   "source": [
    "The unique values in the age-standardised malaria death rate dataset (`deaths`) are the same as the current `deaths_age` dataset. \n",
    "\n",
    "The `'entity'` column is a combination of aggregate geographic regions (World, Central Europe etc), socio-economic status (high SDI), social-economic status and geographic region (High-income Asia Pacific), and countries (eg. Singapore)"
   ]
  },
  {
   "cell_type": "markdown",
   "id": "328c2f36",
   "metadata": {},
   "source": [
    "**Checking the unique age groups**:"
   ]
  },
  {
   "cell_type": "code",
   "execution_count": 42,
   "id": "2797a123",
   "metadata": {
    "ExecuteTime": {
     "end_time": "2021-11-15T03:39:27.648728Z",
     "start_time": "2021-11-15T03:39:27.634682Z"
    }
   },
   "outputs": [
    {
     "data": {
      "text/plain": [
       "array(['Under 5', '70 or older', '5-14', '15-49', '50-69'], dtype=object)"
      ]
     },
     "execution_count": 42,
     "metadata": {},
     "output_type": "execute_result"
    }
   ],
   "source": [
    "deaths_age.age_group.unique()"
   ]
  },
  {
   "cell_type": "markdown",
   "id": "256062b6",
   "metadata": {},
   "source": [
    "**Checking the unique values in `'code'`**:"
   ]
  },
  {
   "cell_type": "code",
   "execution_count": 43,
   "id": "f94eebec",
   "metadata": {
    "ExecuteTime": {
     "end_time": "2021-11-15T03:39:27.664718Z",
     "start_time": "2021-11-15T03:39:27.649686Z"
    },
    "scrolled": false
   },
   "outputs": [
    {
     "data": {
      "text/plain": [
       "array(['AFG', 'ALB', 'DZA', 'ASM', nan, 'AND', 'AGO', 'ATG', 'ARG', 'ARM',\n",
       "       'AUS', 'AUT', 'AZE', 'BHS', 'BHR', 'BGD', 'BRB', 'BLR', 'BEL',\n",
       "       'BLZ', 'BEN', 'BMU', 'BTN', 'BOL', 'BIH', 'BWA', 'BRA', 'BRN',\n",
       "       'BGR', 'BFA', 'BDI', 'KHM', 'CMR', 'CAN', 'CPV', 'CAF', 'TCD',\n",
       "       'CHL', 'CHN', 'COL', 'COM', 'COG', 'CRI', 'CIV', 'HRV', 'CUB',\n",
       "       'CYP', 'CZE', 'COD', 'DNK', 'DJI', 'DMA', 'DOM', 'ECU', 'EGY',\n",
       "       'SLV', 'GNQ', 'ERI', 'EST', 'ETH', 'FJI', 'FIN', 'FRA', 'GAB',\n",
       "       'GMB', 'GEO', 'DEU', 'GHA', 'GRC', 'GRL', 'GRD', 'GUM', 'GTM',\n",
       "       'GIN', 'GNB', 'GUY', 'HTI', 'HND', 'HUN', 'ISL', 'IND', 'IDN',\n",
       "       'IRN', 'IRQ', 'IRL', 'ISR', 'ITA', 'JAM', 'JPN', 'JOR', 'KAZ',\n",
       "       'KEN', 'KIR', 'KWT', 'KGZ', 'LAO', 'LVA', 'LBN', 'LSO', 'LBR',\n",
       "       'LBY', 'LTU', 'LUX', 'MKD', 'MDG', 'MWI', 'MYS', 'MDV', 'MLI',\n",
       "       'MLT', 'MHL', 'MRT', 'MUS', 'MEX', 'FSM', 'MDA', 'MNG', 'MNE',\n",
       "       'MAR', 'MOZ', 'MMR', 'NAM', 'NPL', 'NLD', 'NZL', 'NIC', 'NER',\n",
       "       'NGA', 'PRK', 'MNP', 'NOR', 'OMN', 'PAK', 'PSE', 'PAN', 'PNG',\n",
       "       'PRY', 'PER', 'PHL', 'POL', 'PRT', 'PRI', 'QAT', 'ROU', 'RUS',\n",
       "       'RWA', 'LCA', 'VCT', 'WSM', 'STP', 'SAU', 'SEN', 'SRB', 'SYC',\n",
       "       'SLE', 'SGP', 'SVK', 'SVN', 'SLB', 'SOM', 'ZAF', 'KOR', 'SSD',\n",
       "       'ESP', 'LKA', 'SDN', 'SUR', 'SWZ', 'SWE', 'CHE', 'SYR', 'TWN',\n",
       "       'TJK', 'TZA', 'THA', 'TLS', 'TGO', 'TON', 'TTO', 'TUN', 'TUR',\n",
       "       'TKM', 'UGA', 'UKR', 'ARE', 'GBR', 'USA', 'VIR', 'URY', 'UZB',\n",
       "       'VUT', 'VEN', 'VNM', 'OWID_WRL', 'YEM', 'ZMB', 'ZWE'], dtype=object)"
      ]
     },
     "execution_count": 43,
     "metadata": {},
     "output_type": "execute_result"
    }
   ],
   "source": [
    "deaths_age.code.unique()"
   ]
  },
  {
   "cell_type": "code",
   "execution_count": 44,
   "id": "ce5aa6f0",
   "metadata": {
    "ExecuteTime": {
     "end_time": "2021-11-15T03:39:27.680717Z",
     "start_time": "2021-11-15T03:39:27.665680Z"
    },
    "scrolled": false
   },
   "outputs": [
    {
     "data": {
      "text/plain": [
       "False"
      ]
     },
     "execution_count": 44,
     "metadata": {},
     "output_type": "execute_result"
    }
   ],
   "source": [
    "all(deaths_age.code.unique() == deaths.Code.unique())"
   ]
  },
  {
   "cell_type": "code",
   "execution_count": 45,
   "id": "ba08b334",
   "metadata": {
    "ExecuteTime": {
     "end_time": "2021-11-15T03:39:27.696728Z",
     "start_time": "2021-11-15T03:39:27.681682Z"
    }
   },
   "outputs": [
    {
     "data": {
      "text/plain": [
       "array([ True,  True,  True,  True, False,  True,  True,  True,  True,\n",
       "        True,  True,  True,  True,  True,  True,  True,  True,  True,\n",
       "        True,  True,  True,  True,  True,  True,  True,  True,  True,\n",
       "        True,  True,  True,  True,  True,  True,  True,  True,  True,\n",
       "        True,  True,  True,  True,  True,  True,  True,  True,  True,\n",
       "        True,  True,  True,  True,  True,  True,  True,  True,  True,\n",
       "        True,  True,  True,  True,  True,  True,  True,  True,  True,\n",
       "        True,  True,  True,  True,  True,  True,  True,  True,  True,\n",
       "        True,  True,  True,  True,  True,  True,  True,  True,  True,\n",
       "        True,  True,  True,  True,  True,  True,  True,  True,  True,\n",
       "        True,  True,  True,  True,  True,  True,  True,  True,  True,\n",
       "        True,  True,  True,  True,  True,  True,  True,  True,  True,\n",
       "        True,  True,  True,  True,  True,  True,  True,  True,  True,\n",
       "        True,  True,  True,  True,  True,  True,  True,  True,  True,\n",
       "        True,  True,  True,  True,  True,  True,  True,  True,  True,\n",
       "        True,  True,  True,  True,  True,  True,  True,  True,  True,\n",
       "        True,  True,  True,  True,  True,  True,  True,  True,  True,\n",
       "        True,  True,  True,  True,  True,  True,  True,  True,  True,\n",
       "        True,  True,  True,  True,  True,  True,  True,  True,  True,\n",
       "        True,  True,  True,  True,  True,  True,  True,  True,  True,\n",
       "        True,  True,  True,  True,  True,  True,  True,  True,  True,\n",
       "        True,  True,  True,  True,  True,  True,  True,  True])"
      ]
     },
     "execution_count": 45,
     "metadata": {},
     "output_type": "execute_result"
    }
   ],
   "source": [
    "# element-wise comparison (as the number of unique values for code column in death_age and deaths are the same) \n",
    "deaths_age.code.unique() == deaths.Code.unique()"
   ]
  },
  {
   "cell_type": "code",
   "execution_count": 46,
   "id": "d7717802",
   "metadata": {
    "ExecuteTime": {
     "end_time": "2021-11-15T03:39:27.712712Z",
     "start_time": "2021-11-15T03:39:27.697682Z"
    }
   },
   "outputs": [
    {
     "data": {
      "text/plain": [
       "array([nan], dtype=object)"
      ]
     },
     "execution_count": 46,
     "metadata": {},
     "output_type": "execute_result"
    }
   ],
   "source": [
    "mask = deaths_age.code.unique() != deaths.Code.unique()\n",
    "deaths_age.code.unique()[mask]"
   ]
  },
  {
   "cell_type": "markdown",
   "id": "a5878ed1",
   "metadata": {},
   "source": [
    "The unique values for the `'code'` column are the same as the age-standardised malaria dataset, except for the `'nan'` value which likely represents NA. "
   ]
  },
  {
   "cell_type": "markdown",
   "id": "8db73080",
   "metadata": {},
   "source": [
    "### UK-related entities"
   ]
  },
  {
   "cell_type": "markdown",
   "id": "b36c0c05",
   "metadata": {},
   "source": [
    "Similar to the age-standardised malaria deaths dataset, the missing values for `'Code'` seem to be related to `'Entity` values that correspond to aggregate geographic regions (for example, Southeast Asia/Western Europe) and perhaps aggregate socioeconomic regions (Low SDI/High-income Asia Pacific). \n",
    "\n",
    "However, there are also non-aggregate geographic regions like Wales, England, Scotland, Northern Ireland on the missing list. From the unique values of `'Entity`, 'United Kingdom' is also on the list. Wales, England, Scotland, Northern Ireland are part of 'United Kingdom'. \n",
    "\n",
    "Checking this dataset for the subset of United Kingdom entities:"
   ]
  },
  {
   "cell_type": "code",
   "execution_count": 47,
   "id": "fc80c1b3",
   "metadata": {
    "ExecuteTime": {
     "end_time": "2021-11-15T03:39:27.728432Z",
     "start_time": "2021-11-15T03:39:27.713919Z"
    }
   },
   "outputs": [],
   "source": [
    "uk_entities_age = deaths_age.loc[deaths_age.entity.isin(uk_list),:]"
   ]
  },
  {
   "cell_type": "code",
   "execution_count": 48,
   "id": "e25cd70a",
   "metadata": {
    "ExecuteTime": {
     "end_time": "2021-11-15T03:39:27.744432Z",
     "start_time": "2021-11-15T03:39:27.729426Z"
    }
   },
   "outputs": [
    {
     "name": "stdout",
     "output_type": "stream",
     "text": [
      "<class 'pandas.core.frame.DataFrame'>\n",
      "Int64Index: 675 entries, 1755 to 30617\n",
      "Data columns (total 6 columns):\n",
      " #   Column      Non-Null Count  Dtype  \n",
      "---  ------      --------------  -----  \n",
      " 0   Unnamed: 0  675 non-null    int64  \n",
      " 1   entity      675 non-null    object \n",
      " 2   code        135 non-null    object \n",
      " 3   year        675 non-null    int64  \n",
      " 4   age_group   675 non-null    object \n",
      " 5   deaths      675 non-null    float64\n",
      "dtypes: float64(1), int64(2), object(3)\n",
      "memory usage: 36.9+ KB\n"
     ]
    }
   ],
   "source": [
    "uk_entities_age.info()"
   ]
  },
  {
   "cell_type": "code",
   "execution_count": 49,
   "id": "2c35c3d8",
   "metadata": {
    "ExecuteTime": {
     "end_time": "2021-11-15T03:39:27.760432Z",
     "start_time": "2021-11-15T03:39:27.745426Z"
    }
   },
   "outputs": [
    {
     "data": {
      "text/plain": [
       "GBR    135\n",
       "Name: code, dtype: int64"
      ]
     },
     "execution_count": 49,
     "metadata": {},
     "output_type": "execute_result"
    }
   ],
   "source": [
    "uk_entities_age.code.value_counts()"
   ]
  },
  {
   "cell_type": "code",
   "execution_count": 50,
   "id": "413c779d",
   "metadata": {
    "ExecuteTime": {
     "end_time": "2021-11-15T03:39:27.775432Z",
     "start_time": "2021-11-15T03:39:27.761426Z"
    },
    "scrolled": false
   },
   "outputs": [
    {
     "data": {
      "text/html": [
       "<div>\n",
       "<style scoped>\n",
       "    .dataframe tbody tr th:only-of-type {\n",
       "        vertical-align: middle;\n",
       "    }\n",
       "\n",
       "    .dataframe tbody tr th {\n",
       "        vertical-align: top;\n",
       "    }\n",
       "\n",
       "    .dataframe thead th {\n",
       "        text-align: right;\n",
       "    }\n",
       "</style>\n",
       "<table border=\"1\" class=\"dataframe\">\n",
       "  <thead>\n",
       "    <tr style=\"text-align: right;\">\n",
       "      <th></th>\n",
       "      <th>Unnamed: 0</th>\n",
       "      <th>entity</th>\n",
       "      <th>code</th>\n",
       "      <th>year</th>\n",
       "      <th>age_group</th>\n",
       "      <th>deaths</th>\n",
       "    </tr>\n",
       "  </thead>\n",
       "  <tbody>\n",
       "    <tr>\n",
       "      <th>1755</th>\n",
       "      <td>1756</td>\n",
       "      <td>England</td>\n",
       "      <td>NaN</td>\n",
       "      <td>1990</td>\n",
       "      <td>Under 5</td>\n",
       "      <td>0.0</td>\n",
       "    </tr>\n",
       "    <tr>\n",
       "      <th>1756</th>\n",
       "      <td>1757</td>\n",
       "      <td>England</td>\n",
       "      <td>NaN</td>\n",
       "      <td>1991</td>\n",
       "      <td>Under 5</td>\n",
       "      <td>0.0</td>\n",
       "    </tr>\n",
       "    <tr>\n",
       "      <th>1757</th>\n",
       "      <td>1758</td>\n",
       "      <td>England</td>\n",
       "      <td>NaN</td>\n",
       "      <td>1992</td>\n",
       "      <td>Under 5</td>\n",
       "      <td>0.0</td>\n",
       "    </tr>\n",
       "    <tr>\n",
       "      <th>1758</th>\n",
       "      <td>1759</td>\n",
       "      <td>England</td>\n",
       "      <td>NaN</td>\n",
       "      <td>1993</td>\n",
       "      <td>Under 5</td>\n",
       "      <td>0.0</td>\n",
       "    </tr>\n",
       "    <tr>\n",
       "      <th>1759</th>\n",
       "      <td>1760</td>\n",
       "      <td>England</td>\n",
       "      <td>NaN</td>\n",
       "      <td>1994</td>\n",
       "      <td>Under 5</td>\n",
       "      <td>0.0</td>\n",
       "    </tr>\n",
       "    <tr>\n",
       "      <th>...</th>\n",
       "      <td>...</td>\n",
       "      <td>...</td>\n",
       "      <td>...</td>\n",
       "      <td>...</td>\n",
       "      <td>...</td>\n",
       "      <td>...</td>\n",
       "    </tr>\n",
       "    <tr>\n",
       "      <th>30613</th>\n",
       "      <td>30614</td>\n",
       "      <td>Wales</td>\n",
       "      <td>NaN</td>\n",
       "      <td>2012</td>\n",
       "      <td>50-69</td>\n",
       "      <td>0.0</td>\n",
       "    </tr>\n",
       "    <tr>\n",
       "      <th>30614</th>\n",
       "      <td>30615</td>\n",
       "      <td>Wales</td>\n",
       "      <td>NaN</td>\n",
       "      <td>2013</td>\n",
       "      <td>50-69</td>\n",
       "      <td>0.0</td>\n",
       "    </tr>\n",
       "    <tr>\n",
       "      <th>30615</th>\n",
       "      <td>30616</td>\n",
       "      <td>Wales</td>\n",
       "      <td>NaN</td>\n",
       "      <td>2014</td>\n",
       "      <td>50-69</td>\n",
       "      <td>0.0</td>\n",
       "    </tr>\n",
       "    <tr>\n",
       "      <th>30616</th>\n",
       "      <td>30617</td>\n",
       "      <td>Wales</td>\n",
       "      <td>NaN</td>\n",
       "      <td>2015</td>\n",
       "      <td>50-69</td>\n",
       "      <td>0.0</td>\n",
       "    </tr>\n",
       "    <tr>\n",
       "      <th>30617</th>\n",
       "      <td>30618</td>\n",
       "      <td>Wales</td>\n",
       "      <td>NaN</td>\n",
       "      <td>2016</td>\n",
       "      <td>50-69</td>\n",
       "      <td>0.0</td>\n",
       "    </tr>\n",
       "  </tbody>\n",
       "</table>\n",
       "<p>675 rows × 6 columns</p>\n",
       "</div>"
      ],
      "text/plain": [
       "       Unnamed: 0   entity code  year age_group  deaths\n",
       "1755         1756  England  NaN  1990   Under 5     0.0\n",
       "1756         1757  England  NaN  1991   Under 5     0.0\n",
       "1757         1758  England  NaN  1992   Under 5     0.0\n",
       "1758         1759  England  NaN  1993   Under 5     0.0\n",
       "1759         1760  England  NaN  1994   Under 5     0.0\n",
       "...           ...      ...  ...   ...       ...     ...\n",
       "30613       30614    Wales  NaN  2012     50-69     0.0\n",
       "30614       30615    Wales  NaN  2013     50-69     0.0\n",
       "30615       30616    Wales  NaN  2014     50-69     0.0\n",
       "30616       30617    Wales  NaN  2015     50-69     0.0\n",
       "30617       30618    Wales  NaN  2016     50-69     0.0\n",
       "\n",
       "[675 rows x 6 columns]"
      ]
     },
     "execution_count": 50,
     "metadata": {},
     "output_type": "execute_result"
    }
   ],
   "source": [
    "uk_entities_age"
   ]
  },
  {
   "cell_type": "code",
   "execution_count": 51,
   "id": "ede2e739",
   "metadata": {
    "ExecuteTime": {
     "end_time": "2021-11-15T03:39:27.790432Z",
     "start_time": "2021-11-15T03:39:27.776427Z"
    }
   },
   "outputs": [
    {
     "data": {
      "text/plain": [
       "Under 5        135\n",
       "70 or older    135\n",
       "5-14           135\n",
       "15-49          135\n",
       "50-69          135\n",
       "Name: age_group, dtype: int64"
      ]
     },
     "execution_count": 51,
     "metadata": {},
     "output_type": "execute_result"
    }
   ],
   "source": [
    "uk_entities_age.age_group.value_counts()"
   ]
  },
  {
   "cell_type": "code",
   "execution_count": 52,
   "id": "b74d94a0",
   "metadata": {
    "ExecuteTime": {
     "end_time": "2021-11-15T03:39:27.806432Z",
     "start_time": "2021-11-15T03:39:27.791426Z"
    },
    "scrolled": true
   },
   "outputs": [
    {
     "data": {
      "text/plain": [
       "count    675.0\n",
       "mean       0.0\n",
       "std        0.0\n",
       "min        0.0\n",
       "25%        0.0\n",
       "50%        0.0\n",
       "75%        0.0\n",
       "max        0.0\n",
       "Name: deaths, dtype: float64"
      ]
     },
     "execution_count": 52,
     "metadata": {},
     "output_type": "execute_result"
    }
   ],
   "source": [
    "uk_entities_age.deaths.describe()"
   ]
  },
  {
   "cell_type": "markdown",
   "id": "388da734",
   "metadata": {},
   "source": [
    "**Considerations for UK-related entities**:  \n",
    "\n",
    "- similar to the age-standardised malaria deaths dataset, we can impute the missing `'Code'` values for 'Wales', 'England', 'Scotland', 'Northern Ireland' as 'GBR' as they represent the same geographic region of the United Kingdom  "
   ]
  },
  {
   "cell_type": "markdown",
   "id": "f4bf6b31",
   "metadata": {},
   "source": [
    "### Duplicates"
   ]
  },
  {
   "cell_type": "code",
   "execution_count": 53,
   "id": "89dcbc74",
   "metadata": {
    "ExecuteTime": {
     "end_time": "2021-11-15T03:39:27.822432Z",
     "start_time": "2021-11-15T03:39:27.807427Z"
    },
    "scrolled": false
   },
   "outputs": [
    {
     "name": "stdout",
     "output_type": "stream",
     "text": [
      "There are 0 complete duplicate rows in this dataset\n"
     ]
    }
   ],
   "source": [
    "print(f\"There are {deaths_age.duplicated().sum()} complete duplicate rows in this dataset\")"
   ]
  },
  {
   "cell_type": "markdown",
   "id": "05e78db8",
   "metadata": {},
   "source": [
    "### Sanity checks for each variable"
   ]
  },
  {
   "cell_type": "markdown",
   "id": "f3e7212a",
   "metadata": {},
   "source": [
    "#### entity"
   ]
  },
  {
   "cell_type": "code",
   "execution_count": 54,
   "id": "08be64a9",
   "metadata": {
    "ExecuteTime": {
     "end_time": "2021-11-15T03:39:27.838432Z",
     "start_time": "2021-11-15T03:39:27.823437Z"
    },
    "scrolled": true
   },
   "outputs": [
    {
     "data": {
      "text/plain": [
       "Afghanistan                     135\n",
       "Niger                           135\n",
       "North Africa and Middle East    135\n",
       "North America                   135\n",
       "North Korea                     135\n",
       "                               ... \n",
       "Greenland                       135\n",
       "Grenada                         135\n",
       "Guam                            135\n",
       "Guatemala                       135\n",
       "Zimbabwe                        135\n",
       "Name: entity, Length: 228, dtype: int64"
      ]
     },
     "execution_count": 54,
     "metadata": {},
     "output_type": "execute_result"
    }
   ],
   "source": [
    "deaths_age.entity.value_counts(dropna=False)"
   ]
  },
  {
   "cell_type": "code",
   "execution_count": 55,
   "id": "d08c4faf",
   "metadata": {
    "ExecuteTime": {
     "end_time": "2021-11-15T03:39:27.854432Z",
     "start_time": "2021-11-15T03:39:27.839433Z"
    },
    "scrolled": false
   },
   "outputs": [
    {
     "data": {
      "text/plain": [
       "True"
      ]
     },
     "execution_count": 55,
     "metadata": {},
     "output_type": "execute_result"
    }
   ],
   "source": [
    "all(deaths_age.entity.value_counts(dropna=False) == 135)"
   ]
  },
  {
   "cell_type": "markdown",
   "id": "a35d55b8",
   "metadata": {},
   "source": [
    "All of the counts for each unique entity are 135"
   ]
  },
  {
   "cell_type": "markdown",
   "id": "bd15559b",
   "metadata": {},
   "source": [
    "#### code"
   ]
  },
  {
   "cell_type": "code",
   "execution_count": 56,
   "id": "0fc06f85",
   "metadata": {
    "ExecuteTime": {
     "end_time": "2021-11-15T03:39:27.870427Z",
     "start_time": "2021-11-15T03:39:27.855426Z"
    },
    "scrolled": false
   },
   "outputs": [
    {
     "data": {
      "text/plain": [
       "NaN    4320\n",
       "AFG     135\n",
       "PRY     135\n",
       "NER     135\n",
       "NGA     135\n",
       "       ... \n",
       "GRC     135\n",
       "GRL     135\n",
       "GRD     135\n",
       "GUM     135\n",
       "ZWE     135\n",
       "Name: code, Length: 197, dtype: int64"
      ]
     },
     "execution_count": 56,
     "metadata": {},
     "output_type": "execute_result"
    }
   ],
   "source": [
    "deaths_age.code.value_counts(dropna=False)"
   ]
  },
  {
   "cell_type": "markdown",
   "id": "46b1f5ff",
   "metadata": {},
   "source": [
    "#### year"
   ]
  },
  {
   "cell_type": "code",
   "execution_count": 57,
   "id": "00c02c34",
   "metadata": {
    "ExecuteTime": {
     "end_time": "2021-11-15T03:39:27.885432Z",
     "start_time": "2021-11-15T03:39:27.871427Z"
    },
    "scrolled": false
   },
   "outputs": [
    {
     "data": {
      "text/plain": [
       "1990    1140\n",
       "1991    1140\n",
       "1992    1140\n",
       "1993    1140\n",
       "1994    1140\n",
       "1995    1140\n",
       "1996    1140\n",
       "1997    1140\n",
       "1998    1140\n",
       "1999    1140\n",
       "2000    1140\n",
       "2001    1140\n",
       "2002    1140\n",
       "2003    1140\n",
       "2004    1140\n",
       "2005    1140\n",
       "2006    1140\n",
       "2007    1140\n",
       "2008    1140\n",
       "2009    1140\n",
       "2010    1140\n",
       "2011    1140\n",
       "2012    1140\n",
       "2013    1140\n",
       "2014    1140\n",
       "2015    1140\n",
       "2016    1140\n",
       "Name: year, dtype: int64"
      ]
     },
     "execution_count": 57,
     "metadata": {},
     "output_type": "execute_result"
    }
   ],
   "source": [
    "deaths_age.year.value_counts(sort = False, ascending=True, dropna=False)"
   ]
  },
  {
   "cell_type": "markdown",
   "id": "de416b0c",
   "metadata": {},
   "source": [
    "#### age group"
   ]
  },
  {
   "cell_type": "code",
   "execution_count": 58,
   "id": "a54e8815",
   "metadata": {
    "ExecuteTime": {
     "end_time": "2021-11-15T03:39:27.900474Z",
     "start_time": "2021-11-15T03:39:27.886430Z"
    },
    "scrolled": true
   },
   "outputs": [
    {
     "data": {
      "text/plain": [
       "Under 5        6156\n",
       "70 or older    6156\n",
       "5-14           6156\n",
       "15-49          6156\n",
       "50-69          6156\n",
       "Name: age_group, dtype: int64"
      ]
     },
     "execution_count": 58,
     "metadata": {},
     "output_type": "execute_result"
    }
   ],
   "source": [
    "deaths_age.age_group.value_counts(dropna=False)"
   ]
  },
  {
   "cell_type": "markdown",
   "id": "86aed682",
   "metadata": {},
   "source": [
    "#### number of deaths"
   ]
  },
  {
   "cell_type": "code",
   "execution_count": 59,
   "id": "b134134f",
   "metadata": {
    "ExecuteTime": {
     "end_time": "2021-11-15T03:39:28.138434Z",
     "start_time": "2021-11-15T03:39:27.901427Z"
    },
    "scrolled": false
   },
   "outputs": [
    {
     "name": "stdout",
     "output_type": "stream",
     "text": [
      "count     30780.000000\n",
      "mean       3698.550438\n",
      "std       33539.059413\n",
      "min           0.000000\n",
      "25%           0.000000\n",
      "50%           0.123451\n",
      "75%          80.505605\n",
      "max      752025.548675\n",
      "Name: deaths, dtype: float64\n",
      "There are 0 missing values\n"
     ]
    },
    {
     "data": {
      "image/png": "[encoded data removed]",
      "text/plain": [
       "<Figure size 576x432 with 1 Axes>"
      ]
     },
     "metadata": {},
     "output_type": "display_data"
    },
    {
     "data": {
      "image/png": "[encoded data removed]",
      "text/plain": [
       "<Figure size 576x432 with 1 Axes>"
      ]
     },
     "metadata": {},
     "output_type": "display_data"
    }
   ],
   "source": [
    "check_continuous(deaths_age, 'deaths')"
   ]
  },
  {
   "cell_type": "code",
   "execution_count": 60,
   "id": "3b10cdbb",
   "metadata": {
    "ExecuteTime": {
     "end_time": "2021-11-15T03:39:28.502062Z",
     "start_time": "2021-11-15T03:39:28.139433Z"
    }
   },
   "outputs": [
    {
     "data": {
      "image/png": "[encoded data removed]",
      "text/plain": [
       "<Figure size 576x432 with 1 Axes>"
      ]
     },
     "metadata": {},
     "output_type": "display_data"
    }
   ],
   "source": [
    "plt.figure(figsize=(8,6))\n",
    "plt.title('Number of deaths by age group')\n",
    "sns.barplot(\n",
    "    data = deaths_age,\n",
    "    x = 'deaths',\n",
    "    y = 'age_group'\n",
    ");"
   ]
  },
  {
   "cell_type": "code",
   "execution_count": 61,
   "id": "d394a142",
   "metadata": {
    "ExecuteTime": {
     "end_time": "2021-11-15T03:39:29.028895Z",
     "start_time": "2021-11-15T03:39:28.503012Z"
    },
    "scrolled": false
   },
   "outputs": [
    {
     "data": {
      "image/png": "[encoded data removed]",
      "text/plain": [
       "<Figure size 1152x1152 with 5 Axes>"
      ]
     },
     "metadata": {},
     "output_type": "display_data"
    }
   ],
   "source": [
    "unique_age = deaths_age.age_group.unique().tolist()\n",
    "\n",
    "plt.figure(figsize=(16,16))\n",
    "\n",
    "sns.set_theme(style=\"whitegrid\")\n",
    "\n",
    "for index, variable in enumerate(unique_age):\n",
    "    \n",
    "    plt.subplot(3,2,index + 1)\n",
    "    \n",
    "    plt.title(f\"Histogram of number of deaths for age group: {unique_age[index]}\")\n",
    "    sns.set_palette('Set2')\n",
    "    ax=sns.histplot(\n",
    "        data = deaths_age.loc[deaths_age.age_group == variable],\n",
    "        x = 'deaths',\n",
    "        stat='count', \n",
    "        bins=20\n",
    "    )\n",
    "    \n",
    "    # remove lines from the plots\n",
    "    sns.despine(top=True,right=True,left=True)\n",
    "    plt.subplots_adjust(left=None, bottom=None, right=None, top=None, wspace=None, hspace=0.3)"
   ]
  },
  {
   "cell_type": "markdown",
   "id": "bae02e06",
   "metadata": {},
   "source": [
    "### Considerations for inital data preprocessing after initial exploration"
   ]
  },
  {
   "cell_type": "markdown",
   "id": "992e3214",
   "metadata": {},
   "source": [
    "There are only [195 countries in the world](https://en.wikipedia.org/wiki/List_of_countries_and_dependencies_by_area). The 196 observed in the `'Code'` column is likely due to NA/nan, as observed earlier in `section 6.2.3 Number of unique values for each column`.  \n",
    "\n",
    "The 135 rows for each `'Entity'` and `'Code'` are likly due to the 27 years' data (1990 - 2016) for each of the 5 age groups (27 x 5 = 135).  \n",
    "\n",
    "**Data preprocessing steps for this dataset:**\n",
    "1. Drop the row index column `'Unnamed: 0'` as it does not provide any useful information.  \n",
    "2. Impute the missing `'Code'` values for 'Wales', 'England', 'Scotland', 'Northern Ireland' as 'GBR' as they represent the same geographic region of the United Kingdom   \n",
    "3. Add a new column `'entity_type'` to allow subsetting of entity types:  \n",
    "  - `'Region'` : aggregated geographic regions, \n",
    "  - `'SDI`: Socio-demographic Index status  \n",
    "  - `'Country'`: entities with non-NA `'Code'` values  \n",
    "  - `'World'`: global aggregate, as indicated by entity value == 'World' "
   ]
  },
  {
   "cell_type": "markdown",
   "id": "21e19f48",
   "metadata": {},
   "source": [
    "## Malaria incidence"
   ]
  },
  {
   "cell_type": "markdown",
   "id": "0eec0e85",
   "metadata": {},
   "source": [
    "From the [data source](https://github.com/rfordatascience/tidytuesday/tree/master/data/2018/2018-11-13):  \n",
    "- [malaria_inc.csv](https://github.com/rfordatascience/tidytuesday/blob/master/data/2018/2018-11-13/malaria_inc.csv): Malaria incidence by country for all ages across the world across time"
   ]
  },
  {
   "cell_type": "code",
   "execution_count": 62,
   "id": "e2c7a6b1",
   "metadata": {
    "ExecuteTime": {
     "end_time": "2021-11-15T03:39:29.044901Z",
     "start_time": "2021-11-15T03:39:29.029850Z"
    }
   },
   "outputs": [
    {
     "name": "stdout",
     "output_type": "stream",
     "text": [
      "Number of rows and columns in dataset: (508, 4)\n"
     ]
    }
   ],
   "source": [
    "print(f\"Number of rows and columns in dataset: {inc.shape}\")"
   ]
  },
  {
   "cell_type": "code",
   "execution_count": 63,
   "id": "3b65d8cc",
   "metadata": {
    "ExecuteTime": {
     "end_time": "2021-11-15T03:39:29.060901Z",
     "start_time": "2021-11-15T03:39:29.045852Z"
    },
    "scrolled": false
   },
   "outputs": [
    {
     "name": "stdout",
     "output_type": "stream",
     "text": [
      "<class 'pandas.core.frame.DataFrame'>\n",
      "RangeIndex: 508 entries, 0 to 507\n",
      "Data columns (total 4 columns):\n",
      " #   Column                                                                              Non-Null Count  Dtype  \n",
      "---  ------                                                                              --------------  -----  \n",
      " 0   Entity                                                                              508 non-null    object \n",
      " 1   Code                                                                                400 non-null    object \n",
      " 2   Year                                                                                508 non-null    int64  \n",
      " 3   Incidence of malaria (per 1,000 population at risk) (per 1,000 population at risk)  508 non-null    float64\n",
      "dtypes: float64(1), int64(1), object(2)\n",
      "memory usage: 16.0+ KB\n"
     ]
    }
   ],
   "source": [
    "inc.info()"
   ]
  },
  {
   "cell_type": "code",
   "execution_count": 64,
   "id": "77f61465",
   "metadata": {
    "ExecuteTime": {
     "end_time": "2021-11-15T03:39:29.076895Z",
     "start_time": "2021-11-15T03:39:29.061852Z"
    },
    "scrolled": true
   },
   "outputs": [
    {
     "data": {
      "text/html": [
       "<div>\n",
       "<style scoped>\n",
       "    .dataframe tbody tr th:only-of-type {\n",
       "        vertical-align: middle;\n",
       "    }\n",
       "\n",
       "    .dataframe tbody tr th {\n",
       "        vertical-align: top;\n",
       "    }\n",
       "\n",
       "    .dataframe thead th {\n",
       "        text-align: right;\n",
       "    }\n",
       "</style>\n",
       "<table border=\"1\" class=\"dataframe\">\n",
       "  <thead>\n",
       "    <tr style=\"text-align: right;\">\n",
       "      <th></th>\n",
       "      <th>Entity</th>\n",
       "      <th>Code</th>\n",
       "      <th>Year</th>\n",
       "      <th>Incidence of malaria (per 1,000 population at risk) (per 1,000 population at risk)</th>\n",
       "    </tr>\n",
       "  </thead>\n",
       "  <tbody>\n",
       "    <tr>\n",
       "      <th>0</th>\n",
       "      <td>Afghanistan</td>\n",
       "      <td>AFG</td>\n",
       "      <td>2000</td>\n",
       "      <td>107.100000</td>\n",
       "    </tr>\n",
       "    <tr>\n",
       "      <th>1</th>\n",
       "      <td>Afghanistan</td>\n",
       "      <td>AFG</td>\n",
       "      <td>2005</td>\n",
       "      <td>46.500000</td>\n",
       "    </tr>\n",
       "    <tr>\n",
       "      <th>2</th>\n",
       "      <td>Afghanistan</td>\n",
       "      <td>AFG</td>\n",
       "      <td>2010</td>\n",
       "      <td>23.900000</td>\n",
       "    </tr>\n",
       "    <tr>\n",
       "      <th>3</th>\n",
       "      <td>Afghanistan</td>\n",
       "      <td>AFG</td>\n",
       "      <td>2015</td>\n",
       "      <td>23.600000</td>\n",
       "    </tr>\n",
       "    <tr>\n",
       "      <th>4</th>\n",
       "      <td>Algeria</td>\n",
       "      <td>DZA</td>\n",
       "      <td>2000</td>\n",
       "      <td>0.037746</td>\n",
       "    </tr>\n",
       "  </tbody>\n",
       "</table>\n",
       "</div>"
      ],
      "text/plain": [
       "        Entity Code  Year  \\\n",
       "0  Afghanistan  AFG  2000   \n",
       "1  Afghanistan  AFG  2005   \n",
       "2  Afghanistan  AFG  2010   \n",
       "3  Afghanistan  AFG  2015   \n",
       "4      Algeria  DZA  2000   \n",
       "\n",
       "   Incidence of malaria (per 1,000 population at risk) (per 1,000 population at risk)  \n",
       "0                                         107.100000                                   \n",
       "1                                          46.500000                                   \n",
       "2                                          23.900000                                   \n",
       "3                                          23.600000                                   \n",
       "4                                           0.037746                                   "
      ]
     },
     "execution_count": 64,
     "metadata": {},
     "output_type": "execute_result"
    }
   ],
   "source": [
    "inc.head()"
   ]
  },
  {
   "cell_type": "code",
   "execution_count": 65,
   "id": "ce972c23",
   "metadata": {
    "ExecuteTime": {
     "end_time": "2021-11-15T03:39:29.092901Z",
     "start_time": "2021-11-15T03:39:29.077864Z"
    }
   },
   "outputs": [
    {
     "data": {
      "text/html": [
       "<div>\n",
       "<style scoped>\n",
       "    .dataframe tbody tr th:only-of-type {\n",
       "        vertical-align: middle;\n",
       "    }\n",
       "\n",
       "    .dataframe tbody tr th {\n",
       "        vertical-align: top;\n",
       "    }\n",
       "\n",
       "    .dataframe thead th {\n",
       "        text-align: right;\n",
       "    }\n",
       "</style>\n",
       "<table border=\"1\" class=\"dataframe\">\n",
       "  <thead>\n",
       "    <tr style=\"text-align: right;\">\n",
       "      <th></th>\n",
       "      <th>Entity</th>\n",
       "      <th>Code</th>\n",
       "      <th>Year</th>\n",
       "      <th>Incidence of malaria (per 1,000 population at risk) (per 1,000 population at risk)</th>\n",
       "    </tr>\n",
       "  </thead>\n",
       "  <tbody>\n",
       "    <tr>\n",
       "      <th>503</th>\n",
       "      <td>Zambia</td>\n",
       "      <td>ZMB</td>\n",
       "      <td>2015</td>\n",
       "      <td>173.7</td>\n",
       "    </tr>\n",
       "    <tr>\n",
       "      <th>504</th>\n",
       "      <td>Zimbabwe</td>\n",
       "      <td>ZWE</td>\n",
       "      <td>2000</td>\n",
       "      <td>143.2</td>\n",
       "    </tr>\n",
       "    <tr>\n",
       "      <th>505</th>\n",
       "      <td>Zimbabwe</td>\n",
       "      <td>ZWE</td>\n",
       "      <td>2005</td>\n",
       "      <td>142.5</td>\n",
       "    </tr>\n",
       "    <tr>\n",
       "      <th>506</th>\n",
       "      <td>Zimbabwe</td>\n",
       "      <td>ZWE</td>\n",
       "      <td>2010</td>\n",
       "      <td>129.6</td>\n",
       "    </tr>\n",
       "    <tr>\n",
       "      <th>507</th>\n",
       "      <td>Zimbabwe</td>\n",
       "      <td>ZWE</td>\n",
       "      <td>2015</td>\n",
       "      <td>114.2</td>\n",
       "    </tr>\n",
       "  </tbody>\n",
       "</table>\n",
       "</div>"
      ],
      "text/plain": [
       "       Entity Code  Year  \\\n",
       "503    Zambia  ZMB  2015   \n",
       "504  Zimbabwe  ZWE  2000   \n",
       "505  Zimbabwe  ZWE  2005   \n",
       "506  Zimbabwe  ZWE  2010   \n",
       "507  Zimbabwe  ZWE  2015   \n",
       "\n",
       "     Incidence of malaria (per 1,000 population at risk) (per 1,000 population at risk)  \n",
       "503                                              173.7                                   \n",
       "504                                              143.2                                   \n",
       "505                                              142.5                                   \n",
       "506                                              129.6                                   \n",
       "507                                              114.2                                   "
      ]
     },
     "execution_count": 65,
     "metadata": {},
     "output_type": "execute_result"
    }
   ],
   "source": [
    "inc.tail()"
   ]
  },
  {
   "cell_type": "markdown",
   "id": "093a9e1b",
   "metadata": {},
   "source": [
    "### Time frame"
   ]
  },
  {
   "cell_type": "code",
   "execution_count": 66,
   "id": "5eb02794",
   "metadata": {
    "ExecuteTime": {
     "end_time": "2021-11-15T03:39:29.108895Z",
     "start_time": "2021-11-15T03:39:29.093851Z"
    },
    "scrolled": true
   },
   "outputs": [
    {
     "name": "stdout",
     "output_type": "stream",
     "text": [
      "Minimum year: 2000\n",
      "Maximum year: 2015\n"
     ]
    }
   ],
   "source": [
    "print(f\"Minimum year: {inc.Year.min()}\")\n",
    "print(f\"Maximum year: {inc.Year.max()}\")"
   ]
  },
  {
   "cell_type": "code",
   "execution_count": 67,
   "id": "fbba9083",
   "metadata": {
    "ExecuteTime": {
     "end_time": "2021-11-15T03:39:29.124882Z",
     "start_time": "2021-11-15T03:39:29.109852Z"
    }
   },
   "outputs": [
    {
     "data": {
      "text/plain": [
       "2000    127\n",
       "2005    127\n",
       "2010    127\n",
       "2015    127\n",
       "Name: Year, dtype: int64"
      ]
     },
     "execution_count": 67,
     "metadata": {},
     "output_type": "execute_result"
    }
   ],
   "source": [
    "# number of rows per year\n",
    "inc.Year.value_counts(sort = False, ascending=True)"
   ]
  },
  {
   "cell_type": "markdown",
   "id": "70cf563c",
   "metadata": {},
   "source": [
    "So the dataset provides information on the Incidence of malaria (per 1,000 population at risk) for each entity and code every 5 years from 2000 - 2015. There are 127 rows for each year.  "
   ]
  },
  {
   "cell_type": "markdown",
   "id": "c978ee51",
   "metadata": {},
   "source": [
    "### Missing values"
   ]
  },
  {
   "cell_type": "code",
   "execution_count": 68,
   "id": "c237f86c",
   "metadata": {
    "ExecuteTime": {
     "end_time": "2021-11-15T03:39:29.140882Z",
     "start_time": "2021-11-15T03:39:29.125852Z"
    },
    "scrolled": false
   },
   "outputs": [
    {
     "name": "stdout",
     "output_type": "stream",
     "text": [
      "Number of missing or NA values for each column out of 508 rows:          \n",
      " Entity                                                                                  0\n",
      "Code                                                                                  108\n",
      "Year                                                                                    0\n",
      "Incidence of malaria (per 1,000 population at risk) (per 1,000 population at risk)      0\n",
      "dtype: int64\n",
      "########################################\n",
      "Percentage of missing or NA values for each column out of 508 rows:          \n",
      " Entity                                                                                 0.0\n",
      "Code                                                                                  21.0\n",
      "Year                                                                                   0.0\n",
      "Incidence of malaria (per 1,000 population at risk) (per 1,000 population at risk)     0.0\n",
      "dtype: float64\n"
     ]
    }
   ],
   "source": [
    "check_missing(inc)"
   ]
  },
  {
   "cell_type": "markdown",
   "id": "9745d514",
   "metadata": {
    "ExecuteTime": {
     "end_time": "2021-11-14T04:06:46.444664Z",
     "start_time": "2021-11-14T04:06:46.436665Z"
    }
   },
   "source": [
    "Similar to the above 2 datasets, there are missing values only in the '`Code'` column.  \n",
    "Checking if these missing codes follow a pattern for the entities:"
   ]
  },
  {
   "cell_type": "code",
   "execution_count": 69,
   "id": "3616a7c8",
   "metadata": {
    "ExecuteTime": {
     "end_time": "2021-11-15T03:39:29.204895Z",
     "start_time": "2021-11-15T03:39:29.141851Z"
    },
    "scrolled": true
   },
   "outputs": [
    {
     "data": {
      "text/plain": [
       "Early-demographic dividend                           4\n",
       "Latin America & Caribbean (excluding high income)    4\n",
       "Sub-Saharan Africa (excluding high income)           4\n",
       "Sub-Saharan Africa (IDA & IBRD)                      4\n",
       "Sub-Saharan Africa                                   4\n",
       "South Asia (IDA & IBRD)                              4\n",
       "South Asia                                           4\n",
       "Pre-demographic dividend                             4\n",
       "Middle income                                        4\n",
       "Lower middle income                                  4\n",
       "Low income                                           4\n",
       "Low & middle income                                  4\n",
       "Least developed countries: UN classification         4\n",
       "Latin America & Caribbean (IDA & IBRD)               4\n",
       "East Asia & Pacific                                  4\n",
       "Latin America & Caribbean                            4\n",
       "Late-demographic dividend                            4\n",
       "IDA total                                            4\n",
       "IDA only                                             4\n",
       "IDA blend                                            4\n",
       "IDA & IBRD total                                     4\n",
       "IBRD only                                            4\n",
       "Heavily indebted poor countries (HIPC)               4\n",
       "Fragile and conflict affected situations             4\n",
       "East Asia & Pacific (excluding high income)          4\n",
       "East Asia & Pacific (IDA & IBRD)                     4\n",
       "Upper middle income                                  4\n",
       "Name: Entity, dtype: int64"
      ]
     },
     "execution_count": 69,
     "metadata": {},
     "output_type": "execute_result"
    }
   ],
   "source": [
    "missing_code3 = inc.loc[inc.Code.isnull(),:]\n",
    "missing_code3.Entity.value_counts()"
   ]
  },
  {
   "cell_type": "markdown",
   "id": "91c8e52b",
   "metadata": {},
   "source": [
    "The values for `'Entity'` are different from the above 2 datasets. Check the unique values for each column: "
   ]
  },
  {
   "cell_type": "markdown",
   "id": "93a92673",
   "metadata": {},
   "source": [
    "### Number of unique values for each column"
   ]
  },
  {
   "cell_type": "code",
   "execution_count": 70,
   "id": "f77ad55c",
   "metadata": {
    "ExecuteTime": {
     "end_time": "2021-11-15T03:39:29.220612Z",
     "start_time": "2021-11-15T03:39:29.205851Z"
    },
    "scrolled": true
   },
   "outputs": [
    {
     "name": "stdout",
     "output_type": "stream",
     "text": [
      "Number of unique values for each column out of a total of 508 rows: \n",
      " Entity                                                                                127\n",
      "Code                                                                                  100\n",
      "Year                                                                                    4\n",
      "Incidence of malaria (per 1,000 population at risk) (per 1,000 population at risk)    416\n",
      "dtype: int64\n"
     ]
    }
   ],
   "source": [
    "check_unique(inc)"
   ]
  },
  {
   "cell_type": "code",
   "execution_count": 71,
   "id": "6af79cf2",
   "metadata": {
    "ExecuteTime": {
     "end_time": "2021-11-15T03:39:29.235612Z",
     "start_time": "2021-11-15T03:39:29.221605Z"
    },
    "scrolled": false
   },
   "outputs": [
    {
     "data": {
      "text/plain": [
       "array(['Afghanistan', 'Algeria', 'Angola', 'Argentina', 'Azerbaijan',\n",
       "       'Bangladesh', 'Belize', 'Benin', 'Bhutan', 'Bolivia', 'Botswana',\n",
       "       'Brazil', 'Burkina Faso', 'Burundi', 'Cambodia', 'Cameroon',\n",
       "       'Cape Verde', 'Central African Republic', 'Chad', 'China',\n",
       "       'Colombia', 'Comoros', 'Congo', 'Costa Rica', \"Cote d'Ivoire\",\n",
       "       'Democratic Republic of Congo', 'Djibouti', 'Dominican Republic',\n",
       "       'Early-demographic dividend', 'East Asia & Pacific',\n",
       "       'East Asia & Pacific (IDA & IBRD)',\n",
       "       'East Asia & Pacific (excluding high income)', 'Ecuador',\n",
       "       'El Salvador', 'Equatorial Guinea', 'Eritrea', 'Ethiopia',\n",
       "       'Fragile and conflict affected situations', 'Gabon', 'Gambia',\n",
       "       'Georgia', 'Ghana', 'Guatemala', 'Guinea', 'Guinea-Bissau',\n",
       "       'Guyana', 'Haiti', 'Heavily indebted poor countries (HIPC)',\n",
       "       'Honduras', 'IBRD only', 'IDA & IBRD total', 'IDA blend',\n",
       "       'IDA only', 'IDA total', 'India', 'Indonesia', 'Iran', 'Iraq',\n",
       "       'Kenya', 'Kyrgyzstan', 'Laos', 'Late-demographic dividend',\n",
       "       'Latin America & Caribbean',\n",
       "       'Latin America & Caribbean (IDA & IBRD)',\n",
       "       'Latin America & Caribbean (excluding high income)',\n",
       "       'Least developed countries: UN classification', 'Liberia',\n",
       "       'Low & middle income', 'Low income', 'Lower middle income',\n",
       "       'Madagascar', 'Malawi', 'Malaysia', 'Mali', 'Mauritania', 'Mexico',\n",
       "       'Middle income', 'Mozambique', 'Myanmar', 'Namibia', 'Nepal',\n",
       "       'Nicaragua', 'Niger', 'Nigeria', 'North Korea', 'Pakistan',\n",
       "       'Panama', 'Papua New Guinea', 'Paraguay', 'Peru', 'Philippines',\n",
       "       'Pre-demographic dividend', 'Rwanda', 'Sao Tome and Principe',\n",
       "       'Saudi Arabia', 'Senegal', 'Sierra Leone', 'Solomon Islands',\n",
       "       'Somalia', 'South Africa', 'South Asia', 'South Asia (IDA & IBRD)',\n",
       "       'South Korea', 'South Sudan', 'Sri Lanka', 'Sub-Saharan Africa',\n",
       "       'Sub-Saharan Africa (IDA & IBRD)',\n",
       "       'Sub-Saharan Africa (excluding high income)', 'Sudan', 'Suriname',\n",
       "       'Swaziland', 'Tajikistan', 'Tanzania', 'Thailand', 'Timor', 'Togo',\n",
       "       'Turkey', 'Uganda', 'Upper middle income', 'Uzbekistan', 'Vanuatu',\n",
       "       'Venezuela', 'Vietnam', 'World', 'Yemen', 'Zambia', 'Zimbabwe'],\n",
       "      dtype=object)"
      ]
     },
     "execution_count": 71,
     "metadata": {},
     "output_type": "execute_result"
    }
   ],
   "source": [
    "inc.Entity.unique()"
   ]
  },
  {
   "cell_type": "markdown",
   "id": "7d5e93c2",
   "metadata": {},
   "source": [
    "Checking the differences in unique entitty values between the above malaria deaths dataset:"
   ]
  },
  {
   "cell_type": "code",
   "execution_count": 72,
   "id": "5b946357",
   "metadata": {
    "ExecuteTime": {
     "end_time": "2021-11-15T03:39:29.251606Z",
     "start_time": "2021-11-15T03:39:29.236605Z"
    },
    "scrolled": false
   },
   "outputs": [],
   "source": [
    "# finding entity values in deaths_age which are not in inc\n",
    "non_match1 = set(deaths_age.entity).difference(set(inc.Entity))\n",
    "\n",
    "# finding entity values in inc which are not in deaths_age\n",
    "non_match2 = set(inc.Entity).difference(set(deaths_age.entity))"
   ]
  },
  {
   "cell_type": "code",
   "execution_count": 73,
   "id": "4d2f9e70",
   "metadata": {
    "ExecuteTime": {
     "end_time": "2021-11-15T03:39:29.266646Z",
     "start_time": "2021-11-15T03:39:29.252605Z"
    },
    "scrolled": true
   },
   "outputs": [
    {
     "data": {
      "text/plain": [
       "['Slovenia',\n",
       " 'Armenia',\n",
       " 'Australasia',\n",
       " 'Low-middle SDI',\n",
       " 'Austria',\n",
       " 'Low SDI',\n",
       " 'Romania',\n",
       " 'Jamaica',\n",
       " 'Hungary',\n",
       " 'Southeast Asia',\n",
       " 'France',\n",
       " 'Seychelles',\n",
       " 'England',\n",
       " 'Central Europe',\n",
       " 'Middle SDI',\n",
       " 'Puerto Rico',\n",
       " 'Andorra',\n",
       " 'Latvia',\n",
       " 'Poland',\n",
       " 'Denmark',\n",
       " 'Mongolia',\n",
       " 'Western Europe',\n",
       " 'Caribbean',\n",
       " 'North Africa and Middle East',\n",
       " 'Latin America and Caribbean',\n",
       " 'Portugal',\n",
       " 'Central Sub-Saharan Africa',\n",
       " 'East Asia',\n",
       " 'Macedonia',\n",
       " 'Saint Lucia',\n",
       " 'Turkmenistan',\n",
       " 'Netherlands',\n",
       " 'Dominica',\n",
       " 'Belgium',\n",
       " 'Mauritius',\n",
       " 'Tonga',\n",
       " 'Bulgaria',\n",
       " 'Switzerland',\n",
       " 'Fiji',\n",
       " 'Maldives',\n",
       " 'United Arab Emirates',\n",
       " 'Cuba',\n",
       " 'Central Latin America',\n",
       " 'Belarus',\n",
       " 'Trinidad and Tobago',\n",
       " 'Lebanon',\n",
       " 'United Kingdom',\n",
       " 'Malta',\n",
       " 'Antigua and Barbuda',\n",
       " 'Samoa',\n",
       " 'Iceland',\n",
       " 'Montenegro',\n",
       " 'Canada',\n",
       " 'High-middle SDI',\n",
       " 'Lesotho',\n",
       " 'Albania',\n",
       " 'Northern Ireland',\n",
       " 'Japan',\n",
       " 'Guam',\n",
       " 'Greenland',\n",
       " 'Brunei',\n",
       " 'Libya',\n",
       " 'Taiwan',\n",
       " 'Estonia',\n",
       " 'Jordan',\n",
       " 'Italy',\n",
       " 'Bermuda',\n",
       " 'High-income Asia Pacific',\n",
       " 'Australia',\n",
       " 'Eastern Sub-Saharan Africa',\n",
       " 'Andean Latin America',\n",
       " 'Tunisia',\n",
       " 'Lithuania',\n",
       " 'Finland',\n",
       " 'Eastern Europe',\n",
       " 'Qatar',\n",
       " 'Croatia',\n",
       " 'Egypt',\n",
       " 'Greece',\n",
       " 'Tropical Latin America',\n",
       " 'Bosnia and Herzegovina',\n",
       " 'Spain',\n",
       " 'Singapore',\n",
       " 'High SDI',\n",
       " 'New Zealand',\n",
       " 'Southern Latin America',\n",
       " 'Moldova',\n",
       " 'Ireland',\n",
       " 'Uruguay',\n",
       " 'Bahamas',\n",
       " 'United States Virgin Islands',\n",
       " 'Morocco',\n",
       " 'Slovakia',\n",
       " 'Western Sub-Saharan Africa',\n",
       " 'Luxembourg',\n",
       " 'Cyprus',\n",
       " 'Israel',\n",
       " 'Grenada',\n",
       " 'Scotland',\n",
       " 'North America',\n",
       " 'Oceania',\n",
       " 'Marshall Islands',\n",
       " 'Russia',\n",
       " 'Micronesia (country)',\n",
       " 'United States',\n",
       " 'Norway',\n",
       " 'Northern Mariana Islands',\n",
       " 'Southern Sub-Saharan Africa',\n",
       " 'Syria',\n",
       " 'Bahrain',\n",
       " 'Barbados',\n",
       " 'Kazakhstan',\n",
       " 'Kiribati',\n",
       " 'Germany',\n",
       " 'American Samoa',\n",
       " 'Kuwait',\n",
       " 'Saint Vincent and the Grenadines',\n",
       " 'Serbia',\n",
       " 'Oman',\n",
       " 'Central Asia',\n",
       " 'Sweden',\n",
       " 'Czech Republic',\n",
       " 'Palestine',\n",
       " 'Wales',\n",
       " 'Ukraine',\n",
       " 'Chile',\n",
       " 'Low income',\n",
       " 'Fragile and conflict affected situations',\n",
       " 'IDA & IBRD total',\n",
       " 'IBRD only',\n",
       " 'Latin America & Caribbean (IDA & IBRD)',\n",
       " 'Early-demographic dividend',\n",
       " 'Sub-Saharan Africa (IDA & IBRD)',\n",
       " 'IDA total',\n",
       " 'Sub-Saharan Africa (excluding high income)',\n",
       " 'Least developed countries: UN classification',\n",
       " 'Middle income',\n",
       " 'Late-demographic dividend',\n",
       " 'Heavily indebted poor countries (HIPC)',\n",
       " 'Upper middle income',\n",
       " 'South Asia (IDA & IBRD)',\n",
       " 'Pre-demographic dividend',\n",
       " 'Low & middle income',\n",
       " 'IDA blend',\n",
       " 'Lower middle income',\n",
       " 'Latin America & Caribbean',\n",
       " 'East Asia & Pacific (IDA & IBRD)',\n",
       " 'IDA only',\n",
       " 'East Asia & Pacific (excluding high income)',\n",
       " 'East Asia & Pacific',\n",
       " 'Latin America & Caribbean (excluding high income)']"
      ]
     },
     "execution_count": 73,
     "metadata": {},
     "output_type": "execute_result"
    }
   ],
   "source": [
    "# list of all non-matches\n",
    "list(non_match1) + list(non_match2)"
   ]
  },
  {
   "cell_type": "code",
   "execution_count": 74,
   "id": "354eb79d",
   "metadata": {
    "ExecuteTime": {
     "end_time": "2021-11-15T03:39:29.282642Z",
     "start_time": "2021-11-15T03:39:29.267605Z"
    }
   },
   "outputs": [
    {
     "data": {
      "text/plain": [
       "151"
      ]
     },
     "execution_count": 74,
     "metadata": {},
     "output_type": "execute_result"
    }
   ],
   "source": [
    "len(list(non_match1) + list(non_match2))"
   ]
  },
  {
   "cell_type": "markdown",
   "id": "0e13db0f",
   "metadata": {},
   "source": [
    "**Common entities in both datasets**:"
   ]
  },
  {
   "cell_type": "code",
   "execution_count": 75,
   "id": "85cd8759",
   "metadata": {
    "ExecuteTime": {
     "end_time": "2021-11-15T03:39:29.298607Z",
     "start_time": "2021-11-15T03:39:29.283606Z"
    },
    "scrolled": true
   },
   "outputs": [
    {
     "data": {
      "text/plain": [
       "{'Afghanistan',\n",
       " 'Algeria',\n",
       " 'Angola',\n",
       " 'Argentina',\n",
       " 'Azerbaijan',\n",
       " 'Bangladesh',\n",
       " 'Belize',\n",
       " 'Benin',\n",
       " 'Bhutan',\n",
       " 'Bolivia',\n",
       " 'Botswana',\n",
       " 'Brazil',\n",
       " 'Burkina Faso',\n",
       " 'Burundi',\n",
       " 'Cambodia',\n",
       " 'Cameroon',\n",
       " 'Cape Verde',\n",
       " 'Central African Republic',\n",
       " 'Chad',\n",
       " 'China',\n",
       " 'Colombia',\n",
       " 'Comoros',\n",
       " 'Congo',\n",
       " 'Costa Rica',\n",
       " \"Cote d'Ivoire\",\n",
       " 'Democratic Republic of Congo',\n",
       " 'Djibouti',\n",
       " 'Dominican Republic',\n",
       " 'Ecuador',\n",
       " 'El Salvador',\n",
       " 'Equatorial Guinea',\n",
       " 'Eritrea',\n",
       " 'Ethiopia',\n",
       " 'Gabon',\n",
       " 'Gambia',\n",
       " 'Georgia',\n",
       " 'Ghana',\n",
       " 'Guatemala',\n",
       " 'Guinea',\n",
       " 'Guinea-Bissau',\n",
       " 'Guyana',\n",
       " 'Haiti',\n",
       " 'Honduras',\n",
       " 'India',\n",
       " 'Indonesia',\n",
       " 'Iran',\n",
       " 'Iraq',\n",
       " 'Kenya',\n",
       " 'Kyrgyzstan',\n",
       " 'Laos',\n",
       " 'Liberia',\n",
       " 'Madagascar',\n",
       " 'Malawi',\n",
       " 'Malaysia',\n",
       " 'Mali',\n",
       " 'Mauritania',\n",
       " 'Mexico',\n",
       " 'Mozambique',\n",
       " 'Myanmar',\n",
       " 'Namibia',\n",
       " 'Nepal',\n",
       " 'Nicaragua',\n",
       " 'Niger',\n",
       " 'Nigeria',\n",
       " 'North Korea',\n",
       " 'Pakistan',\n",
       " 'Panama',\n",
       " 'Papua New Guinea',\n",
       " 'Paraguay',\n",
       " 'Peru',\n",
       " 'Philippines',\n",
       " 'Rwanda',\n",
       " 'Sao Tome and Principe',\n",
       " 'Saudi Arabia',\n",
       " 'Senegal',\n",
       " 'Sierra Leone',\n",
       " 'Solomon Islands',\n",
       " 'Somalia',\n",
       " 'South Africa',\n",
       " 'South Asia',\n",
       " 'South Korea',\n",
       " 'South Sudan',\n",
       " 'Sri Lanka',\n",
       " 'Sub-Saharan Africa',\n",
       " 'Sudan',\n",
       " 'Suriname',\n",
       " 'Swaziland',\n",
       " 'Tajikistan',\n",
       " 'Tanzania',\n",
       " 'Thailand',\n",
       " 'Timor',\n",
       " 'Togo',\n",
       " 'Turkey',\n",
       " 'Uganda',\n",
       " 'Uzbekistan',\n",
       " 'Vanuatu',\n",
       " 'Venezuela',\n",
       " 'Vietnam',\n",
       " 'World',\n",
       " 'Yemen',\n",
       " 'Zambia',\n",
       " 'Zimbabwe'}"
      ]
     },
     "execution_count": 75,
     "metadata": {},
     "output_type": "execute_result"
    }
   ],
   "source": [
    "set(deaths_age.entity).intersection(set(inc.Entity))"
   ]
  },
  {
   "cell_type": "code",
   "execution_count": 76,
   "id": "414ce309",
   "metadata": {
    "ExecuteTime": {
     "end_time": "2021-11-15T03:39:29.314473Z",
     "start_time": "2021-11-15T03:39:29.299605Z"
    }
   },
   "outputs": [
    {
     "data": {
      "text/plain": [
       "102"
      ]
     },
     "execution_count": 76,
     "metadata": {},
     "output_type": "execute_result"
    }
   ],
   "source": [
    "len(set(deaths_age.entity).intersection(set(inc.Entity)))"
   ]
  },
  {
   "cell_type": "markdown",
   "id": "ae82bc6d",
   "metadata": {},
   "source": [
    "There are only 102 entities in the current malaria incidence dataset which are common in the malara deaths by age group dataset. "
   ]
  },
  {
   "cell_type": "markdown",
   "id": "64370211",
   "metadata": {},
   "source": [
    "### Duplicates"
   ]
  },
  {
   "cell_type": "code",
   "execution_count": 77,
   "id": "631a26e6",
   "metadata": {
    "ExecuteTime": {
     "end_time": "2021-11-15T03:39:29.329473Z",
     "start_time": "2021-11-15T03:39:29.315474Z"
    }
   },
   "outputs": [
    {
     "name": "stdout",
     "output_type": "stream",
     "text": [
      "There are 0 complete duplicate rows in this dataset\n"
     ]
    }
   ],
   "source": [
    "print(f\"There are {inc.duplicated().sum()} complete duplicate rows in this dataset\")"
   ]
  },
  {
   "cell_type": "markdown",
   "id": "d97028c5",
   "metadata": {},
   "source": [
    "### Considerations for inital data preprocessing after initial exploration"
   ]
  },
  {
   "cell_type": "markdown",
   "id": "b699d3ad",
   "metadata": {},
   "source": [
    "1. The malaria incidence dataset only contains information for 4 years: 2000, 2005, 2010, 2015  \n",
    "2. There are only 102 common entities between the malaria incidence and malaria deaths datasets \n",
    "  - any comparisions are only valid for these 102 common entities for that particular year \n",
    "\n",
    "**Data processing steps for this dataset**:  \n",
    "1. Tidy up column names:\n",
    "  - lowercase all column names\n",
    "  - shorten column name for `'Incidence of malaria (per 1,000 population at risk) (per 1,000 population at risk)'` to `'malaria_incidence_1000` \n",
    "  \n",
    "2. Add a new column `'entity_type'` to allow subsetting of entity types:  \n",
    "  - `'Region'` : aggregated geographic regions, \n",
    "  - `'Country'`: entities with non-NA `'Code'` values,\n",
    "  - `'World'`: global aggregate, as indicated by entity value == 'World', \n",
    "  - `'Income/Demographic`: grouping by income or demographic status. These include entities that contain the following terms: \n",
    "    - 'Fragile and conflict affected situations',\n",
    "    - 'Heavily indebted poor countries (HIPC)',\n",
    "    - 'Late-demographic dividend',\n",
    "    - 'Least developed countries: UN classification',\n",
    "    - 'Low & middle income', \n",
    "    - 'Low income', \n",
    "    - 'Lower middle income',\n",
    "    - 'Middle income',\n",
    "    - 'Pre-demographic dividend',\n",
    "    - 'Upper middle income'"
   ]
  },
  {
   "cell_type": "markdown",
   "id": "52a4b5ef",
   "metadata": {},
   "source": [
    "# Data preprocessing steps prior to visualisation"
   ]
  },
  {
   "cell_type": "markdown",
   "id": "d2c2ee97",
   "metadata": {},
   "source": [
    "1. **malaria_deaths.csv: `deaths`**  \n",
    "- Tidy up column names:\n",
    "  - lowercase all column names\n",
    "  - shorten column name for `'Deaths - Malaria - Sex: Both - Age: Age-standardized (Rate) (per 100,000 people)'` to `'age_std_death_rate'`  \n",
    "- Impute the missing `'Code'` values for 'Wales', 'England', 'Scotland', 'Northern Ireland' as 'GBR' as they represent the same geographic region of the United Kingdom   \n",
    "- Add a new column `'entity_type'` to allow subsetting of entity types:  \n",
    "  - `'Region'` : aggregated geographic regions, \n",
    "  - `'SDI`: Socio-demographic Index status  \n",
    "  - `'Country'`: entities with non-NA `'Code'` values  \n",
    "  - `'World'`: global aggregate, as indicated by entity value == 'World' \n",
    "  \n",
    "2. **malaria_deaths_age.csv: `deaths_age`**  \n",
    "- Drop the row index column `'Unnamed: 0'` as it does not provide any useful information.  \n",
    "- Impute the missing `'Code'` values for 'Wales', 'England', 'Scotland', 'Northern Ireland' as 'GBR' as they represent the same geographic region of the United Kingdom   \n",
    "- Add a new column `'entity_type'` to allow subsetting of entity types:  \n",
    "  - `'Region'` : aggregated geographic regions, \n",
    "  - `'SDI`: Socio-demographic Index status  \n",
    "  - `'Country'`: entities with non-NA `'Code'` values  \n",
    "  - `'World'`: global aggregate, as indicated by entity value == 'World' \n",
    "\n",
    "3. **malaria_inc.csv: `inc`**  \n",
    "- Tidy up column names:\n",
    "  - lowercase all column names\n",
    "  - shorten column name for `'Incidence of malaria (per 1,000 population at risk) (per 1,000 population at risk)'` to `'malaria_incidence_1000'` \n",
    "  \n",
    "- Add a new column `'entity_type'` to allow subsetting of entity types:  \n",
    "  - `'Region'` : aggregated geographic regions, \n",
    "  - `'Country'`: entities with non-NA `'Code'` values,\n",
    "  - `'World'`: global aggregate, as indicated by entity value == 'World', \n",
    "  - `'Income/Demographic`: grouping by income or demographic status. These are entities that contain the following terms: \n",
    "    - 'Fragile and conflict affected situations',\n",
    "    - 'Heavily indebted poor countries (HIPC)',\n",
    "    - 'Late-demographic dividend',\n",
    "    - 'Least developed countries: UN classification',\n",
    "    - 'Low & middle income', \n",
    "    - 'Low income', \n",
    "    - 'Lower middle income',\n",
    "    - 'Middle income',\n",
    "    - 'Pre-demographic dividend',\n",
    "    - 'Upper middle income'"
   ]
  },
  {
   "cell_type": "markdown",
   "id": "677a6a81",
   "metadata": {},
   "source": [
    "## malaria_deaths.csv"
   ]
  },
  {
   "cell_type": "code",
   "execution_count": 78,
   "id": "e438bba8",
   "metadata": {
    "ExecuteTime": {
     "end_time": "2021-11-15T03:39:29.345473Z",
     "start_time": "2021-11-15T03:39:29.330474Z"
    }
   },
   "outputs": [],
   "source": [
    "deaths.columns = deaths.columns.str.lower()\n",
    "deaths.rename(\n",
    "    columns = {\n",
    "        'deaths - malaria - sex: both - age: age-standardized (rate) (per 100,000 people)': 'age_std_death_rate'},\n",
    "    inplace = True\n",
    ")"
   ]
  },
  {
   "cell_type": "code",
   "execution_count": 79,
   "id": "949d0c90",
   "metadata": {
    "ExecuteTime": {
     "end_time": "2021-11-15T03:39:29.361473Z",
     "start_time": "2021-11-15T03:39:29.346474Z"
    }
   },
   "outputs": [
    {
     "data": {
      "text/plain": [
       "Index(['entity', 'code', 'year', 'age_std_death_rate'], dtype='object')"
      ]
     },
     "execution_count": 79,
     "metadata": {},
     "output_type": "execute_result"
    }
   ],
   "source": [
    "# Checking renamed columns\n",
    "deaths.columns"
   ]
  },
  {
   "cell_type": "code",
   "execution_count": 80,
   "id": "dd4095d3",
   "metadata": {
    "ExecuteTime": {
     "end_time": "2021-11-15T03:39:29.377473Z",
     "start_time": "2021-11-15T03:39:29.362473Z"
    }
   },
   "outputs": [],
   "source": [
    "uk_list = ['Wales', 'England', 'Scotland', 'Northern Ireland', 'United Kingdom']"
   ]
  },
  {
   "cell_type": "code",
   "execution_count": 81,
   "id": "66c338c7",
   "metadata": {
    "ExecuteTime": {
     "end_time": "2021-11-15T03:39:29.393511Z",
     "start_time": "2021-11-15T03:39:29.378475Z"
    }
   },
   "outputs": [],
   "source": [
    "deaths.loc[(deaths.code.isnull() & deaths.entity.isin(uk_list)),\"code\"] = \"GBR\""
   ]
  },
  {
   "cell_type": "code",
   "execution_count": 82,
   "id": "57f3dc9b",
   "metadata": {
    "ExecuteTime": {
     "end_time": "2021-11-15T03:39:29.409475Z",
     "start_time": "2021-11-15T03:39:29.398519Z"
    }
   },
   "outputs": [
    {
     "name": "stdout",
     "output_type": "stream",
     "text": [
      "<class 'pandas.core.frame.DataFrame'>\n",
      "RangeIndex: 6156 entries, 0 to 6155\n",
      "Data columns (total 4 columns):\n",
      " #   Column              Non-Null Count  Dtype  \n",
      "---  ------              --------------  -----  \n",
      " 0   entity              6156 non-null   object \n",
      " 1   code                5400 non-null   object \n",
      " 2   year                6156 non-null   int64  \n",
      " 3   age_std_death_rate  6156 non-null   float64\n",
      "dtypes: float64(1), int64(1), object(2)\n",
      "memory usage: 192.5+ KB\n"
     ]
    }
   ],
   "source": [
    "deaths.info()"
   ]
  },
  {
   "cell_type": "code",
   "execution_count": 83,
   "id": "34e0908a",
   "metadata": {
    "ExecuteTime": {
     "end_time": "2021-11-15T03:39:29.425475Z",
     "start_time": "2021-11-15T03:39:29.410474Z"
    }
   },
   "outputs": [
    {
     "data": {
      "text/html": [
       "<div>\n",
       "<style scoped>\n",
       "    .dataframe tbody tr th:only-of-type {\n",
       "        vertical-align: middle;\n",
       "    }\n",
       "\n",
       "    .dataframe tbody tr th {\n",
       "        vertical-align: top;\n",
       "    }\n",
       "\n",
       "    .dataframe thead th {\n",
       "        text-align: right;\n",
       "    }\n",
       "</style>\n",
       "<table border=\"1\" class=\"dataframe\">\n",
       "  <thead>\n",
       "    <tr style=\"text-align: right;\">\n",
       "      <th></th>\n",
       "      <th>entity</th>\n",
       "      <th>code</th>\n",
       "      <th>year</th>\n",
       "      <th>age_std_death_rate</th>\n",
       "    </tr>\n",
       "  </thead>\n",
       "  <tbody>\n",
       "    <tr>\n",
       "      <th>1755</th>\n",
       "      <td>England</td>\n",
       "      <td>GBR</td>\n",
       "      <td>1990</td>\n",
       "      <td>0.0</td>\n",
       "    </tr>\n",
       "    <tr>\n",
       "      <th>1756</th>\n",
       "      <td>England</td>\n",
       "      <td>GBR</td>\n",
       "      <td>1991</td>\n",
       "      <td>0.0</td>\n",
       "    </tr>\n",
       "    <tr>\n",
       "      <th>1757</th>\n",
       "      <td>England</td>\n",
       "      <td>GBR</td>\n",
       "      <td>1992</td>\n",
       "      <td>0.0</td>\n",
       "    </tr>\n",
       "    <tr>\n",
       "      <th>1758</th>\n",
       "      <td>England</td>\n",
       "      <td>GBR</td>\n",
       "      <td>1993</td>\n",
       "      <td>0.0</td>\n",
       "    </tr>\n",
       "    <tr>\n",
       "      <th>1759</th>\n",
       "      <td>England</td>\n",
       "      <td>GBR</td>\n",
       "      <td>1994</td>\n",
       "      <td>0.0</td>\n",
       "    </tr>\n",
       "    <tr>\n",
       "      <th>...</th>\n",
       "      <td>...</td>\n",
       "      <td>...</td>\n",
       "      <td>...</td>\n",
       "      <td>...</td>\n",
       "    </tr>\n",
       "    <tr>\n",
       "      <th>5989</th>\n",
       "      <td>Wales</td>\n",
       "      <td>GBR</td>\n",
       "      <td>2012</td>\n",
       "      <td>0.0</td>\n",
       "    </tr>\n",
       "    <tr>\n",
       "      <th>5990</th>\n",
       "      <td>Wales</td>\n",
       "      <td>GBR</td>\n",
       "      <td>2013</td>\n",
       "      <td>0.0</td>\n",
       "    </tr>\n",
       "    <tr>\n",
       "      <th>5991</th>\n",
       "      <td>Wales</td>\n",
       "      <td>GBR</td>\n",
       "      <td>2014</td>\n",
       "      <td>0.0</td>\n",
       "    </tr>\n",
       "    <tr>\n",
       "      <th>5992</th>\n",
       "      <td>Wales</td>\n",
       "      <td>GBR</td>\n",
       "      <td>2015</td>\n",
       "      <td>0.0</td>\n",
       "    </tr>\n",
       "    <tr>\n",
       "      <th>5993</th>\n",
       "      <td>Wales</td>\n",
       "      <td>GBR</td>\n",
       "      <td>2016</td>\n",
       "      <td>0.0</td>\n",
       "    </tr>\n",
       "  </tbody>\n",
       "</table>\n",
       "<p>135 rows × 4 columns</p>\n",
       "</div>"
      ],
      "text/plain": [
       "       entity code  year  age_std_death_rate\n",
       "1755  England  GBR  1990                 0.0\n",
       "1756  England  GBR  1991                 0.0\n",
       "1757  England  GBR  1992                 0.0\n",
       "1758  England  GBR  1993                 0.0\n",
       "1759  England  GBR  1994                 0.0\n",
       "...       ...  ...   ...                 ...\n",
       "5989    Wales  GBR  2012                 0.0\n",
       "5990    Wales  GBR  2013                 0.0\n",
       "5991    Wales  GBR  2014                 0.0\n",
       "5992    Wales  GBR  2015                 0.0\n",
       "5993    Wales  GBR  2016                 0.0\n",
       "\n",
       "[135 rows x 4 columns]"
      ]
     },
     "execution_count": 83,
     "metadata": {},
     "output_type": "execute_result"
    }
   ],
   "source": [
    "deaths.loc[deaths.entity.isin(uk_list),:]"
   ]
  },
  {
   "cell_type": "code",
   "execution_count": 84,
   "id": "74d60148",
   "metadata": {
    "ExecuteTime": {
     "end_time": "2021-11-15T03:39:29.441475Z",
     "start_time": "2021-11-15T03:39:29.426475Z"
    }
   },
   "outputs": [
    {
     "name": "stdout",
     "output_type": "stream",
     "text": [
      "There are 0     NA values for 'code' for UK-related entities ['Wales', 'England', 'Scotland', 'Northern Ireland', 'United Kingdom']\n"
     ]
    }
   ],
   "source": [
    "print(\n",
    "    f\"There are {deaths.loc[deaths.entity.isin(uk_list),'code'].isnull().sum()} \\\n",
    "    NA values for 'code' for UK-related entities {uk_list}\"\n",
    ")"
   ]
  },
  {
   "cell_type": "code",
   "execution_count": 85,
   "id": "ac2953a0",
   "metadata": {
    "ExecuteTime": {
     "end_time": "2021-11-15T03:39:29.505476Z",
     "start_time": "2021-11-15T03:39:29.442475Z"
    }
   },
   "outputs": [],
   "source": [
    "# list of entities that will be grouped under 'Income/Demographic' entity_type\n",
    "income_demo = [\n",
    "    'Fragile and conflict affected situations',\n",
    "    'Heavily indebted poor countries (HIPC)',\n",
    "    'Late-demographic dividend',\n",
    "    'Least developed countries: UN classification',\n",
    "    'Low & middle income', \n",
    "    'Low income', \n",
    "    'Lower middle income',\n",
    "    'Middle income',\n",
    "    'Pre-demographic dividend',\n",
    "    'Upper middle income'\n",
    "]\n",
    "\n",
    "def assign_entity_type(code, entity):\n",
    "    \n",
    "    if entity == 'World':\n",
    "         entity_type = 'World'\n",
    "    elif not pd.isnull(code):\n",
    "        entity_type = 'Country'\n",
    "    elif pd.isnull(code) and 'SDI' in entity:\n",
    "        entity_type = 'SDI'\n",
    "    elif pd.isnull(code) and entity in income_demo:\n",
    "        entity_type = 'Income/Demographic'\n",
    "   \n",
    "    else:\n",
    "        entity_type = 'Region'\n",
    "\n",
    "    return entity_type\n",
    "\n",
    "# apply 'assign_entity_type' function to each row\n",
    "deaths['entity_type'] = deaths.apply(\n",
    "    lambda x: assign_entity_type(\n",
    "        x['code'], \n",
    "        x['entity']\n",
    "    ), \n",
    "    axis=1\n",
    ")"
   ]
  },
  {
   "cell_type": "code",
   "execution_count": 86,
   "id": "e5707f92",
   "metadata": {
    "ExecuteTime": {
     "end_time": "2021-11-15T03:39:29.521422Z",
     "start_time": "2021-11-15T03:39:29.506764Z"
    },
    "scrolled": false
   },
   "outputs": [
    {
     "data": {
      "text/html": [
       "<div>\n",
       "<style scoped>\n",
       "    .dataframe tbody tr th:only-of-type {\n",
       "        vertical-align: middle;\n",
       "    }\n",
       "\n",
       "    .dataframe tbody tr th {\n",
       "        vertical-align: top;\n",
       "    }\n",
       "\n",
       "    .dataframe thead th {\n",
       "        text-align: right;\n",
       "    }\n",
       "</style>\n",
       "<table border=\"1\" class=\"dataframe\">\n",
       "  <thead>\n",
       "    <tr style=\"text-align: right;\">\n",
       "      <th></th>\n",
       "      <th>entity</th>\n",
       "      <th>code</th>\n",
       "      <th>year</th>\n",
       "      <th>age_std_death_rate</th>\n",
       "      <th>entity_type</th>\n",
       "    </tr>\n",
       "  </thead>\n",
       "  <tbody>\n",
       "    <tr>\n",
       "      <th>0</th>\n",
       "      <td>Afghanistan</td>\n",
       "      <td>AFG</td>\n",
       "      <td>1990</td>\n",
       "      <td>6.802930</td>\n",
       "      <td>Country</td>\n",
       "    </tr>\n",
       "    <tr>\n",
       "      <th>1</th>\n",
       "      <td>Afghanistan</td>\n",
       "      <td>AFG</td>\n",
       "      <td>1991</td>\n",
       "      <td>6.973494</td>\n",
       "      <td>Country</td>\n",
       "    </tr>\n",
       "    <tr>\n",
       "      <th>2</th>\n",
       "      <td>Afghanistan</td>\n",
       "      <td>AFG</td>\n",
       "      <td>1992</td>\n",
       "      <td>6.989882</td>\n",
       "      <td>Country</td>\n",
       "    </tr>\n",
       "    <tr>\n",
       "      <th>3</th>\n",
       "      <td>Afghanistan</td>\n",
       "      <td>AFG</td>\n",
       "      <td>1993</td>\n",
       "      <td>7.088983</td>\n",
       "      <td>Country</td>\n",
       "    </tr>\n",
       "    <tr>\n",
       "      <th>4</th>\n",
       "      <td>Afghanistan</td>\n",
       "      <td>AFG</td>\n",
       "      <td>1994</td>\n",
       "      <td>7.392472</td>\n",
       "      <td>Country</td>\n",
       "    </tr>\n",
       "    <tr>\n",
       "      <th>...</th>\n",
       "      <td>...</td>\n",
       "      <td>...</td>\n",
       "      <td>...</td>\n",
       "      <td>...</td>\n",
       "      <td>...</td>\n",
       "    </tr>\n",
       "    <tr>\n",
       "      <th>6151</th>\n",
       "      <td>Zimbabwe</td>\n",
       "      <td>ZWE</td>\n",
       "      <td>2012</td>\n",
       "      <td>9.751727</td>\n",
       "      <td>Country</td>\n",
       "    </tr>\n",
       "    <tr>\n",
       "      <th>6152</th>\n",
       "      <td>Zimbabwe</td>\n",
       "      <td>ZWE</td>\n",
       "      <td>2013</td>\n",
       "      <td>9.419939</td>\n",
       "      <td>Country</td>\n",
       "    </tr>\n",
       "    <tr>\n",
       "      <th>6153</th>\n",
       "      <td>Zimbabwe</td>\n",
       "      <td>ZWE</td>\n",
       "      <td>2014</td>\n",
       "      <td>9.487453</td>\n",
       "      <td>Country</td>\n",
       "    </tr>\n",
       "    <tr>\n",
       "      <th>6154</th>\n",
       "      <td>Zimbabwe</td>\n",
       "      <td>ZWE</td>\n",
       "      <td>2015</td>\n",
       "      <td>9.440046</td>\n",
       "      <td>Country</td>\n",
       "    </tr>\n",
       "    <tr>\n",
       "      <th>6155</th>\n",
       "      <td>Zimbabwe</td>\n",
       "      <td>ZWE</td>\n",
       "      <td>2016</td>\n",
       "      <td>9.507309</td>\n",
       "      <td>Country</td>\n",
       "    </tr>\n",
       "  </tbody>\n",
       "</table>\n",
       "<p>6156 rows × 5 columns</p>\n",
       "</div>"
      ],
      "text/plain": [
       "           entity code  year  age_std_death_rate entity_type\n",
       "0     Afghanistan  AFG  1990            6.802930     Country\n",
       "1     Afghanistan  AFG  1991            6.973494     Country\n",
       "2     Afghanistan  AFG  1992            6.989882     Country\n",
       "3     Afghanistan  AFG  1993            7.088983     Country\n",
       "4     Afghanistan  AFG  1994            7.392472     Country\n",
       "...           ...  ...   ...                 ...         ...\n",
       "6151     Zimbabwe  ZWE  2012            9.751727     Country\n",
       "6152     Zimbabwe  ZWE  2013            9.419939     Country\n",
       "6153     Zimbabwe  ZWE  2014            9.487453     Country\n",
       "6154     Zimbabwe  ZWE  2015            9.440046     Country\n",
       "6155     Zimbabwe  ZWE  2016            9.507309     Country\n",
       "\n",
       "[6156 rows x 5 columns]"
      ]
     },
     "execution_count": 86,
     "metadata": {},
     "output_type": "execute_result"
    }
   ],
   "source": [
    "deaths"
   ]
  },
  {
   "cell_type": "code",
   "execution_count": 87,
   "id": "518c11a4",
   "metadata": {
    "ExecuteTime": {
     "end_time": "2021-11-15T03:39:29.537422Z",
     "start_time": "2021-11-15T03:39:29.522437Z"
    },
    "scrolled": true
   },
   "outputs": [
    {
     "name": "stdout",
     "output_type": "stream",
     "text": [
      "<class 'pandas.core.frame.DataFrame'>\n",
      "RangeIndex: 6156 entries, 0 to 6155\n",
      "Data columns (total 5 columns):\n",
      " #   Column              Non-Null Count  Dtype  \n",
      "---  ------              --------------  -----  \n",
      " 0   entity              6156 non-null   object \n",
      " 1   code                5400 non-null   object \n",
      " 2   year                6156 non-null   int64  \n",
      " 3   age_std_death_rate  6156 non-null   float64\n",
      " 4   entity_type         6156 non-null   object \n",
      "dtypes: float64(1), int64(1), object(3)\n",
      "memory usage: 240.6+ KB\n"
     ]
    }
   ],
   "source": [
    "deaths.info()"
   ]
  },
  {
   "cell_type": "code",
   "execution_count": 88,
   "id": "6a85774e",
   "metadata": {
    "ExecuteTime": {
     "end_time": "2021-11-15T03:39:29.553423Z",
     "start_time": "2021-11-15T03:39:29.538423Z"
    }
   },
   "outputs": [
    {
     "data": {
      "text/plain": [
       "Country    5373\n",
       "Region      621\n",
       "SDI         135\n",
       "World        27\n",
       "Name: entity_type, dtype: int64"
      ]
     },
     "execution_count": 88,
     "metadata": {},
     "output_type": "execute_result"
    }
   ],
   "source": [
    "deaths.entity_type.value_counts()"
   ]
  },
  {
   "cell_type": "markdown",
   "id": "68e93178",
   "metadata": {},
   "source": [
    "## malaria_deaths_age.csv"
   ]
  },
  {
   "cell_type": "code",
   "execution_count": 89,
   "id": "20766bc9",
   "metadata": {
    "ExecuteTime": {
     "end_time": "2021-11-15T03:39:29.569424Z",
     "start_time": "2021-11-15T03:39:29.554421Z"
    }
   },
   "outputs": [],
   "source": [
    "deaths_age.drop(columns = ['Unnamed: 0'], inplace= True)"
   ]
  },
  {
   "cell_type": "code",
   "execution_count": 90,
   "id": "1cebf74f",
   "metadata": {
    "ExecuteTime": {
     "end_time": "2021-11-15T03:39:29.585422Z",
     "start_time": "2021-11-15T03:39:29.570423Z"
    }
   },
   "outputs": [
    {
     "name": "stdout",
     "output_type": "stream",
     "text": [
      "<class 'pandas.core.frame.DataFrame'>\n",
      "RangeIndex: 30780 entries, 0 to 30779\n",
      "Data columns (total 5 columns):\n",
      " #   Column     Non-Null Count  Dtype  \n",
      "---  ------     --------------  -----  \n",
      " 0   entity     30780 non-null  object \n",
      " 1   code       26460 non-null  object \n",
      " 2   year       30780 non-null  int64  \n",
      " 3   age_group  30780 non-null  object \n",
      " 4   deaths     30780 non-null  float64\n",
      "dtypes: float64(1), int64(1), object(3)\n",
      "memory usage: 1.2+ MB\n"
     ]
    }
   ],
   "source": [
    "deaths_age.info()"
   ]
  },
  {
   "cell_type": "code",
   "execution_count": 91,
   "id": "827b2f2b",
   "metadata": {
    "ExecuteTime": {
     "end_time": "2021-11-15T03:39:29.601423Z",
     "start_time": "2021-11-15T03:39:29.586423Z"
    }
   },
   "outputs": [],
   "source": [
    "deaths_age.loc[(deaths_age.code.isnull() & deaths_age.entity.isin(uk_list)),\"code\"] = \"GBR\""
   ]
  },
  {
   "cell_type": "code",
   "execution_count": 92,
   "id": "a732d97e",
   "metadata": {
    "ExecuteTime": {
     "end_time": "2021-11-15T03:39:29.617424Z",
     "start_time": "2021-11-15T03:39:29.602422Z"
    }
   },
   "outputs": [
    {
     "data": {
      "text/html": [
       "<div>\n",
       "<style scoped>\n",
       "    .dataframe tbody tr th:only-of-type {\n",
       "        vertical-align: middle;\n",
       "    }\n",
       "\n",
       "    .dataframe tbody tr th {\n",
       "        vertical-align: top;\n",
       "    }\n",
       "\n",
       "    .dataframe thead th {\n",
       "        text-align: right;\n",
       "    }\n",
       "</style>\n",
       "<table border=\"1\" class=\"dataframe\">\n",
       "  <thead>\n",
       "    <tr style=\"text-align: right;\">\n",
       "      <th></th>\n",
       "      <th>entity</th>\n",
       "      <th>code</th>\n",
       "      <th>year</th>\n",
       "      <th>age_group</th>\n",
       "      <th>deaths</th>\n",
       "    </tr>\n",
       "  </thead>\n",
       "  <tbody>\n",
       "    <tr>\n",
       "      <th>1755</th>\n",
       "      <td>England</td>\n",
       "      <td>GBR</td>\n",
       "      <td>1990</td>\n",
       "      <td>Under 5</td>\n",
       "      <td>0.0</td>\n",
       "    </tr>\n",
       "    <tr>\n",
       "      <th>1756</th>\n",
       "      <td>England</td>\n",
       "      <td>GBR</td>\n",
       "      <td>1991</td>\n",
       "      <td>Under 5</td>\n",
       "      <td>0.0</td>\n",
       "    </tr>\n",
       "    <tr>\n",
       "      <th>1757</th>\n",
       "      <td>England</td>\n",
       "      <td>GBR</td>\n",
       "      <td>1992</td>\n",
       "      <td>Under 5</td>\n",
       "      <td>0.0</td>\n",
       "    </tr>\n",
       "    <tr>\n",
       "      <th>1758</th>\n",
       "      <td>England</td>\n",
       "      <td>GBR</td>\n",
       "      <td>1993</td>\n",
       "      <td>Under 5</td>\n",
       "      <td>0.0</td>\n",
       "    </tr>\n",
       "    <tr>\n",
       "      <th>1759</th>\n",
       "      <td>England</td>\n",
       "      <td>GBR</td>\n",
       "      <td>1994</td>\n",
       "      <td>Under 5</td>\n",
       "      <td>0.0</td>\n",
       "    </tr>\n",
       "    <tr>\n",
       "      <th>...</th>\n",
       "      <td>...</td>\n",
       "      <td>...</td>\n",
       "      <td>...</td>\n",
       "      <td>...</td>\n",
       "      <td>...</td>\n",
       "    </tr>\n",
       "    <tr>\n",
       "      <th>30613</th>\n",
       "      <td>Wales</td>\n",
       "      <td>GBR</td>\n",
       "      <td>2012</td>\n",
       "      <td>50-69</td>\n",
       "      <td>0.0</td>\n",
       "    </tr>\n",
       "    <tr>\n",
       "      <th>30614</th>\n",
       "      <td>Wales</td>\n",
       "      <td>GBR</td>\n",
       "      <td>2013</td>\n",
       "      <td>50-69</td>\n",
       "      <td>0.0</td>\n",
       "    </tr>\n",
       "    <tr>\n",
       "      <th>30615</th>\n",
       "      <td>Wales</td>\n",
       "      <td>GBR</td>\n",
       "      <td>2014</td>\n",
       "      <td>50-69</td>\n",
       "      <td>0.0</td>\n",
       "    </tr>\n",
       "    <tr>\n",
       "      <th>30616</th>\n",
       "      <td>Wales</td>\n",
       "      <td>GBR</td>\n",
       "      <td>2015</td>\n",
       "      <td>50-69</td>\n",
       "      <td>0.0</td>\n",
       "    </tr>\n",
       "    <tr>\n",
       "      <th>30617</th>\n",
       "      <td>Wales</td>\n",
       "      <td>GBR</td>\n",
       "      <td>2016</td>\n",
       "      <td>50-69</td>\n",
       "      <td>0.0</td>\n",
       "    </tr>\n",
       "  </tbody>\n",
       "</table>\n",
       "<p>675 rows × 5 columns</p>\n",
       "</div>"
      ],
      "text/plain": [
       "        entity code  year age_group  deaths\n",
       "1755   England  GBR  1990   Under 5     0.0\n",
       "1756   England  GBR  1991   Under 5     0.0\n",
       "1757   England  GBR  1992   Under 5     0.0\n",
       "1758   England  GBR  1993   Under 5     0.0\n",
       "1759   England  GBR  1994   Under 5     0.0\n",
       "...        ...  ...   ...       ...     ...\n",
       "30613    Wales  GBR  2012     50-69     0.0\n",
       "30614    Wales  GBR  2013     50-69     0.0\n",
       "30615    Wales  GBR  2014     50-69     0.0\n",
       "30616    Wales  GBR  2015     50-69     0.0\n",
       "30617    Wales  GBR  2016     50-69     0.0\n",
       "\n",
       "[675 rows x 5 columns]"
      ]
     },
     "execution_count": 92,
     "metadata": {},
     "output_type": "execute_result"
    }
   ],
   "source": [
    "deaths_age.loc[deaths_age.entity.isin(uk_list),:]"
   ]
  },
  {
   "cell_type": "code",
   "execution_count": 93,
   "id": "8887ec04",
   "metadata": {
    "ExecuteTime": {
     "end_time": "2021-11-15T03:39:29.632422Z",
     "start_time": "2021-11-15T03:39:29.619421Z"
    }
   },
   "outputs": [
    {
     "name": "stdout",
     "output_type": "stream",
     "text": [
      "There are 0     NA values for 'code' for UK-related entities ['Wales', 'England', 'Scotland', 'Northern Ireland', 'United Kingdom']\n"
     ]
    }
   ],
   "source": [
    "print(\n",
    "    f\"There are {deaths.loc[deaths.entity.isin(uk_list),'code'].isnull().sum()} \\\n",
    "    NA values for 'code' for UK-related entities {uk_list}\"\n",
    ")"
   ]
  },
  {
   "cell_type": "code",
   "execution_count": 94,
   "id": "fab4fbc1",
   "metadata": {
    "ExecuteTime": {
     "end_time": "2021-11-15T03:39:29.647422Z",
     "start_time": "2021-11-15T03:39:29.633423Z"
    }
   },
   "outputs": [
    {
     "name": "stdout",
     "output_type": "stream",
     "text": [
      "<class 'pandas.core.frame.DataFrame'>\n",
      "RangeIndex: 30780 entries, 0 to 30779\n",
      "Data columns (total 5 columns):\n",
      " #   Column     Non-Null Count  Dtype  \n",
      "---  ------     --------------  -----  \n",
      " 0   entity     30780 non-null  object \n",
      " 1   code       27000 non-null  object \n",
      " 2   year       30780 non-null  int64  \n",
      " 3   age_group  30780 non-null  object \n",
      " 4   deaths     30780 non-null  float64\n",
      "dtypes: float64(1), int64(1), object(3)\n",
      "memory usage: 1.2+ MB\n"
     ]
    }
   ],
   "source": [
    "deaths_age.info()"
   ]
  },
  {
   "cell_type": "code",
   "execution_count": 95,
   "id": "27b925f3",
   "metadata": {
    "ExecuteTime": {
     "end_time": "2021-11-15T03:39:29.901199Z",
     "start_time": "2021-11-15T03:39:29.648423Z"
    }
   },
   "outputs": [],
   "source": [
    "# apply 'assign_entity_type' function to each row\n",
    "deaths_age['entity_type'] = deaths_age.apply(\n",
    "    lambda x: assign_entity_type(\n",
    "        x['code'], \n",
    "        x['entity']\n",
    "    ), \n",
    "    axis=1\n",
    ")"
   ]
  },
  {
   "cell_type": "code",
   "execution_count": 96,
   "id": "35f496ab",
   "metadata": {
    "ExecuteTime": {
     "end_time": "2021-11-15T03:39:29.917257Z",
     "start_time": "2021-11-15T03:39:29.902201Z"
    }
   },
   "outputs": [
    {
     "name": "stdout",
     "output_type": "stream",
     "text": [
      "<class 'pandas.core.frame.DataFrame'>\n",
      "RangeIndex: 30780 entries, 0 to 30779\n",
      "Data columns (total 6 columns):\n",
      " #   Column       Non-Null Count  Dtype  \n",
      "---  ------       --------------  -----  \n",
      " 0   entity       30780 non-null  object \n",
      " 1   code         27000 non-null  object \n",
      " 2   year         30780 non-null  int64  \n",
      " 3   age_group    30780 non-null  object \n",
      " 4   deaths       30780 non-null  float64\n",
      " 5   entity_type  30780 non-null  object \n",
      "dtypes: float64(1), int64(1), object(4)\n",
      "memory usage: 1.4+ MB\n"
     ]
    }
   ],
   "source": [
    "deaths_age.info()"
   ]
  },
  {
   "cell_type": "code",
   "execution_count": 97,
   "id": "8a568f84",
   "metadata": {
    "ExecuteTime": {
     "end_time": "2021-11-15T03:39:29.932859Z",
     "start_time": "2021-11-15T03:39:29.917856Z"
    }
   },
   "outputs": [
    {
     "data": {
      "text/plain": [
       "Country    26865\n",
       "Region      3105\n",
       "SDI          675\n",
       "World        135\n",
       "Name: entity_type, dtype: int64"
      ]
     },
     "execution_count": 97,
     "metadata": {},
     "output_type": "execute_result"
    }
   ],
   "source": [
    "deaths_age.entity_type.value_counts()"
   ]
  },
  {
   "cell_type": "markdown",
   "id": "9b407546",
   "metadata": {},
   "source": [
    "## malaria_inc.csv"
   ]
  },
  {
   "cell_type": "code",
   "execution_count": 98,
   "id": "fb9f6c11",
   "metadata": {
    "ExecuteTime": {
     "end_time": "2021-11-15T03:39:29.948871Z",
     "start_time": "2021-11-15T03:39:29.933860Z"
    }
   },
   "outputs": [],
   "source": [
    "inc.columns = inc.columns.str.lower()\n",
    "inc.rename(\n",
    "    columns = {\n",
    "        'incidence of malaria (per 1,000 population at risk) (per 1,000 population at risk)' : 'malaria_incidence_1000'\n",
    "    },\n",
    "    inplace = True\n",
    ")"
   ]
  },
  {
   "cell_type": "code",
   "execution_count": 99,
   "id": "c5fc086c",
   "metadata": {
    "ExecuteTime": {
     "end_time": "2021-11-15T03:39:29.964005Z",
     "start_time": "2021-11-15T03:39:29.949859Z"
    }
   },
   "outputs": [
    {
     "data": {
      "text/plain": [
       "Index(['entity', 'code', 'year', 'malaria_incidence_1000'], dtype='object')"
      ]
     },
     "execution_count": 99,
     "metadata": {},
     "output_type": "execute_result"
    }
   ],
   "source": [
    "inc.columns"
   ]
  },
  {
   "cell_type": "code",
   "execution_count": 100,
   "id": "376b1012",
   "metadata": {
    "ExecuteTime": {
     "end_time": "2021-11-15T03:39:29.979054Z",
     "start_time": "2021-11-15T03:39:29.965006Z"
    },
    "scrolled": true
   },
   "outputs": [
    {
     "name": "stdout",
     "output_type": "stream",
     "text": [
      "<class 'pandas.core.frame.DataFrame'>\n",
      "RangeIndex: 508 entries, 0 to 507\n",
      "Data columns (total 4 columns):\n",
      " #   Column                  Non-Null Count  Dtype  \n",
      "---  ------                  --------------  -----  \n",
      " 0   entity                  508 non-null    object \n",
      " 1   code                    400 non-null    object \n",
      " 2   year                    508 non-null    int64  \n",
      " 3   malaria_incidence_1000  508 non-null    float64\n",
      "dtypes: float64(1), int64(1), object(2)\n",
      "memory usage: 16.0+ KB\n"
     ]
    }
   ],
   "source": [
    "inc.info()"
   ]
  },
  {
   "cell_type": "code",
   "execution_count": 101,
   "id": "4471f7be",
   "metadata": {
    "ExecuteTime": {
     "end_time": "2021-11-15T03:39:29.995011Z",
     "start_time": "2021-11-15T03:39:29.980006Z"
    }
   },
   "outputs": [],
   "source": [
    "# apply 'assign_entity_type' function to each row\n",
    "inc['entity_type'] = inc.apply(\n",
    "    lambda x: assign_entity_type(\n",
    "        x['code'], \n",
    "        x['entity']\n",
    "    ), \n",
    "    axis=1\n",
    ")"
   ]
  },
  {
   "cell_type": "code",
   "execution_count": 102,
   "id": "9e230434",
   "metadata": {
    "ExecuteTime": {
     "end_time": "2021-11-15T03:39:30.010950Z",
     "start_time": "2021-11-15T03:39:29.996007Z"
    }
   },
   "outputs": [
    {
     "data": {
      "text/plain": [
       "Country               396\n",
       "Region                 68\n",
       "Income/Demographic     40\n",
       "World                   4\n",
       "Name: entity_type, dtype: int64"
      ]
     },
     "execution_count": 102,
     "metadata": {},
     "output_type": "execute_result"
    }
   ],
   "source": [
    "inc.entity_type.value_counts()"
   ]
  },
  {
   "cell_type": "markdown",
   "id": "9f1add2c",
   "metadata": {},
   "source": [
    "## save processed csv"
   ]
  },
  {
   "cell_type": "code",
   "execution_count": 108,
   "id": "609a2659",
   "metadata": {
    "ExecuteTime": {
     "end_time": "2021-11-15T03:40:03.010540Z",
     "start_time": "2021-11-15T03:40:03.002617Z"
    }
   },
   "outputs": [],
   "source": [
    "processed_folder = data_folder / 'processed'"
   ]
  },
  {
   "cell_type": "code",
   "execution_count": 111,
   "id": "d5e3052c",
   "metadata": {
    "ExecuteTime": {
     "end_time": "2021-11-15T03:41:15.082124Z",
     "start_time": "2021-11-15T03:41:15.001445Z"
    }
   },
   "outputs": [],
   "source": [
    "deaths.to_csv(processed_folder/'malaria_deaths_processed.csv', index=False)\n",
    "deaths_age.to_csv(processed_folder/'malaria_deaths_age_processed.csv', index=False)\n",
    "inc.to_csv(processed_folder/'malaria_inc_processed.csv', index=False)"
   ]
  },
  {
   "cell_type": "code",
   "execution_count": null,
   "id": "f0ca0ed6",
   "metadata": {},
   "outputs": [],
   "source": []
  }
 ],
 "metadata": {
  "kernelspec": {
   "display_name": "Python 3 (ipykernel)",
   "language": "python",
   "name": "python3"
  },
  "language_info": {
   "codemirror_mode": {
    "name": "ipython",
    "version": 3
   },
   "file_extension": ".py",
   "mimetype": "text/x-python",
   "name": "python",
   "nbconvert_exporter": "python",
   "pygments_lexer": "ipython3",
   "version": "3.7.11"
  },
  "toc": {
   "base_numbering": 1,
   "nav_menu": {},
   "number_sections": true,
   "sideBar": true,
   "skip_h1_title": false,
   "title_cell": "Table of Contents",
   "title_sidebar": "Contents",
   "toc_cell": true,
   "toc_position": {
    "height": "calc(100% - 180px)",
    "left": "10px",
    "top": "150px",
    "width": "303.825px"
   },
   "toc_section_display": true,
   "toc_window_display": false
  }
 },
 "nbformat": 4,
 "nbformat_minor": 5
}
