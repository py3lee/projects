{
 "cells": [
  {
   "cell_type": "markdown",
   "id": "c979479a",
   "metadata": {
    "toc": true
   },
   "source": [
    "<h1>Table of Contents<span class=\"tocSkip\"></span></h1>\n",
    "<div class=\"toc\"><ul class=\"toc-item\"><li><span><a href=\"#Introduction\" data-toc-modified-id=\"Introduction-1\"><span class=\"toc-item-num\">1&nbsp;&nbsp;</span>Introduction</a></span><ul class=\"toc-item\"><li><span><a href=\"#Data-preprocessing-steps:\" data-toc-modified-id=\"Data-preprocessing-steps:-1.1\"><span class=\"toc-item-num\">1.1&nbsp;&nbsp;</span>Data preprocessing steps:</a></span><ul class=\"toc-item\"><li><span><a href=\"#malaria_deaths.csv-->-malaria_processed_deaths.csv:-deaths\" data-toc-modified-id=\"malaria_deaths.csv-->-malaria_processed_deaths.csv:-deaths-1.1.1\"><span class=\"toc-item-num\">1.1.1&nbsp;&nbsp;</span><strong>malaria_deaths.csv -&gt; malaria_processed_deaths.csv: <code>deaths</code></strong></a></span></li><li><span><a href=\"#malaria_deaths_age.csv-->-malaria_deaths_age_processed.csv:-deaths_age\" data-toc-modified-id=\"malaria_deaths_age.csv-->-malaria_deaths_age_processed.csv:-deaths_age-1.1.2\"><span class=\"toc-item-num\">1.1.2&nbsp;&nbsp;</span><strong>malaria_deaths_age.csv -&gt; malaria_deaths_age_processed.csv: <code>deaths_age</code></strong></a></span></li><li><span><a href=\"#malaria_inc.csv-->-malaria_inc_processed.csv:-inc\" data-toc-modified-id=\"malaria_inc.csv-->-malaria_inc_processed.csv:-inc-1.1.3\"><span class=\"toc-item-num\">1.1.3&nbsp;&nbsp;</span><strong>malaria_inc.csv -&gt; malaria_inc_processed.csv: <code>inc</code></strong></a></span></li></ul></li></ul></li><li><span><a href=\"#Are-there-any-differences-in-the-csv-files-processed-using-R-or-python?\" data-toc-modified-id=\"Are-there-any-differences-in-the-csv-files-processed-using-R-or-python?-2\"><span class=\"toc-item-num\">2&nbsp;&nbsp;</span>Are there any differences in the csv files processed using R or python?</a></span><ul class=\"toc-item\"><li><span><a href=\"#Import-libraries\" data-toc-modified-id=\"Import-libraries-2.1\"><span class=\"toc-item-num\">2.1&nbsp;&nbsp;</span>Import libraries</a></span></li><li><span><a href=\"#Import-datasets\" data-toc-modified-id=\"Import-datasets-2.2\"><span class=\"toc-item-num\">2.2&nbsp;&nbsp;</span>Import datasets</a></span></li><li><span><a href=\"#malaria_deaths_age_processed.csv:-deaths_age\" data-toc-modified-id=\"malaria_deaths_age_processed.csv:-deaths_age-2.3\"><span class=\"toc-item-num\">2.3&nbsp;&nbsp;</span>malaria_deaths_age_processed.csv: <code>deaths_age</code></a></span><ul class=\"toc-item\"><li><span><a href=\"#Check-dataset-dimensions\" data-toc-modified-id=\"Check-dataset-dimensions-2.3.1\"><span class=\"toc-item-num\">2.3.1&nbsp;&nbsp;</span>Check dataset dimensions</a></span></li><li><span><a href=\"#dataset-structure-and-null-values\" data-toc-modified-id=\"dataset-structure-and-null-values-2.3.2\"><span class=\"toc-item-num\">2.3.2&nbsp;&nbsp;</span>dataset structure and null values</a></span></li><li><span><a href=\"#Are-both-dataframes-the-same?\" data-toc-modified-id=\"Are-both-dataframes-the-same?-2.3.3\"><span class=\"toc-item-num\">2.3.3&nbsp;&nbsp;</span>Are both dataframes the same?</a></span></li></ul></li><li><span><a href=\"#malaria_processed_deaths.csv:-deaths\" data-toc-modified-id=\"malaria_processed_deaths.csv:-deaths-2.4\"><span class=\"toc-item-num\">2.4&nbsp;&nbsp;</span>malaria_processed_deaths.csv: <code>deaths</code></a></span><ul class=\"toc-item\"><li><span><a href=\"#Check-dataset-dimensions\" data-toc-modified-id=\"Check-dataset-dimensions-2.4.1\"><span class=\"toc-item-num\">2.4.1&nbsp;&nbsp;</span>Check dataset dimensions</a></span></li><li><span><a href=\"#dataset-structure-and-null-values\" data-toc-modified-id=\"dataset-structure-and-null-values-2.4.2\"><span class=\"toc-item-num\">2.4.2&nbsp;&nbsp;</span>dataset structure and null values</a></span></li><li><span><a href=\"#Are-both-dataframes-the-same?\" data-toc-modified-id=\"Are-both-dataframes-the-same?-2.4.3\"><span class=\"toc-item-num\">2.4.3&nbsp;&nbsp;</span>Are both dataframes the same?</a></span></li></ul></li><li><span><a href=\"#malaria_inc_processed.csv:-inc\" data-toc-modified-id=\"malaria_inc_processed.csv:-inc-2.5\"><span class=\"toc-item-num\">2.5&nbsp;&nbsp;</span>malaria_inc_processed.csv: <code>inc</code></a></span><ul class=\"toc-item\"><li><span><a href=\"#Check-dataset-dimensions\" data-toc-modified-id=\"Check-dataset-dimensions-2.5.1\"><span class=\"toc-item-num\">2.5.1&nbsp;&nbsp;</span>Check dataset dimensions</a></span></li><li><span><a href=\"#dataset-structure-and-null-values\" data-toc-modified-id=\"dataset-structure-and-null-values-2.5.2\"><span class=\"toc-item-num\">2.5.2&nbsp;&nbsp;</span>dataset structure and null values</a></span></li><li><span><a href=\"#Are-both-dataframes-the-same?\" data-toc-modified-id=\"Are-both-dataframes-the-same?-2.5.3\"><span class=\"toc-item-num\">2.5.3&nbsp;&nbsp;</span>Are both dataframes the same?</a></span></li></ul></li></ul></li></ul></div>"
   ]
  },
  {
   "cell_type": "markdown",
   "id": "cd78590f",
   "metadata": {},
   "source": [
    "# Introduction\n",
    "\n",
    "In this current repository, three (3) csv files from [this Github repo](https://github.com/rfordatascience/tidytuesday/tree/master/data/2018/2018-11-13) were preprocessed using python and R. \n",
    "\n",
    "\n",
    "## Data preprocessing steps:\n",
    "\n",
    "### **malaria_deaths.csv -> malaria_processed_deaths.csv: `deaths`**\n",
    "\n",
    "- Tidy up column names:\n",
    "  - lowercased all column names\n",
    "  - renamed column name for `'Deaths - Malaria - Sex: Both - Age: Age-standardized (Rate) (per 100,000 people)'` to `'age_std_death_rate'`  \n",
    "  \n",
    "- Imputed the missing `'Code'` values for 'Wales', 'England', 'Scotland', 'Northern Ireland' as 'GBR' as they represent the same geographic region of the United Kingdom   \n",
    "\n",
    "- Added a new column `'entity_type'` to allow subsetting of entity types:  \n",
    "  - `'Region'` : aggregated geographic regions, \n",
    "  - `'SDI`: Socio-demographic Index status  \n",
    "  - `'Country'`: entities with non-NA `'Code'` values  \n",
    "  - `'World'`: global aggregate, as indicated by entity value == 'World' \n",
    "  \n",
    "### **malaria_deaths_age.csv -> malaria_deaths_age_processed.csv: `deaths_age`**  \n",
    "\n",
    "- Dropped the row index column `'Unnamed: 0'` as it does not provide any useful information.  \n",
    "\n",
    "- Imputed the missing `'Code'` values for 'Wales', 'England', 'Scotland', 'Northern Ireland' as 'GBR' as they represent the same geographic region of the United Kingdom   \n",
    "\n",
    "- Added a new column `'entity_type'` to allow subsetting of entity types:  \n",
    "  - `'Region'` : aggregated geographic regions, \n",
    "  - `'SDI`: Socio-demographic Index status  \n",
    "  - `'Country'`: entities with non-NA `'Code'` values  \n",
    "  - `'World'`: global aggregate, as indicated by entity value == 'World' \n",
    "\n",
    "### **malaria_inc.csv -> malaria_inc_processed.csv: `inc`**  \n",
    "\n",
    "- Tidy up column names:\n",
    "  - lowercased all column names\n",
    "  - renamed column name for `'Incidence of malaria (per 1,000 population at risk) (per 1,000 population at risk)'` to `'malaria_incidence_1000'` \n",
    "  \n",
    "- Added a new column `'entity_type'` to allow subsetting of entity types:  \n",
    "  - `'Region'` : aggregated geographic regions, \n",
    "  - `'Country'`: entities with non-NA `'Code'` values,\n",
    "  - `'World'`: global aggregate, as indicated by entity value == 'World', \n",
    "  - `'Income/Demographic`: grouping by income or demographic status. These are entities that contain the following terms: \n",
    "    - 'Fragile and conflict affected situations',\n",
    "    - 'Heavily indebted poor countries (HIPC)',\n",
    "    - 'Late-demographic dividend',\n",
    "    - 'Least developed countries: UN classification',\n",
    "    - 'Low & middle income', \n",
    "    - 'Low income', \n",
    "    - 'Lower middle income',\n",
    "    - 'Middle income',\n",
    "    - 'Pre-demographic dividend',\n",
    "    - 'Upper middle income'\n",
    "\n",
    "--- \n",
    "# Are there any differences in the csv files processed using R or python?\n",
    "\n",
    "Let's check if there are any differences in the csv files processed using R or python:\n",
    "\n",
    "## Import libraries"
   ]
  },
  {
   "cell_type": "code",
   "execution_count": 1,
   "id": "c1fed5b0",
   "metadata": {
    "ExecuteTime": {
     "end_time": "2021-11-17T01:01:54.252342Z",
     "start_time": "2021-11-17T01:01:53.938911Z"
    }
   },
   "outputs": [],
   "source": [
    "import glob\n",
    "import numpy as np\n",
    "import pandas as pd\n",
    "from pathlib import Path"
   ]
  },
  {
   "cell_type": "markdown",
   "id": "a72e74bd",
   "metadata": {
    "ExecuteTime": {
     "end_time": "2021-11-17T00:34:51.841982Z",
     "start_time": "2021-11-17T00:34:51.829984Z"
    }
   },
   "source": [
    "## Import datasets"
   ]
  },
  {
   "cell_type": "code",
   "execution_count": 2,
   "id": "f0d07a69",
   "metadata": {
    "ExecuteTime": {
     "end_time": "2021-11-17T01:01:57.900064Z",
     "start_time": "2021-11-17T01:01:57.887065Z"
    },
    "scrolled": true
   },
   "outputs": [
    {
     "name": "stdout",
     "output_type": "stream",
     "text": [
      "Names of csv files in python folder: ['malaria_deaths_age_processed', 'malaria_deaths_processed', 'malaria_inc_processed'] \n",
      "    Names of csv files in R folder: ['malaria_deaths_age_processed', 'malaria_deaths_processed', 'malaria_inc_processed']\n",
      "File sizes of csv files in python folder (bytes): [1402157, 238252, 19811]\n",
      "File sizes of csv files in R folder (bytes): [1623009, 268269, 22774]\n"
     ]
    }
   ],
   "source": [
    "python_processed_folder = Path.cwd().parents[0]/'data/processed'\n",
    "r_processed_folder = Path.cwd().parents[0]/'data/processed/R'\n",
    "\n",
    "# get list of absolute file paths for all csv files in the respective folders\n",
    "python_data_filepaths = [file for file in glob.glob(f\"{python_processed_folder}/*.csv\")]\n",
    "r_data_filepaths = [file for file in glob.glob(f\"{r_processed_folder}/*.csv\")]\n",
    "\n",
    "print(\n",
    "    f'Names of csv files in python folder: {[Path(file).stem for file in python_data_filepaths]} \\n\\\n",
    "    Names of csv files in R folder: {[Path(file).stem for file in r_data_filepaths]}'\n",
    ")\n",
    "\n",
    "print(\n",
    "    f'File sizes of csv files in python folder (bytes): {[Path(file).stat().st_size for file in python_data_filepaths]}'\n",
    ")\n",
    "print(\n",
    "    f'File sizes of csv files in R folder (bytes): {[Path(file).stat().st_size for file in r_data_filepaths]}'\n",
    ")"
   ]
  },
  {
   "cell_type": "markdown",
   "id": "aa3d67b9",
   "metadata": {},
   "source": [
    "These are all separate files with different file sizes. "
   ]
  },
  {
   "cell_type": "code",
   "execution_count": 3,
   "id": "9355f656",
   "metadata": {
    "ExecuteTime": {
     "end_time": "2021-11-17T01:02:02.185302Z",
     "start_time": "2021-11-17T01:02:02.127807Z"
    }
   },
   "outputs": [],
   "source": [
    "# csv files processed using python\n",
    "deaths_age_py = pd.read_csv(python_data_filepaths[0])\n",
    "deaths_py = pd.read_csv(python_data_filepaths[1])\n",
    "inc_py = pd.read_csv(python_data_filepaths[2])\n",
    "\n",
    "# csv files processed using R\n",
    "deaths_age_r = pd.read_csv(r_data_filepaths[0])\n",
    "deaths_r = pd.read_csv(r_data_filepaths[1])\n",
    "inc_r = pd.read_csv(r_data_filepaths[2])"
   ]
  },
  {
   "cell_type": "markdown",
   "id": "bac7b788",
   "metadata": {},
   "source": [
    "## malaria_deaths_age_processed.csv: `deaths_age`"
   ]
  },
  {
   "cell_type": "markdown",
   "id": "e7a9e09f",
   "metadata": {},
   "source": [
    "### Check dataset dimensions"
   ]
  },
  {
   "cell_type": "code",
   "execution_count": 4,
   "id": "58f656d2",
   "metadata": {
    "ExecuteTime": {
     "end_time": "2021-11-17T01:02:04.732497Z",
     "start_time": "2021-11-17T01:02:04.711497Z"
    }
   },
   "outputs": [
    {
     "data": {
      "text/plain": [
       "(30780, 6)"
      ]
     },
     "execution_count": 4,
     "metadata": {},
     "output_type": "execute_result"
    }
   ],
   "source": [
    "deaths_age_py.shape"
   ]
  },
  {
   "cell_type": "code",
   "execution_count": 6,
   "id": "f0522a86",
   "metadata": {
    "ExecuteTime": {
     "end_time": "2021-11-17T01:02:25.565580Z",
     "start_time": "2021-11-17T01:02:25.559578Z"
    }
   },
   "outputs": [
    {
     "data": {
      "text/plain": [
       "(30780, 6)"
      ]
     },
     "execution_count": 6,
     "metadata": {},
     "output_type": "execute_result"
    }
   ],
   "source": [
    "deaths_age_r.shape"
   ]
  },
  {
   "cell_type": "markdown",
   "id": "a361f5e9",
   "metadata": {},
   "source": [
    "### dataset structure and null values"
   ]
  },
  {
   "cell_type": "code",
   "execution_count": 7,
   "id": "fb10a460",
   "metadata": {
    "ExecuteTime": {
     "end_time": "2021-11-17T01:02:26.681894Z",
     "start_time": "2021-11-17T01:02:26.663887Z"
    },
    "scrolled": true
   },
   "outputs": [
    {
     "name": "stdout",
     "output_type": "stream",
     "text": [
      "<class 'pandas.core.frame.DataFrame'>\n",
      "RangeIndex: 30780 entries, 0 to 30779\n",
      "Data columns (total 6 columns):\n",
      " #   Column       Non-Null Count  Dtype  \n",
      "---  ------       --------------  -----  \n",
      " 0   entity       30780 non-null  object \n",
      " 1   code         27000 non-null  object \n",
      " 2   year         30780 non-null  int64  \n",
      " 3   age_group    30780 non-null  object \n",
      " 4   deaths       30780 non-null  float64\n",
      " 5   entity_type  30780 non-null  object \n",
      "dtypes: float64(1), int64(1), object(4)\n",
      "memory usage: 1.4+ MB\n"
     ]
    }
   ],
   "source": [
    "deaths_age_py.info()"
   ]
  },
  {
   "cell_type": "code",
   "execution_count": 8,
   "id": "55469830",
   "metadata": {
    "ExecuteTime": {
     "end_time": "2021-11-17T01:02:27.153304Z",
     "start_time": "2021-11-17T01:02:27.135347Z"
    },
    "scrolled": true
   },
   "outputs": [
    {
     "name": "stdout",
     "output_type": "stream",
     "text": [
      "<class 'pandas.core.frame.DataFrame'>\n",
      "RangeIndex: 30780 entries, 0 to 30779\n",
      "Data columns (total 6 columns):\n",
      " #   Column       Non-Null Count  Dtype  \n",
      "---  ------       --------------  -----  \n",
      " 0   entity       30780 non-null  object \n",
      " 1   code         27000 non-null  object \n",
      " 2   year         30780 non-null  int64  \n",
      " 3   age_group    30780 non-null  object \n",
      " 4   deaths       30780 non-null  float64\n",
      " 5   entity_type  30780 non-null  object \n",
      "dtypes: float64(1), int64(1), object(4)\n",
      "memory usage: 1.4+ MB\n"
     ]
    }
   ],
   "source": [
    "deaths_age_r.info()"
   ]
  },
  {
   "cell_type": "markdown",
   "id": "b611cbf9",
   "metadata": {},
   "source": [
    "### Are both dataframes the same?"
   ]
  },
  {
   "cell_type": "code",
   "execution_count": 9,
   "id": "db6df5ac",
   "metadata": {
    "ExecuteTime": {
     "end_time": "2021-11-17T01:02:28.511603Z",
     "start_time": "2021-11-17T01:02:28.495599Z"
    }
   },
   "outputs": [
    {
     "data": {
      "text/plain": [
       "True"
      ]
     },
     "execution_count": 9,
     "metadata": {},
     "output_type": "execute_result"
    }
   ],
   "source": [
    "deaths_age_py.equals(deaths_age_r)"
   ]
  },
  {
   "cell_type": "markdown",
   "id": "a0ead42a",
   "metadata": {},
   "source": [
    "## malaria_processed_deaths.csv: `deaths`"
   ]
  },
  {
   "cell_type": "markdown",
   "id": "fcfb7999",
   "metadata": {},
   "source": [
    "### Check dataset dimensions"
   ]
  },
  {
   "cell_type": "code",
   "execution_count": 10,
   "id": "0842292a",
   "metadata": {
    "ExecuteTime": {
     "end_time": "2021-11-17T01:02:31.297628Z",
     "start_time": "2021-11-17T01:02:31.288625Z"
    }
   },
   "outputs": [
    {
     "data": {
      "text/plain": [
       "(6156, 5)"
      ]
     },
     "execution_count": 10,
     "metadata": {},
     "output_type": "execute_result"
    }
   ],
   "source": [
    "deaths_py.shape"
   ]
  },
  {
   "cell_type": "code",
   "execution_count": 11,
   "id": "1255f0a5",
   "metadata": {
    "ExecuteTime": {
     "end_time": "2021-11-17T01:02:32.098086Z",
     "start_time": "2021-11-17T01:02:32.079785Z"
    }
   },
   "outputs": [
    {
     "data": {
      "text/plain": [
       "(6156, 5)"
      ]
     },
     "execution_count": 11,
     "metadata": {},
     "output_type": "execute_result"
    }
   ],
   "source": [
    "deaths_r.shape"
   ]
  },
  {
   "cell_type": "markdown",
   "id": "7f8dea95",
   "metadata": {},
   "source": [
    "### dataset structure and null values"
   ]
  },
  {
   "cell_type": "code",
   "execution_count": 12,
   "id": "861566d8",
   "metadata": {
    "ExecuteTime": {
     "end_time": "2021-11-17T01:02:40.111977Z",
     "start_time": "2021-11-17T01:02:40.102978Z"
    }
   },
   "outputs": [
    {
     "name": "stdout",
     "output_type": "stream",
     "text": [
      "<class 'pandas.core.frame.DataFrame'>\n",
      "RangeIndex: 6156 entries, 0 to 6155\n",
      "Data columns (total 5 columns):\n",
      " #   Column              Non-Null Count  Dtype  \n",
      "---  ------              --------------  -----  \n",
      " 0   entity              6156 non-null   object \n",
      " 1   code                5400 non-null   object \n",
      " 2   year                6156 non-null   int64  \n",
      " 3   age_std_death_rate  6156 non-null   float64\n",
      " 4   entity_type         6156 non-null   object \n",
      "dtypes: float64(1), int64(1), object(3)\n",
      "memory usage: 240.6+ KB\n"
     ]
    }
   ],
   "source": [
    "deaths_py.info()"
   ]
  },
  {
   "cell_type": "code",
   "execution_count": 13,
   "id": "a958334a",
   "metadata": {
    "ExecuteTime": {
     "end_time": "2021-11-17T01:02:47.940052Z",
     "start_time": "2021-11-17T01:02:47.927925Z"
    }
   },
   "outputs": [
    {
     "name": "stdout",
     "output_type": "stream",
     "text": [
      "<class 'pandas.core.frame.DataFrame'>\n",
      "RangeIndex: 6156 entries, 0 to 6155\n",
      "Data columns (total 5 columns):\n",
      " #   Column              Non-Null Count  Dtype  \n",
      "---  ------              --------------  -----  \n",
      " 0   entity              6156 non-null   object \n",
      " 1   code                5400 non-null   object \n",
      " 2   year                6156 non-null   int64  \n",
      " 3   age_std_death_rate  6156 non-null   float64\n",
      " 4   entity_type         6156 non-null   object \n",
      "dtypes: float64(1), int64(1), object(3)\n",
      "memory usage: 240.6+ KB\n"
     ]
    }
   ],
   "source": [
    "deaths_r.info()"
   ]
  },
  {
   "cell_type": "markdown",
   "id": "743b1267",
   "metadata": {},
   "source": [
    "### Are both dataframes the same?"
   ]
  },
  {
   "cell_type": "code",
   "execution_count": 14,
   "id": "d34d1b2b",
   "metadata": {
    "ExecuteTime": {
     "end_time": "2021-11-17T01:03:03.527941Z",
     "start_time": "2021-11-17T01:03:03.519941Z"
    }
   },
   "outputs": [
    {
     "data": {
      "text/plain": [
       "False"
      ]
     },
     "execution_count": 14,
     "metadata": {},
     "output_type": "execute_result"
    }
   ],
   "source": [
    "deaths_py.equals(deaths_r)"
   ]
  },
  {
   "cell_type": "markdown",
   "id": "4b4c9673",
   "metadata": {},
   "source": [
    "False means that at least one value is not the same. Checking each column individually:"
   ]
  },
  {
   "cell_type": "code",
   "execution_count": 46,
   "id": "79ef2e82",
   "metadata": {
    "ExecuteTime": {
     "end_time": "2021-11-17T01:17:19.717677Z",
     "start_time": "2021-11-17T01:17:19.711714Z"
    }
   },
   "outputs": [
    {
     "data": {
      "text/plain": [
       "True"
      ]
     },
     "execution_count": 46,
     "metadata": {},
     "output_type": "execute_result"
    }
   ],
   "source": [
    "# entity column\n",
    "deaths_py.entity.equals(deaths_r.entity)"
   ]
  },
  {
   "cell_type": "code",
   "execution_count": 47,
   "id": "c4641c1e",
   "metadata": {
    "ExecuteTime": {
     "end_time": "2021-11-17T01:17:25.581102Z",
     "start_time": "2021-11-17T01:17:25.568116Z"
    }
   },
   "outputs": [
    {
     "data": {
      "text/plain": [
       "True"
      ]
     },
     "execution_count": 47,
     "metadata": {},
     "output_type": "execute_result"
    }
   ],
   "source": [
    "# code column\n",
    "deaths_py.code.equals(deaths_r.code)"
   ]
  },
  {
   "cell_type": "code",
   "execution_count": 48,
   "id": "e93c0629",
   "metadata": {
    "ExecuteTime": {
     "end_time": "2021-11-17T01:17:31.334065Z",
     "start_time": "2021-11-17T01:17:31.329068Z"
    }
   },
   "outputs": [
    {
     "data": {
      "text/plain": [
       "True"
      ]
     },
     "execution_count": 48,
     "metadata": {},
     "output_type": "execute_result"
    }
   ],
   "source": [
    "# year column\n",
    "deaths_py.year.equals(deaths_r.year)"
   ]
  },
  {
   "cell_type": "code",
   "execution_count": 49,
   "id": "12f32b2f",
   "metadata": {
    "ExecuteTime": {
     "end_time": "2021-11-17T01:17:38.998071Z",
     "start_time": "2021-11-17T01:17:38.992070Z"
    }
   },
   "outputs": [
    {
     "data": {
      "text/plain": [
       "False"
      ]
     },
     "execution_count": 49,
     "metadata": {},
     "output_type": "execute_result"
    }
   ],
   "source": [
    "# age_std_death_rate column\n",
    "deaths_py.age_std_death_rate.equals(deaths_r.age_std_death_rate)"
   ]
  },
  {
   "cell_type": "code",
   "execution_count": 50,
   "id": "1ce6e0aa",
   "metadata": {
    "ExecuteTime": {
     "end_time": "2021-11-17T01:17:46.165140Z",
     "start_time": "2021-11-17T01:17:46.152097Z"
    }
   },
   "outputs": [
    {
     "data": {
      "text/plain": [
       "True"
      ]
     },
     "execution_count": 50,
     "metadata": {},
     "output_type": "execute_result"
    }
   ],
   "source": [
    "# entity_type column\n",
    "deaths_py.entity_type.equals(deaths_r.entity_type)"
   ]
  },
  {
   "cell_type": "markdown",
   "id": "a8bee8f6",
   "metadata": {
    "ExecuteTime": {
     "end_time": "2021-11-17T01:18:07.796982Z",
     "start_time": "2021-11-17T01:18:07.784028Z"
    }
   },
   "source": [
    "Checking the age_std_death_rate column summary statistics:"
   ]
  },
  {
   "cell_type": "code",
   "execution_count": 53,
   "id": "ab24d3ff",
   "metadata": {
    "ExecuteTime": {
     "end_time": "2021-11-17T01:18:46.520508Z",
     "start_time": "2021-11-17T01:18:46.511475Z"
    }
   },
   "outputs": [
    {
     "data": {
      "text/plain": [
       "count    6156.000000\n",
       "mean       16.375074\n",
       "std        38.606219\n",
       "min         0.000000\n",
       "25%         0.000000\n",
       "50%         0.020219\n",
       "75%         3.891035\n",
       "max       229.228881\n",
       "Name: age_std_death_rate, dtype: float64"
      ]
     },
     "execution_count": 53,
     "metadata": {},
     "output_type": "execute_result"
    }
   ],
   "source": [
    "# python file\n",
    "deaths_py.age_std_death_rate.describe()"
   ]
  },
  {
   "cell_type": "code",
   "execution_count": 54,
   "id": "02e883e6",
   "metadata": {
    "ExecuteTime": {
     "end_time": "2021-11-17T01:18:59.548801Z",
     "start_time": "2021-11-17T01:18:59.535819Z"
    }
   },
   "outputs": [
    {
     "data": {
      "text/plain": [
       "count    6156.000000\n",
       "mean       16.375074\n",
       "std        38.606219\n",
       "min         0.000000\n",
       "25%         0.000000\n",
       "50%         0.020219\n",
       "75%         3.891035\n",
       "max       229.228881\n",
       "Name: age_std_death_rate, dtype: float64"
      ]
     },
     "execution_count": 54,
     "metadata": {},
     "output_type": "execute_result"
    }
   ],
   "source": [
    "# R file\n",
    "deaths_r.age_std_death_rate.describe()"
   ]
  },
  {
   "cell_type": "code",
   "execution_count": 55,
   "id": "bae5a9b7",
   "metadata": {
    "ExecuteTime": {
     "end_time": "2021-11-17T01:19:14.902335Z",
     "start_time": "2021-11-17T01:19:14.880192Z"
    }
   },
   "outputs": [
    {
     "data": {
      "text/plain": [
       "count     True\n",
       "mean      True\n",
       "std      False\n",
       "min       True\n",
       "25%       True\n",
       "50%       True\n",
       "75%       True\n",
       "max       True\n",
       "Name: age_std_death_rate, dtype: bool"
      ]
     },
     "execution_count": 55,
     "metadata": {},
     "output_type": "execute_result"
    }
   ],
   "source": [
    "deaths_py.age_std_death_rate.describe() == deaths_r.age_std_death_rate.describe()"
   ]
  },
  {
   "cell_type": "markdown",
   "id": "59e135c8",
   "metadata": {},
   "source": [
    "The standard deviation of both files are 38.606219. The differences are likely due to floating point differences in the age_std_death_rate column when parsing the files"
   ]
  },
  {
   "cell_type": "code",
   "execution_count": 57,
   "id": "12d7c1d6",
   "metadata": {
    "ExecuteTime": {
     "end_time": "2021-11-17T01:23:06.958095Z",
     "start_time": "2021-11-17T01:23:06.952129Z"
    }
   },
   "outputs": [
    {
     "data": {
      "text/plain": [
       "7        7.592172\n",
       "10       7.939949\n",
       "16       8.459952\n",
       "17       8.266378\n",
       "19       7.817882\n",
       "          ...    \n",
       "6107    67.887307\n",
       "6124    25.170050\n",
       "6130     4.829650\n",
       "6131     4.881530\n",
       "6134     5.001814\n",
       "Name: age_std_death_rate, Length: 468, dtype: float64"
      ]
     },
     "execution_count": 57,
     "metadata": {},
     "output_type": "execute_result"
    }
   ],
   "source": [
    "# checking the subsetted data\n",
    "deaths_py.loc[\n",
    "    (deaths_py.age_std_death_rate != deaths_r.age_std_death_rate),\n",
    "    'age_std_death_rate'\n",
    "]"
   ]
  },
  {
   "cell_type": "code",
   "execution_count": 58,
   "id": "479f816f",
   "metadata": {
    "ExecuteTime": {
     "end_time": "2021-11-17T01:23:33.805493Z",
     "start_time": "2021-11-17T01:23:33.789805Z"
    }
   },
   "outputs": [
    {
     "data": {
      "text/plain": [
       "7        7.592172\n",
       "10       7.939949\n",
       "16       8.459952\n",
       "17       8.266378\n",
       "19       7.817882\n",
       "          ...    \n",
       "6107    67.887307\n",
       "6124    25.170050\n",
       "6130     4.829650\n",
       "6131     4.881530\n",
       "6134     5.001814\n",
       "Name: age_std_death_rate, Length: 468, dtype: float64"
      ]
     },
     "execution_count": 58,
     "metadata": {},
     "output_type": "execute_result"
    }
   ],
   "source": [
    "deaths_r.loc[\n",
    "    (deaths_r.age_std_death_rate != deaths_py.age_std_death_rate),\n",
    "    'age_std_death_rate'\n",
    "]"
   ]
  },
  {
   "cell_type": "code",
   "execution_count": 61,
   "id": "b233a9cc",
   "metadata": {
    "ExecuteTime": {
     "end_time": "2021-11-17T01:24:24.748222Z",
     "start_time": "2021-11-17T01:24:24.737177Z"
    },
    "scrolled": true
   },
   "outputs": [
    {
     "data": {
      "text/plain": [
       "entity                Afghanistan\n",
       "code                          AFG\n",
       "year                         2000\n",
       "age_std_death_rate       7.939949\n",
       "entity_type               Country\n",
       "Name: 10, dtype: object"
      ]
     },
     "execution_count": 61,
     "metadata": {},
     "output_type": "execute_result"
    }
   ],
   "source": [
    "deaths_py.iloc[10,:]  # manually inspecting row index 10"
   ]
  },
  {
   "cell_type": "code",
   "execution_count": 62,
   "id": "acab66b1",
   "metadata": {
    "ExecuteTime": {
     "end_time": "2021-11-17T01:24:53.593244Z",
     "start_time": "2021-11-17T01:24:53.577237Z"
    },
    "scrolled": true
   },
   "outputs": [
    {
     "data": {
      "text/plain": [
       "entity                Afghanistan\n",
       "code                          AFG\n",
       "year                         2000\n",
       "age_std_death_rate       7.939949\n",
       "entity_type               Country\n",
       "Name: 10, dtype: object"
      ]
     },
     "execution_count": 62,
     "metadata": {},
     "output_type": "execute_result"
    }
   ],
   "source": [
    "deaths_r.iloc[10,:]  # manually inspecting row index 10"
   ]
  },
  {
   "cell_type": "code",
   "execution_count": 63,
   "id": "ab762475",
   "metadata": {
    "ExecuteTime": {
     "end_time": "2021-11-17T01:26:13.096251Z",
     "start_time": "2021-11-17T01:26:13.081280Z"
    },
    "scrolled": true
   },
   "outputs": [
    {
     "data": {
      "text/plain": [
       "entity                   Zambia\n",
       "code                        ZMB\n",
       "year                       1995\n",
       "age_std_death_rate    67.887307\n",
       "entity_type             Country\n",
       "Name: 6107, dtype: object"
      ]
     },
     "execution_count": 63,
     "metadata": {},
     "output_type": "execute_result"
    }
   ],
   "source": [
    "deaths_py.iloc[6107,:]  # manually inspecting row index 6107"
   ]
  },
  {
   "cell_type": "code",
   "execution_count": 64,
   "id": "8642e050",
   "metadata": {
    "ExecuteTime": {
     "end_time": "2021-11-17T01:26:21.245366Z",
     "start_time": "2021-11-17T01:26:21.240365Z"
    }
   },
   "outputs": [
    {
     "data": {
      "text/plain": [
       "entity                   Zambia\n",
       "code                        ZMB\n",
       "year                       1995\n",
       "age_std_death_rate    67.887307\n",
       "entity_type             Country\n",
       "Name: 6107, dtype: object"
      ]
     },
     "execution_count": 64,
     "metadata": {},
     "output_type": "execute_result"
    }
   ],
   "source": [
    "deaths_r.iloc[6107,:]  # manually inspecting row index 6107"
   ]
  },
  {
   "cell_type": "markdown",
   "id": "2dde508c",
   "metadata": {},
   "source": [
    "The values are the same; the equals test failed likely due to floating point differences in the age_std_death_rate column when parsing the files"
   ]
  },
  {
   "cell_type": "markdown",
   "id": "e713e930",
   "metadata": {},
   "source": [
    "## malaria_inc_processed.csv: `inc`"
   ]
  },
  {
   "cell_type": "markdown",
   "id": "29c778bf",
   "metadata": {},
   "source": [
    "### Check dataset dimensions"
   ]
  },
  {
   "cell_type": "code",
   "execution_count": 36,
   "id": "2733f1ab",
   "metadata": {
    "ExecuteTime": {
     "end_time": "2021-11-17T01:12:57.996687Z",
     "start_time": "2021-11-17T01:12:57.991688Z"
    }
   },
   "outputs": [
    {
     "data": {
      "text/plain": [
       "(508, 5)"
      ]
     },
     "execution_count": 36,
     "metadata": {},
     "output_type": "execute_result"
    }
   ],
   "source": [
    "inc_py.shape"
   ]
  },
  {
   "cell_type": "code",
   "execution_count": 37,
   "id": "370c42ee",
   "metadata": {
    "ExecuteTime": {
     "end_time": "2021-11-17T01:13:03.767013Z",
     "start_time": "2021-11-17T01:13:03.760043Z"
    },
    "scrolled": true
   },
   "outputs": [
    {
     "data": {
      "text/plain": [
       "(508, 5)"
      ]
     },
     "execution_count": 37,
     "metadata": {},
     "output_type": "execute_result"
    }
   ],
   "source": [
    "inc_r.shape"
   ]
  },
  {
   "cell_type": "markdown",
   "id": "4dbe8227",
   "metadata": {},
   "source": [
    "### dataset structure and null values"
   ]
  },
  {
   "cell_type": "code",
   "execution_count": 38,
   "id": "c90380d3",
   "metadata": {
    "ExecuteTime": {
     "end_time": "2021-11-17T01:13:10.500037Z",
     "start_time": "2021-11-17T01:13:10.479998Z"
    }
   },
   "outputs": [
    {
     "name": "stdout",
     "output_type": "stream",
     "text": [
      "<class 'pandas.core.frame.DataFrame'>\n",
      "RangeIndex: 508 entries, 0 to 507\n",
      "Data columns (total 5 columns):\n",
      " #   Column                  Non-Null Count  Dtype  \n",
      "---  ------                  --------------  -----  \n",
      " 0   entity                  508 non-null    object \n",
      " 1   code                    400 non-null    object \n",
      " 2   year                    508 non-null    int64  \n",
      " 3   malaria_incidence_1000  508 non-null    float64\n",
      " 4   entity_type             508 non-null    object \n",
      "dtypes: float64(1), int64(1), object(3)\n",
      "memory usage: 20.0+ KB\n"
     ]
    }
   ],
   "source": [
    "inc_py.info()"
   ]
  },
  {
   "cell_type": "code",
   "execution_count": 39,
   "id": "d26bc039",
   "metadata": {
    "ExecuteTime": {
     "end_time": "2021-11-17T01:13:18.865564Z",
     "start_time": "2021-11-17T01:13:18.855564Z"
    },
    "scrolled": true
   },
   "outputs": [
    {
     "name": "stdout",
     "output_type": "stream",
     "text": [
      "<class 'pandas.core.frame.DataFrame'>\n",
      "RangeIndex: 508 entries, 0 to 507\n",
      "Data columns (total 5 columns):\n",
      " #   Column                  Non-Null Count  Dtype  \n",
      "---  ------                  --------------  -----  \n",
      " 0   entity                  508 non-null    object \n",
      " 1   code                    400 non-null    object \n",
      " 2   year                    508 non-null    int64  \n",
      " 3   malaria_incidence_1000  508 non-null    float64\n",
      " 4   entity_type             508 non-null    object \n",
      "dtypes: float64(1), int64(1), object(3)\n",
      "memory usage: 20.0+ KB\n"
     ]
    }
   ],
   "source": [
    "inc_r.info()"
   ]
  },
  {
   "cell_type": "markdown",
   "id": "cd9ea8af",
   "metadata": {},
   "source": [
    "### Are both dataframes the same?"
   ]
  },
  {
   "cell_type": "code",
   "execution_count": 40,
   "id": "1cdf451b",
   "metadata": {
    "ExecuteTime": {
     "end_time": "2021-11-17T01:13:34.279057Z",
     "start_time": "2021-11-17T01:13:34.264016Z"
    }
   },
   "outputs": [
    {
     "data": {
      "text/plain": [
       "True"
      ]
     },
     "execution_count": 40,
     "metadata": {},
     "output_type": "execute_result"
    }
   ],
   "source": [
    "inc_py.equals(inc_r)"
   ]
  },
  {
   "cell_type": "code",
   "execution_count": null,
   "id": "8390786b",
   "metadata": {},
   "outputs": [],
   "source": []
  }
 ],
 "metadata": {
  "kernelspec": {
   "display_name": "Python 3 (ipykernel)",
   "language": "python",
   "name": "python3"
  },
  "language_info": {
   "codemirror_mode": {
    "name": "ipython",
    "version": 3
   },
   "file_extension": ".py",
   "mimetype": "text/x-python",
   "name": "python",
   "nbconvert_exporter": "python",
   "pygments_lexer": "ipython3",
   "version": "3.7.11"
  },
  "toc": {
   "base_numbering": 1,
   "nav_menu": {},
   "number_sections": true,
   "sideBar": true,
   "skip_h1_title": false,
   "title_cell": "Table of Contents",
   "title_sidebar": "Contents",
   "toc_cell": true,
   "toc_position": {},
   "toc_section_display": true,
   "toc_window_display": true
  }
 },
 "nbformat": 4,
 "nbformat_minor": 5
}
