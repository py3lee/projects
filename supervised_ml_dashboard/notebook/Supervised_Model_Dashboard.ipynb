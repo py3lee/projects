{
 "cells": [
  {
   "cell_type": "code",
   "execution_count": 2,
   "id": "80770b46",
   "metadata": {
    "ExecuteTime": {
     "end_time": "2021-10-04T09:20:45.038705Z",
     "start_time": "2021-10-04T09:20:45.032727Z"
    }
   },
   "outputs": [],
   "source": [
    "import logging\n",
    "from flaml import logger\n",
    "logger.setLevel(logging.WARNING) # hide verbose outoput from AutoML"
   ]
  },
  {
   "cell_type": "code",
   "execution_count": 4,
   "id": "822655ae",
   "metadata": {
    "ExecuteTime": {
     "end_time": "2021-10-04T09:21:15.913725Z",
     "start_time": "2021-10-04T09:21:15.696053Z"
    },
    "code_folding": [],
    "scrolled": false
   },
   "outputs": [
    {
     "data": {
      "application/vnd.jupyter.widget-view+json": {
       "model_id": "f8594e7a884f4541880204c5f629d8f3",
       "version_major": 2,
       "version_minor": 0
      },
      "text/plain": [
       "VBox(children=(HTML(value='\\n\\n        <h2 style=\"text-align:center;\">Supervised Model Evaluation</h2>\\n\\n    …"
      ]
     },
     "metadata": {},
     "output_type": "display_data"
    }
   ],
   "source": [
    "##################\n",
    "# VAERS Modeling #\n",
    "##################\n",
    "\n",
    "import sys\n",
    "from pathlib import Path\n",
    "import pandas as pd\n",
    "\n",
    "#################\n",
    "# Custom import #\n",
    "#################\n",
    "\n",
    "src_path = Path.cwd().parents[0] / 'src'\n",
    "sys.path.insert(0, str(src_path))\n",
    "\n",
    "from visualization.voila_dashboard import Dashboard\n",
    "from config import config as cfg\n",
    "\n",
    "################\n",
    "# Load dataset #\n",
    "################\n",
    "\n",
    "df_path = Path.cwd().parents[0] / cfg.FILEPATH.get(\"model_filepath\")\n",
    "df = pd.read_csv(df_path)\n",
    "\n",
    "########################################################################\n",
    "# Run cell to display Supervised Modelling Dashboard for VAERS dataset # \n",
    "########################################################################\n",
    "\n",
    "dashboard = Dashboard(\n",
    "    df = df, \n",
    "    target = 'TARGET_SERIOUS_ADVERSE',\n",
    "    n_samples = 10, \n",
    "    cfg = cfg\n",
    ")"
   ]
  },
  {
   "cell_type": "code",
   "execution_count": null,
   "id": "20eb8cc4",
   "metadata": {},
   "outputs": [],
   "source": []
  }
 ],
 "metadata": {
  "hide_input": false,
  "kernelspec": {
   "display_name": "Python 3",
   "language": "python",
   "name": "python3"
  },
  "language_info": {
   "codemirror_mode": {
    "name": "ipython",
    "version": 3
   },
   "file_extension": ".py",
   "mimetype": "text/x-python",
   "name": "python",
   "nbconvert_exporter": "python",
   "pygments_lexer": "ipython3",
   "version": "3.7.10"
  },
  "toc": {
   "base_numbering": 1,
   "nav_menu": {},
   "number_sections": true,
   "sideBar": true,
   "skip_h1_title": false,
   "title_cell": "Table of Contents",
   "title_sidebar": "Contents",
   "toc_cell": true,
   "toc_position": {},
   "toc_section_display": true,
   "toc_window_display": false
  }
 },
 "nbformat": 4,
 "nbformat_minor": 5
}
